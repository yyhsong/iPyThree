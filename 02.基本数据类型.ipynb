{
 "cells": [
  {
   "cell_type": "code",
   "execution_count": 3,
   "metadata": {},
   "outputs": [
    {
     "name": "stdout",
     "output_type": "stream",
     "text": [
      "<class 'float'>\n",
      "True\n",
      "False\n",
      "True\n"
     ]
    }
   ],
   "source": [
    "\"\"\"标准数据类型\n",
    "\n",
    "数字 Number : int, float, bool, complex（复数）\n",
    "字符串 String\n",
    "布尔类型 bool\n",
    "列表 List\n",
    "元祖 Tuple\n",
    "字典 Dictionary\n",
    "集合 Set\n",
    "\"\"\"\n",
    "\n",
    "foo = 12.3\n",
    "\n",
    "# isinstance()会认为子类是一种父类类型\n",
    "# type()不会认为子类是一种父类类型\n",
    "print(type(foo))\n",
    "print(isinstance(foo, float))\n",
    "print(isinstance(foo, int))\n",
    "\n",
    "# bool是int的子类，True为1，False为0\n",
    "print(issubclass(bool, int))"
   ]
  },
  {
   "cell_type": "code",
   "execution_count": 5,
   "metadata": {},
   "outputs": [
    {
     "name": "stdout",
     "output_type": "stream",
     "text": [
      "6.300000000000001\n",
      "6.3\n"
     ]
    }
   ],
   "source": [
    "\"\"\"处理精确的浮点数运算\"\"\"\n",
    "\n",
    "from decimal import Decimal\n",
    "\n",
    "a = 4.2\n",
    "b = 2.1\n",
    "print(a + b)\n",
    "\n",
    "c = Decimal('4.2')\n",
    "d = Decimal('2.1')\n",
    "print(c + d)"
   ]
  },
  {
   "cell_type": "code",
   "execution_count": 12,
   "metadata": {},
   "outputs": [
    {
     "name": "stdout",
     "output_type": "stream",
     "text": [
      "1234.57\n",
      "    1234.6\n",
      "1234.6    \n",
      "  1234.6  \n",
      "1,234.5678\n",
      "1,234.6\n",
      "1.234568e+03\n",
      "1.23E+03\n",
      "This number is 1,234.57\n"
     ]
    }
   ],
   "source": [
    "\"\"\"数字的格式化显示\"\"\"\n",
    "\n",
    "n = 1234.5678\n",
    "\n",
    "# 保留两位小数，四舍五入\n",
    "print(format(n, '0.2f'))\n",
    "\n",
    "# 设置数字位数，保留一位小数，并且右对齐\n",
    "print(format(n, '>10.1f'))\n",
    "\n",
    "# 左对齐\n",
    "print(format(n, '<10.1f'))\n",
    "\n",
    "# 中间对齐\n",
    "print(format(n, '^10.1f'))\n",
    "\n",
    "# 设置千分位\n",
    "print(format(n, ','))\n",
    "\n",
    "# 设置千分位并只保留一位小数\n",
    "print(format(n, '0,.1f'))\n",
    "\n",
    "# 指数计数\n",
    "print(format(n, 'e'))\n",
    "\n",
    "# 指数计数，并只保留两位小数\n",
    "print(format(n, '0.2E'))\n",
    "\n",
    "# 在字符串中格式化数字\n",
    "print('This number is {:0,.2f}'.format(n))"
   ]
  },
  {
   "cell_type": "code",
   "execution_count": 16,
   "metadata": {},
   "outputs": [
    {
     "name": "stdout",
     "output_type": "stream",
     "text": [
      "0b10000000000\n",
      "0o2000\n",
      "0x400\n",
      "10000000000\n",
      "2000\n",
      "400\n",
      "1024\n",
      "1024\n",
      "1024\n"
     ]
    }
   ],
   "source": [
    "\"\"\"不同进制的转换\"\"\"\n",
    "\n",
    "n = 1024\n",
    "\n",
    "# 二进制\n",
    "print(bin(n))\n",
    "\n",
    "# 八进制\n",
    "print(oct(n))\n",
    "\n",
    "# 十六进制\n",
    "print(hex(n))\n",
    "\n",
    "# 使用format()函数进行进制转换，结果无前缀\n",
    "print(format(n, 'b'))\n",
    "print(format(n, 'o'))\n",
    "print(format(n, 'x'))\n",
    "\n",
    "# 其他进制转十进制\n",
    "print(int('10000000000', 2))\n",
    "print(int('2000', 8))\n",
    "print(int('400', 16))"
   ]
  },
  {
   "cell_type": "code",
   "execution_count": 19,
   "metadata": {},
   "outputs": [
    {
     "name": "stdout",
     "output_type": "stream",
     "text": [
      "inf\n",
      "-inf\n",
      "nan\n",
      "True\n",
      "True\n",
      "True\n"
     ]
    }
   ],
   "source": [
    "\"\"\"无穷大与NaN\"\"\"\n",
    "\n",
    "import math\n",
    "\n",
    "a = float('inf')\n",
    "b = float('-inf')\n",
    "c = float('nan')\n",
    "\n",
    "print(a)\n",
    "print(b)\n",
    "print(c)\n",
    "\n",
    "print(math.isinf(a))\n",
    "print(math.isinf(b))\n",
    "print(math.isnan(c))"
   ]
  },
  {
   "cell_type": "code",
   "execution_count": 22,
   "metadata": {},
   "outputs": [
    {
     "name": "stdout",
     "output_type": "stream",
     "text": [
      "7/4\n",
      "5/8\n",
      "5\n",
      "8\n",
      "0.625\n",
      "1/2\n"
     ]
    }
   ],
   "source": [
    "\"\"\"分数运算\"\"\"\n",
    "\n",
    "from fractions import Fraction\n",
    "\n",
    "# 第一个参数为分子，第二个参数为分母\n",
    "a = Fraction(1, 2)\n",
    "b = Fraction(5, 4)\n",
    "print(a + b)\n",
    "print(a * b)\n",
    "\n",
    "c = a * b\n",
    "# 获取分子\n",
    "print(c.numerator)\n",
    "# 获取分母\n",
    "print(c.denominator)\n",
    "# 转换为浮点数\n",
    "print(float(c))\n",
    "\n",
    "# 浮点数转分数\n",
    "x = 0.5\n",
    "y = Fraction(*x.as_integer_ratio())\n",
    "print(y)"
   ]
  },
  {
   "cell_type": "code",
   "execution_count": 53,
   "metadata": {},
   "outputs": [
    {
     "name": "stdout",
     "output_type": "stream",
     "text": [
      "0.7179826003787753\n",
      "45\n",
      "66.19412160939582\n",
      "176.06618687614835\n"
     ]
    }
   ],
   "source": [
    "\"\"\"生成随机数\"\"\"\n",
    "\n",
    "import random\n",
    "\n",
    "# 生成0到1之间的随机浮点数\n",
    "print(random.random())\n",
    "\n",
    "# 生成某范围内的随机整数\n",
    "print(random.randint(1, 100))\n",
    "\n",
    "# 均匀分布随机数\n",
    "print(random.uniform(1, 100))\n",
    "\n",
    "# 高斯分布随机数\n",
    "print(random.gauss(1, 100))"
   ]
  },
  {
   "cell_type": "code",
   "execution_count": 54,
   "metadata": {},
   "outputs": [
    {
     "name": "stdout",
     "output_type": "stream",
     "text": [
      "3\n",
      "[8, 6, 7]\n",
      "[2, 3, 7, 4, 6, 1, 9, 5, 8]\n"
     ]
    }
   ],
   "source": [
    "\"\"\"随机选择\"\"\"\n",
    "\n",
    "import random\n",
    "\n",
    "nums = [1, 2, 3, 4, 5, 6, 7, 8, 9]\n",
    "\n",
    "# 随机选择一个元素\n",
    "print(random.choice(nums))\n",
    "\n",
    "# 随机提前N个元素\n",
    "print(random.sample(nums, 3))\n",
    "\n",
    "# 随机乱序\n",
    "random.shuffle(nums)\n",
    "print(nums)"
   ]
  }
 ],
 "metadata": {
  "kernelspec": {
   "display_name": "Python 3 (ipykernel)",
   "language": "python",
   "name": "python3"
  },
  "language_info": {
   "codemirror_mode": {
    "name": "ipython",
    "version": 3
   },
   "file_extension": ".py",
   "mimetype": "text/x-python",
   "name": "python",
   "nbconvert_exporter": "python",
   "pygments_lexer": "ipython3",
   "version": "3.11.4"
  }
 },
 "nbformat": 4,
 "nbformat_minor": 2
}
