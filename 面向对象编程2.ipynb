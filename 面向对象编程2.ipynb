{
 "cells": [
  {
   "cell_type": "code",
   "execution_count": 3,
   "metadata": {},
   "outputs": [
    {
     "name": "stdout",
     "output_type": "stream",
     "text": [
      "99\n"
     ]
    },
    {
     "ename": "ValueError",
     "evalue": "score must between 0 and 100",
     "output_type": "error",
     "traceback": [
      "\u001b[1;31m---------------------------------------------------------------------------\u001b[0m",
      "\u001b[1;31mValueError\u001b[0m                                Traceback (most recent call last)",
      "\u001b[1;32m<ipython-input-3-8bcadb75546c>\u001b[0m in \u001b[0;36m<module>\u001b[1;34m\u001b[0m\n\u001b[0;32m     23\u001b[0m \u001b[0mprint\u001b[0m\u001b[1;33m(\u001b[0m\u001b[0ms\u001b[0m\u001b[1;33m.\u001b[0m\u001b[0mscore\u001b[0m\u001b[1;33m)\u001b[0m\u001b[1;33m\u001b[0m\u001b[1;33m\u001b[0m\u001b[0m\n\u001b[0;32m     24\u001b[0m \u001b[1;33m\u001b[0m\u001b[0m\n\u001b[1;32m---> 25\u001b[1;33m \u001b[0ms\u001b[0m\u001b[1;33m.\u001b[0m\u001b[0mscore\u001b[0m \u001b[1;33m=\u001b[0m \u001b[1;36m101\u001b[0m\u001b[1;33m\u001b[0m\u001b[1;33m\u001b[0m\u001b[0m\n\u001b[0m",
      "\u001b[1;32m<ipython-input-3-8bcadb75546c>\u001b[0m in \u001b[0;36mscore\u001b[1;34m(self, value)\u001b[0m\n\u001b[0;32m     15\u001b[0m             \u001b[1;32mraise\u001b[0m \u001b[0mValueError\u001b[0m\u001b[1;33m(\u001b[0m\u001b[1;34m'score must be an integer'\u001b[0m\u001b[1;33m)\u001b[0m\u001b[1;33m\u001b[0m\u001b[1;33m\u001b[0m\u001b[0m\n\u001b[0;32m     16\u001b[0m         \u001b[1;32mif\u001b[0m \u001b[0mvalue\u001b[0m \u001b[1;33m<\u001b[0m \u001b[1;36m0\u001b[0m \u001b[1;32mor\u001b[0m \u001b[0mvalue\u001b[0m \u001b[1;33m>\u001b[0m \u001b[1;36m100\u001b[0m\u001b[1;33m:\u001b[0m\u001b[1;33m\u001b[0m\u001b[1;33m\u001b[0m\u001b[0m\n\u001b[1;32m---> 17\u001b[1;33m             \u001b[1;32mraise\u001b[0m \u001b[0mValueError\u001b[0m\u001b[1;33m(\u001b[0m\u001b[1;34m'score must between 0 and 100'\u001b[0m\u001b[1;33m)\u001b[0m\u001b[1;33m\u001b[0m\u001b[1;33m\u001b[0m\u001b[0m\n\u001b[0m\u001b[0;32m     18\u001b[0m         \u001b[0mself\u001b[0m\u001b[1;33m.\u001b[0m\u001b[0m_score\u001b[0m \u001b[1;33m=\u001b[0m \u001b[0mvalue\u001b[0m\u001b[1;33m\u001b[0m\u001b[1;33m\u001b[0m\u001b[0m\n\u001b[0;32m     19\u001b[0m \u001b[1;33m\u001b[0m\u001b[0m\n",
      "\u001b[1;31mValueError\u001b[0m: score must between 0 and 100"
     ]
    }
   ],
   "source": [
    "\"\"\"@property装饰器\n",
    "\n",
    "Python内置的@property装饰器\n",
    "负责把一个方法变成属性调用，简化对属性的getter/setter操作\n",
    "\"\"\"\n",
    "\n",
    "class Student:\n",
    "    \n",
    "    @property\n",
    "    def score(self):\n",
    "        return self._score\n",
    "    \n",
    "    @score.setter\n",
    "    def score(self, value):\n",
    "        if not isinstance(value, int):\n",
    "            raise ValueError('score must be an integer')\n",
    "        if value < 0 or value > 100:\n",
    "            raise ValueError('score must between 0 and 100')\n",
    "        self._score = value\n",
    "        \n",
    "\n",
    "s = Student()\n",
    "s.score = 99\n",
    "print(s.score)\n",
    "\n",
    "s.score = 101"
   ]
  },
  {
   "cell_type": "code",
   "execution_count": 4,
   "metadata": {},
   "outputs": [
    {
     "name": "stdout",
     "output_type": "stream",
     "text": [
      "半径： 3\n",
      "直径： 6\n",
      "周长： 18.84955592153876\n",
      "面积： 28.274333882308138\n"
     ]
    }
   ],
   "source": [
    "# 使用@property装饰器创建动态（只读）属性\n",
    "# 动态（只读）属性不会被实际存储，而是在需要的时候被计算出来\n",
    "\n",
    "import math\n",
    "\n",
    "class Circle:\n",
    "    \n",
    "    def __init__(self, r):\n",
    "        self.r = r\n",
    "    \n",
    "    @property\n",
    "    def diameter(self):\n",
    "        return self.r * 2\n",
    "    \n",
    "    @property\n",
    "    def perimeter(self):\n",
    "        return 2 * math.pi * self.r\n",
    "    \n",
    "    @property\n",
    "    def area(self):\n",
    "        return math.pi * self.r ** 2\n",
    "    \n",
    "    \n",
    "# 测试\n",
    "c = Circle(3)\n",
    "print('半径：', c.r)\n",
    "print('直径：', c.diameter)\n",
    "print('周长：', c.perimeter)\n",
    "print('面积：', c.area)"
   ]
  },
  {
   "cell_type": "code",
   "execution_count": 5,
   "metadata": {},
   "outputs": [
    {
     "name": "stdout",
     "output_type": "stream",
     "text": [
      "计算直径：\n",
      "6\n",
      "计算周长：\n",
      "18.84955592153876\n",
      "计算面积：\n",
      "28.274333882308138\n"
     ]
    }
   ],
   "source": [
    "\"\"\"装饰器\n",
    "\n",
    "装饰器类可以实现大部分类特性中的底层魔术方法，包括@classmethod @staticmethod @property，甚至__slots__属性\n",
    "通过定义一个装饰器类，可以在底层捕获核心的实例操作（get、set、delete），并且可完全自定义它们的行为\n",
    "装饰器只能在类级别被定义，而不能为每个实例单独定义\n",
    "定义一个延迟计算属性的高效方法是通过使用装饰器类\n",
    "\"\"\"\n",
    "\n",
    "# 自定义装饰器类\n",
    "class lazyproperty:\n",
    "    \n",
    "    def __init__(self, func):\n",
    "        self.func = func\n",
    "        \n",
    "    def __get__(self, instance, cls):\n",
    "        if instance is None:\n",
    "            return self\n",
    "        else:\n",
    "            value = self.func(instance)\n",
    "            setattr(instance, self.func.__name__, value)\n",
    "            return value\n",
    "\n",
    "        \n",
    "# 在其他类中使用描述器类\n",
    "import math\n",
    "\n",
    "class Circle:\n",
    "    def __init__(self, radius):\n",
    "        self.radius = radius\n",
    "        \n",
    "    @lazyproperty\n",
    "    def diameter(self):\n",
    "        print('计算直径：')\n",
    "        return self.radius * 2\n",
    "    \n",
    "    @lazyproperty\n",
    "    def perimeter(self):\n",
    "        print('计算周长：')\n",
    "        return 2 * math.pi * self.radius\n",
    "    \n",
    "    @lazyproperty\n",
    "    def area(self):\n",
    "        print('计算面积：')\n",
    "        return math.pi * self.radius ** 2\n",
    "    \n",
    "    \n",
    "# 测试\n",
    "c = Circle(3)\n",
    "print(c.diameter)\n",
    "print(c.perimeter)\n",
    "print(c.area)"
   ]
  },
  {
   "cell_type": "code",
   "execution_count": 6,
   "metadata": {},
   "outputs": [
    {
     "name": "stdout",
     "output_type": "stream",
     "text": [
      "Setting name to Jordan\n",
      "Getting name\n",
      "Jordan\n",
      "Setting name to James\n",
      "Getting name\n",
      "James\n"
     ]
    }
   ],
   "source": [
    "# 在类中，一个property其实是getter、setter和deleter方法的集合，而不是单个方法\n",
    "# 父类\n",
    "class SuperPerson:\n",
    "    \n",
    "    def __init__(self, name):\n",
    "        self.name = name\n",
    "        \n",
    "    # Getter\n",
    "    @property\n",
    "    def name(self):\n",
    "        return self._name\n",
    "    \n",
    "    # Setter\n",
    "    @name.setter\n",
    "    def name(self, value):\n",
    "        if not isinstance(value, str):\n",
    "            raise TypeError('Expected a string')\n",
    "        self._name = value\n",
    "        \n",
    "    # Deleter\n",
    "    @name.deleter\n",
    "    def name(self):\n",
    "        raise AttributeError('Can\\'t delete attribute')\n",
    "        \n",
    "\n",
    "# 在子类中扩展property\n",
    "# 当扩展一个property的时候，需要先确定是否要重新定义所有的方法还是只修改其中某一个\n",
    "# 子类\n",
    "class SubPerson(SuperPerson):\n",
    "    \n",
    "    # Getter\n",
    "    @property\n",
    "    def name(self):\n",
    "        print('Getting name')\n",
    "        return super().name\n",
    "    \n",
    "    # Setter\n",
    "    @name.setter\n",
    "    def name(self, value):\n",
    "        print('Setting name to', value)\n",
    "        super(SubPerson, SubPerson).name.__set__(self, value)\n",
    "    \n",
    "    # Deleter\n",
    "    @name.deleter\n",
    "    def name(self):\n",
    "        print('Deleting name')\n",
    "        super(SubPerson, SubPerson).name.__delete__(self)\n",
    "        \n",
    "\n",
    "# 测试\n",
    "person = SubPerson('Jordan')\n",
    "print(person.name)\n",
    "person.name = 'James'\n",
    "print(person.name)"
   ]
  },
  {
   "cell_type": "code",
   "execution_count": 18,
   "metadata": {},
   "outputs": [
    {
     "name": "stdout",
     "output_type": "stream",
     "text": [
      "This is Circle R3\n",
      "Circle(3)\n"
     ]
    },
    {
     "data": {
      "text/plain": [
       "Circle(3)"
      ]
     },
     "execution_count": 18,
     "metadata": {},
     "output_type": "execute_result"
    }
   ],
   "source": [
    "# 改变对象实例的打印或显示输出，使其更有可读性\n",
    "# 重新定义类的__repr__和__str__方法\n",
    "# __repr__方法返回实例的代码表示，通常用来重新构造这个实例，可以在使用交互式解析器（如Jupyter Notebook）时显示\n",
    "# __str__方法将实例转换为一个字符串，使用str()和print()函数会输出这个字符串\n",
    "\n",
    "\n",
    "class Circle:\n",
    "    \n",
    "    def __init__(self, r):\n",
    "        self.r = r\n",
    "    \n",
    "    def __repr__(self):\n",
    "        return 'Circle({0.r})'.format(self)\n",
    "    \n",
    "    def __str__(self):\n",
    "        return 'This is Circle R{0.r}'.format(self)\n",
    "\n",
    "\n",
    "# 测试    \n",
    "p = Circle(3)\n",
    "print(p)\n",
    "\n",
    "# !r格式化指明使用__repr__来代替默认的__str__\n",
    "print('{0!r}'.format(p))\n",
    "\n",
    "# 交互式解释器输出\n",
    "p"
   ]
  },
  {
   "cell_type": "code",
   "execution_count": 25,
   "metadata": {},
   "outputs": [
    {
     "name": "stdout",
     "output_type": "stream",
     "text": [
      "2020-4-24\n",
      "4/24/2020\n",
      "Today is 24/4/2020\n"
     ]
    }
   ],
   "source": [
    "# 通过format()函数和字符串方法使对象支持自定义的格式化\n",
    "\n",
    "# 集合\n",
    "_formats = {\n",
    "    'ymd': '{d.year}-{d.month}-{d.day}',\n",
    "    'mdy': '{d.month}/{d.day}/{d.year}',\n",
    "    'dmy': '{d.day}/{d.month}/{d.year}'\n",
    "}\n",
    "\n",
    "\n",
    "class Fdate:\n",
    "    \n",
    "    def __init__(self, year, month, day):\n",
    "        self.year = year\n",
    "        self.month = month\n",
    "        self.day = day\n",
    "        \n",
    "    def __format__(self, code):\n",
    "        if code == '':\n",
    "            code = 'ymd'\n",
    "        fmt = _formats[code]\n",
    "        return fmt.format(d = self)\n",
    "    \n",
    "    \n",
    "# 测试\n",
    "fd = Fdate(2020, 4, 24)\n",
    "print(format(fd))\n",
    "print(format(fd, 'mdy'))\n",
    "print('Today is {:dmy}'.format(fd))"
   ]
  }
 ],
 "metadata": {
  "kernelspec": {
   "display_name": "Python 3",
   "language": "python",
   "name": "python3"
  },
  "language_info": {
   "codemirror_mode": {
    "name": "ipython",
    "version": 3
   },
   "file_extension": ".py",
   "mimetype": "text/x-python",
   "name": "python",
   "nbconvert_exporter": "python",
   "pygments_lexer": "ipython3",
   "version": "3.7.1"
  }
 },
 "nbformat": 4,
 "nbformat_minor": 2
}
