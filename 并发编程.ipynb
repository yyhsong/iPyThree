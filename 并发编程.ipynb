{
 "cells": [
  {
   "cell_type": "code",
   "execution_count": 2,
   "metadata": {},
   "outputs": [
    {
     "name": "stdout",
     "output_type": "stream",
     "text": [
      "Countdown: Running...\n",
      " 10\n",
      "Countdown:  9\n",
      "Countdown:  8\n",
      "Countdown:  7\n",
      "Countdown:  6\n",
      "Countdown:  5\n",
      "Countdown:  4\n",
      "Countdown:  3\n",
      "Countdown:  2\n",
      "Countdown:  1\n"
     ]
    }
   ],
   "source": [
    "\"\"\"多线程的基本使用\n",
    "\n",
    "threading库可以在单独的线程中执行任何可调用的对象\n",
    "创建好的线程不会立即执行，除非调用它的start()方法\n",
    "\"\"\"\n",
    "\n",
    "from threading import Thread\n",
    "import time\n",
    "\n",
    "# 目标函数\n",
    "def countdown(n):\n",
    "    while n > 0:\n",
    "        print('Countdown: ', n)\n",
    "        n -= 1\n",
    "        time.sleep(1)\n",
    "        \n",
    "# 启动线程\n",
    "t = Thread(target=countdown, args=(10,))\n",
    "t.start()\n",
    "\n",
    "# 判断线程的执行状态\n",
    "if t.is_alive():\n",
    "    print('Running...')\n",
    "else:\n",
    "    print('Completed!')\n",
    "    \n",
    "# 后台执行需要长时间运行的线程\n",
    "# t = Thread(target=countdown, args=(10,), daemon=True)"
   ]
  }
 ],
 "metadata": {
  "kernelspec": {
   "display_name": "Python 3",
   "language": "python",
   "name": "python3"
  },
  "language_info": {
   "codemirror_mode": {
    "name": "ipython",
    "version": 3
   },
   "file_extension": ".py",
   "mimetype": "text/x-python",
   "name": "python",
   "nbconvert_exporter": "python",
   "pygments_lexer": "ipython3",
   "version": "3.7.1"
  }
 },
 "nbformat": 4,
 "nbformat_minor": 2
}
