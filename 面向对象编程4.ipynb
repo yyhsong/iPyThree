{
 "cells": [
  {
   "cell_type": "code",
   "execution_count": 4,
   "metadata": {},
   "outputs": [
    {
     "name": "stdout",
     "output_type": "stream",
     "text": [
      "1\t1\t2\t3\t5\t8\t13\t21\t34\t55\t89\t144\t233\t377\t610\t987\t1597\t2584\t4181\t6765\t"
     ]
    }
   ],
   "source": [
    "\"\"\"定制类\n",
    "\n",
    "Python类允许许多定制方法，可以非常方便地生成特定的类\n",
    "\"\"\"\n",
    "\n",
    "\"\"\"__iter__\n",
    "\n",
    "如果一个类想被用于for...in循环，就必须实现一个__iter__()方法，\n",
    "该方法返回一个可迭代对象，\n",
    "然后for循环就会不断调用该迭代对象的__next__()方法拿到循环的下一个值，\n",
    "直到遇到StopIteration错误时退出循环\n",
    "\"\"\"\n",
    "\n",
    "# 自定义一个输出斐波那契数列的类\n",
    "class Fib(object):\n",
    "    def __init__(self):\n",
    "        self.a, self.b = 0, 1  # 初始化两个计数器\n",
    "        \n",
    "    def __iter__(self):\n",
    "        return self  #  实例本身就是迭代对象，因此返回自己\n",
    "    \n",
    "    def __next__(self):\n",
    "        self.a, self.b = self.b, self.a + self.b  # 计算下一个值\n",
    "        if self.a > 10000:  # 退出循环条件\n",
    "            raise StopIteration()\n",
    "        return self.a  # 返回下一个值\n",
    "    \n",
    "\n",
    "# 测试\n",
    "for n in Fib():\n",
    "    print(n, end='\\t')"
   ]
  },
  {
   "cell_type": "code",
   "execution_count": 9,
   "metadata": {},
   "outputs": [
    {
     "name": "stdout",
     "output_type": "stream",
     "text": [
      "8\n",
      "[1, 1, 2, 3, 5, 8, 13, 21, 34, 55]\n"
     ]
    }
   ],
   "source": [
    "\"\"\"__getitem__\n",
    "\n",
    "实现像list一样按照下标获取元素，并实现简单切片功能\n",
    "\"\"\"\n",
    "\n",
    "class Fib:\n",
    "    def __getitem__(self, n):\n",
    "        if isinstance(n, int):  # n是索引\n",
    "            a, b = 1, 1\n",
    "            for x in range(n):\n",
    "                a, b = b, a + b\n",
    "            return a\n",
    "        if isinstance(n, slice):  # n是切片\n",
    "            start = n.start\n",
    "            stop = n.stop\n",
    "            if start is None:\n",
    "                start = 0\n",
    "            a, b = 1, 1\n",
    "            L = []\n",
    "            for x in range(stop):\n",
    "                if x >= start:\n",
    "                    L.append(a)\n",
    "                a, b = b, a + b\n",
    "            return L\n",
    "    \n",
    "# 测试   \n",
    "f = Fib()\n",
    "print(f[5])\n",
    "print(f[0:10])"
   ]
  },
  {
   "cell_type": "code",
   "execution_count": 10,
   "metadata": {},
   "outputs": [
    {
     "name": "stdout",
     "output_type": "stream",
     "text": [
      "Neo\n",
      "100\n"
     ]
    }
   ],
   "source": [
    "\"\"\"__getattr__\n",
    "\n",
    "在调用类的方法和属性时，对于不存在的方法和属性，会在__getattr__()方法中寻找\n",
    "\"\"\"\n",
    "\n",
    "class Student:\n",
    "    \n",
    "    def __init__(self):\n",
    "        self.name = 'Neo'\n",
    "        \n",
    "    def __getattr__(self, attr):\n",
    "        if attr == 'score':\n",
    "            return 100\n",
    "        \n",
    "# 测试\n",
    "s = Student()\n",
    "print(s.name)\n",
    "print(s.score)"
   ]
  },
  {
   "cell_type": "code",
   "execution_count": 12,
   "metadata": {},
   "outputs": [
    {
     "name": "stdout",
     "output_type": "stream",
     "text": [
      "My name is Neo\n"
     ]
    }
   ],
   "source": [
    "\"\"\"__call__\n",
    "\n",
    "任何类，只需定义__call__方法，就可以直接对实例进行调用\n",
    "\"\"\"\n",
    "\n",
    "class Student:\n",
    "    def __init__(self, name):\n",
    "        self.name = name\n",
    "        \n",
    "    def __call__(self):\n",
    "        print('My name is {0}'.format(self.name))\n",
    "        \n",
    "\n",
    "# 测试\n",
    "s = Student('Neo')\n",
    "s()  # 把实例当作函数直接调用"
   ]
  },
  {
   "cell_type": "code",
   "execution_count": 14,
   "metadata": {},
   "outputs": [
    {
     "name": "stdout",
     "output_type": "stream",
     "text": [
      "True\n",
      "True\n",
      "False\n",
      "False\n",
      "False\n"
     ]
    }
   ],
   "source": [
    "# 使用callable()函数判断对象是否能被调用\n",
    "\n",
    "print(callable(Student('Neo')))\n",
    "print(callable(abs))\n",
    "print(callable([1, 2, 3]))\n",
    "print(callable('str'))\n",
    "print(callable(None))"
   ]
  },
  {
   "cell_type": "code",
   "execution_count": 22,
   "metadata": {},
   "outputs": [
    {
     "name": "stdout",
     "output_type": "stream",
     "text": [
      "Month.Jan\n",
      "Month.Jan\n",
      "1\n",
      "Jan => Month.Jan , 1\n",
      "Feb => Month.Feb , 2\n",
      "Mar => Month.Mar , 3\n",
      "Apr => Month.Apr , 4\n",
      "May => Month.May , 5\n",
      "Jun => Month.Jun , 6\n",
      "Jul => Month.Jul , 7\n",
      "Aug => Month.Aug , 8\n",
      "Sep => Month.Sep , 9\n",
      "Oct => Month.Oct , 10\n",
      "Nov => Month.Nov , 11\n",
      "Dec => Month.Dec , 12\n"
     ]
    }
   ],
   "source": [
    "\"\"\"枚举类\"\"\"\n",
    "\n",
    "from enum import Enum\n",
    "\n",
    "Month = Enum('Month', ('Jan', 'Feb', 'Mar', 'Apr', 'May', 'Jun', 'Jul', 'Aug', 'Sep', 'Oct', 'Nov', 'Dec'))\n",
    "\n",
    "# 访问枚举类\n",
    "print(Month.Jan)\n",
    "print(Month['Jan'])\n",
    "print(Month.Jan.value)  # value属性是自动赋给成员的int常量，默认从1开始计数\n",
    "\n",
    "for name, member in Month.__members__.items():\n",
    "    print(name, '=>', member, ',', member.value)"
   ]
  }
 ],
 "metadata": {
  "kernelspec": {
   "display_name": "Python 3",
   "language": "python",
   "name": "python3"
  },
  "language_info": {
   "codemirror_mode": {
    "name": "ipython",
    "version": 3
   },
   "file_extension": ".py",
   "mimetype": "text/x-python",
   "name": "python",
   "nbconvert_exporter": "python",
   "pygments_lexer": "ipython3",
   "version": "3.7.1"
  }
 },
 "nbformat": 4,
 "nbformat_minor": 2
}
