{
 "cells": [
  {
   "cell_type": "code",
   "execution_count": 3,
   "metadata": {},
   "outputs": [
    {
     "name": "stdout",
     "output_type": "stream",
     "text": [
      "6\n",
      "<function lazy_sum.<locals>.calc_sum at 0x0000017D55E0A158>\n",
      "6\n"
     ]
    }
   ],
   "source": [
    "\"\"\"返回函数\n",
    "\n",
    "高阶函数除了可以把函数作为参数外，还可以把函数作为结果值返回\n",
    "\"\"\"\n",
    "\n",
    "# 定义一个可变参数的求和函数\n",
    "def calc_sum(*args):\n",
    "    s = 0\n",
    "    for n in args:\n",
    "        s = s + n\n",
    "    return s\n",
    "\n",
    "print(calc_sum(1, 2, 3))\n",
    "\n",
    "\n",
    "# 不需要立即求和，根据需要再进行计算\n",
    "# 即不返回求和的结果，而是返回求和的函数\n",
    "def lazy_sum(*args):\n",
    "    def calc_sum():\n",
    "        s = 0\n",
    "        for n in args:\n",
    "            s = s + n\n",
    "        return s\n",
    "    return calc_sum\n",
    "\n",
    "f = lazy_sum(1, 2, 3)\n",
    "print(f)\n",
    "print(f())  # 调用时才真正求和"
   ]
  },
  {
   "cell_type": "code",
   "execution_count": 5,
   "metadata": {},
   "outputs": [
    {
     "name": "stdout",
     "output_type": "stream",
     "text": [
      "f1: 9\n",
      "f2: 9\n",
      "f3: 9\n",
      "f1: 1\n",
      "f2: 4\n",
      "f3: 9\n"
     ]
    }
   ],
   "source": [
    "\"\"\"闭包函数\"\"\"\n",
    "\n",
    "# 使用闭包时：返回函数不要引用任何循环变量，或者后续会发生变化的变量\n",
    "def count():\n",
    "    fs = []\n",
    "    for i in range(1, 4):\n",
    "        def f():\n",
    "            return i * i\n",
    "        fs.append(f)\n",
    "    return fs\n",
    "\n",
    "f1, f2, f3 = count()\n",
    "print('f1:', f1())\n",
    "print('f2:', f2())\n",
    "print('f3:', f3())\n",
    "\n",
    "\n",
    "# 对以上函数进行改进\n",
    "# 方法是再创建一个函数，用该函数的参数绑定循环变量的当前值\n",
    "# 无论该循坏变量后续如何变化，已绑定到函数参数的值不会变\n",
    "def count2():\n",
    "    def f(i):\n",
    "        def g():\n",
    "            return i * i\n",
    "        return g\n",
    "    \n",
    "    fs = []\n",
    "    for n in range(1, 4):\n",
    "        fs.append(f(n))  # f(n)立刻被执行，因此n的当前值被传入f()\n",
    "    return fs\n",
    "\n",
    "f1, f2, f3 = count2()\n",
    "print('f1:', f1())\n",
    "print('f2:', f2())\n",
    "print('f3:', f3())"
   ]
  },
  {
   "cell_type": "code",
   "execution_count": 1,
   "metadata": {},
   "outputs": [
    {
     "name": "stdout",
     "output_type": "stream",
     "text": [
      "3\n"
     ]
    }
   ],
   "source": [
    "\"\"\"lambda表达式\n",
    "\n",
    "定义匿名函数和内联函数\n",
    "只能定义单个表达式，该表达式运算的结果就是函数的返回值\n",
    "\"\"\"\n",
    "\n",
    "# 使用lambda表达式定义匿名函数，并赋值给一个变量\n",
    "add = lambda x, y: x + y\n",
    "\n",
    "# 测试\n",
    "print(add(1, 2))"
   ]
  },
  {
   "cell_type": "code",
   "execution_count": 2,
   "metadata": {},
   "outputs": [
    {
     "data": {
      "text/plain": [
       "['Kobe Brynent',\n",
       " 'Keven Durant',\n",
       " 'Lebron James',\n",
       " 'Michale Jordan',\n",
       " 'Jemmy Lin',\n",
       " 'Curry Steven']"
      ]
     },
     "execution_count": 2,
     "metadata": {},
     "output_type": "execute_result"
    }
   ],
   "source": [
    "\"\"\"lambda的应用场景\n",
    "\n",
    "数据排序sorted、reduce等\n",
    "\"\"\"\n",
    "\n",
    "# 对列表中的姓名按last name进行排序\n",
    "names = ['Kobe Brynent', 'Jemmy Lin', 'Curry Steven', 'Keven Durant', 'Lebron James', 'Michale Jordan']\n",
    "\n",
    "sorted(names, key = lambda name: name.split()[-1].lower())"
   ]
  },
  {
   "cell_type": "code",
   "execution_count": 3,
   "metadata": {},
   "outputs": [
    {
     "name": "stdout",
     "output_type": "stream",
     "text": [
      "30\n",
      "30\n",
      "200\n",
      "300\n"
     ]
    }
   ],
   "source": [
    "\"\"\"使用匿名函数捕获变量值\n",
    "\n",
    "普通函数默认参数的值是在定义时就绑定的\n",
    "匿名函数参数的值是自由变量，是在执行时才绑定的\n",
    "\n",
    "要让匿名函数的参数在定义时就捕获到值，可将该参数定义为默认参数\n",
    "\"\"\"\n",
    "\n",
    "# 测试\n",
    "x = 10\n",
    "add1 = lambda y: x + y\n",
    "\n",
    "x = 20\n",
    "add2 = lambda y: x + y\n",
    "\n",
    "print(add1(10))\n",
    "print(add2(10))\n",
    "\n",
    "# 测试\n",
    "a = 100\n",
    "add3 = lambda b, a=a: a + b\n",
    "\n",
    "a = 200\n",
    "add4 = lambda b, a=a: a + b\n",
    "\n",
    "print(add3(100))\n",
    "print(add4(100))"
   ]
  },
  {
   "cell_type": "code",
   "execution_count": 4,
   "metadata": {},
   "outputs": [
    {
     "name": "stdout",
     "output_type": "stream",
     "text": [
      "1 2 3 4\n",
      "1 2 3 4\n",
      "1 2 3 4\n"
     ]
    }
   ],
   "source": [
    "\"\"\"减少可调用对象callable的参数个数\n",
    "\n",
    "偏函数partial()固定某些参数，并返回一个新的callable对象\n",
    "简化函数调用\n",
    "\"\"\"\n",
    "\n",
    "from functools import partial\n",
    "\n",
    "\n",
    "def test(a, b, c, d):\n",
    "    print(a, b, c, d)\n",
    "    \n",
    "    \n",
    "# 测试\n",
    "t1 = partial(test, 1)  # a = 1\n",
    "t1(2, 3, 4)\n",
    "\n",
    "t2 = partial(test, d=4)  # d = 4\n",
    "t2(1, 2, 3)\n",
    "\n",
    "t3 = partial(test, 1, d=4)  # a = 1, d = 4\n",
    "t3(2, 3)"
   ]
  },
  {
   "cell_type": "code",
   "execution_count": 5,
   "metadata": {},
   "outputs": [
    {
     "data": {
      "text/plain": [
       "[(1, 1), (1, 2), (2, 2), (3, 2), (2, 4), (3, 4)]"
      ]
     },
     "execution_count": 5,
     "metadata": {},
     "output_type": "execute_result"
    }
   ],
   "source": [
    "\"\"\"偏函数的使用举例\"\"\"\n",
    "\n",
    "from functools import partial\n",
    "import math\n",
    "\n",
    "\n",
    "# 用列表保存多个点的坐标，每一个点为一个元祖\n",
    "points = [(3, 2), (1, 2), (2, 4), (2, 2), (1, 1), (3, 4)]\n",
    "\n",
    "\n",
    "# 定义函数计算两点之间的距离\n",
    "def distance(p1, p2):\n",
    "    x1, y1 = p1\n",
    "    x2, y2 = p2\n",
    "    return math.hypot(x2 - x1, y2 - y1)\n",
    "\n",
    "\n",
    "# 以与基点(0, 0)之间的距离进行排序\n",
    "pt = (0, 0)\n",
    "points.sort(key = partial(distance, pt))\n",
    "points"
   ]
  },
  {
   "cell_type": "code",
   "execution_count": 6,
   "metadata": {},
   "outputs": [
    {
     "name": "stdout",
     "output_type": "stream",
     "text": [
      "Result:  3\n",
      "Result:  helloworld\n"
     ]
    }
   ],
   "source": [
    "\"\"\"回调函数\n",
    "\n",
    "回调函数常用在事件处理、等待后台任务完成后的回调等\n",
    "\"\"\"\n",
    "\n",
    "\n",
    "# 定义并调用回调函数\n",
    "def apply_async(func, args, *, callback):\n",
    "    result = func(*args)\n",
    "    callback(result)\n",
    "    \n",
    "    \n",
    "def add(x, y):\n",
    "    return x + y\n",
    "\n",
    "\n",
    "def print_r(result):\n",
    "    print('Result: ', result)\n",
    "    \n",
    "    \n",
    "# 测试\n",
    "apply_async(add, (1, 2), callback=print_r)\n",
    "apply_async(add, ('hello', 'world'), callback=print_r)"
   ]
  },
  {
   "cell_type": "code",
   "execution_count": 8,
   "metadata": {},
   "outputs": [
    {
     "name": "stdout",
     "output_type": "stream",
     "text": [
      "[1] Result: 3\n",
      "[2] Result: helloworld\n"
     ]
    }
   ],
   "source": [
    "\"\"\"使用闭包来捕获状态值\"\"\"\n",
    "\n",
    "\n",
    "def make_handler():\n",
    "    seq = 0\n",
    "    \n",
    "    def handler(result):\n",
    "        nonlocal seq  # 声明变量将在闭包函数中被修改\n",
    "        seq += 1\n",
    "        print('[{}] Result: {}'.format(seq, result))\n",
    "        \n",
    "    return handler\n",
    "\n",
    "\n",
    "# 测试\n",
    "handler = make_handler()\n",
    "apply_async(add, (1, 2), callback = handler)\n",
    "apply_async(add, ('hello', 'world'), callback = handler)"
   ]
  },
  {
   "cell_type": "code",
   "execution_count": 7,
   "metadata": {},
   "outputs": [
    {
     "name": "stdout",
     "output_type": "stream",
     "text": [
      "[1] Result: 3\n",
      "[2] Result: helloworld\n"
     ]
    }
   ],
   "source": [
    "\"\"\"让回调函数带额外的状态值\n",
    "\n",
    "使用绑定方法来代替简单的回调函数\n",
    "\"\"\"\n",
    "\n",
    "\n",
    "class ResultHandler:\n",
    "    def __init__(self):\n",
    "        self.seq = 0\n",
    "        \n",
    "    def handler(self, result):\n",
    "        self.seq += 1\n",
    "        print('[{}] Result: {}'.format(self.seq, result))\n",
    "        \n",
    "        \n",
    "# 测试\n",
    "rh = ResultHandler()\n",
    "apply_async(add, (1, 2), callback = rh.handler)\n",
    "apply_async(add, ('hello', 'world'), callback = rh.handler)"
   ]
  },
  {
   "cell_type": "code",
   "execution_count": 9,
   "metadata": {},
   "outputs": [
    {
     "name": "stdout",
     "output_type": "stream",
     "text": [
      "n =  0\n",
      "n =  1\n"
     ]
    },
    {
     "data": {
      "text/plain": [
       "2"
      ]
     },
     "execution_count": 9,
     "metadata": {},
     "output_type": "execute_result"
    }
   ],
   "source": [
    "\"\"\"访问闭包中的变量\n",
    "\n",
    "通常来讲，闭包中的变量对于外部是隐藏的\n",
    "通过编写访问函数，并将其作为属性绑定到闭包函数上来实现访问闭包内部变量的目的\n",
    "\"\"\"\n",
    "\n",
    "\n",
    "def func():\n",
    "    n = 0\n",
    "    \n",
    "    def print_n():\n",
    "        print('n = ', n)\n",
    "        \n",
    "    def get_n():\n",
    "        return n\n",
    "    \n",
    "    def set_n(val):\n",
    "        nonlocal n\n",
    "        n = val\n",
    "        \n",
    "    # 把访问函数绑定为闭包函数的属性\n",
    "    print_n.get_n = get_n\n",
    "    print_n.set_n = set_n\n",
    "    \n",
    "    # 不是所有的内部函数都是闭包函数，只有被返回的那个才是\n",
    "    return print_n\n",
    "\n",
    "\n",
    "# 测试\n",
    "f = func()\n",
    "f()\n",
    "\n",
    "f.set_n(1)\n",
    "f()\n",
    "\n",
    "f.set_n(2)\n",
    "f.get_n()"
   ]
  },
  {
   "cell_type": "code",
   "execution_count": 10,
   "metadata": {},
   "outputs": [
    {
     "name": "stdout",
     "output_type": "stream",
     "text": [
      "5! = 120\n"
     ]
    }
   ],
   "source": [
    "\"\"\"递归函数\n",
    "\n",
    "在函数内部调用自身的函数\n",
    "递归函数的优点是定义简单，逻辑清晰\n",
    "\n",
    "用递归函数需要注意防止栈溢出\n",
    "函数调用是通过栈（stack）这种数据结构实现的，每当进入一个函数调用，栈就会加一层栈帧，每当函数返回，栈就会减一层栈帧\n",
    "由于栈的大小不是无限的，所以，递归调用的次数过多，会导致栈溢出\n",
    "\n",
    "解决递归调用栈溢出的方法是通过尾递归优化\n",
    "尾递归事实上和循环是等价的\n",
    "\"\"\"\n",
    "\n",
    "# 求阶乘函数\n",
    "def fact(n):\n",
    "    if n == 1:\n",
    "        return 1\n",
    "    return fact(n-1) * n\n",
    "\n",
    "print('5! =', fact(5))"
   ]
  },
  {
   "cell_type": "code",
   "execution_count": 7,
   "metadata": {},
   "outputs": [
    {
     "name": "stdout",
     "output_type": "stream",
     "text": [
      "hello world\n",
      "hello world\n",
      "hello\n",
      "hello\n"
     ]
    }
   ],
   "source": [
    "\"\"\"装饰器\n",
    "\n",
    "函数也是一个对象，而且函数对象可以被赋值给变量，所以通过变量也能调用该函数\n",
    "可以通过函数对象的__name__属性获取函数的名字\n",
    "\"\"\"\n",
    "\n",
    "def hello():\n",
    "    print('hello world')\n",
    "    \n",
    "h = hello  # 把函数赋值给变量\n",
    "\n",
    "hello()\n",
    "h()\n",
    "\n",
    "print(hello.__name__)\n",
    "print(h.__name__)"
   ]
  },
  {
   "cell_type": "code",
   "execution_count": 15,
   "metadata": {},
   "outputs": [
    {
     "name": "stdout",
     "output_type": "stream",
     "text": [
      "Call hello():\n",
      "hello world\n"
     ]
    }
   ],
   "source": [
    "\"\"\"装饰器\n",
    "\n",
    "在代码运行期间动态增加功能的方式，称之为装饰器Decorator\n",
    "即要增强原函数的功能，但又不修改原函数的定义\n",
    "装饰器的本质是返回原函数的高阶函数\n",
    "\"\"\"\n",
    "import functools\n",
    "\n",
    "\n",
    "# 定义一个打印日志的装饰器函数\n",
    "# 它接受一个函数作为参数，并返回一个函数\n",
    "def log(func):\n",
    "    @functools.wraps(func)  # 把原函数的__name__等属性复制到warpper()函数中\n",
    "    def wrapper(*args, **kw):\n",
    "        print('Call %s():' % func.__name__)\n",
    "        return func(*args, **kw)\n",
    "    return wrapper\n",
    "\n",
    "\n",
    "# 使用装饰器\n",
    "# 相当于执行了：hello = log(hello)\n",
    "@log\n",
    "def hello():\n",
    "    print('hello world')\n",
    "    \n",
    "hello()\n",
    "\n",
    "# print(hello.__name__)"
   ]
  },
  {
   "cell_type": "code",
   "execution_count": 18,
   "metadata": {},
   "outputs": [
    {
     "name": "stdout",
     "output_type": "stream",
     "text": [
      "Execute hello():\n",
      "hello world\n"
     ]
    }
   ],
   "source": [
    "\"\"\"装饰器\n",
    "\n",
    "如果装饰器本身需要传入参数，那就需要多加一层\n",
    "\"\"\"\n",
    "import functools\n",
    "\n",
    "# 自定义log文本\n",
    "def log(txt):\n",
    "    def decorator(func):\n",
    "        @functools.wraps(func)  # 把原函数的__name__等属性复制到warpper()函数中\n",
    "        def wrapper(*args, **kw):\n",
    "            print('%s %s():' % (txt, func.__name__))\n",
    "            return func(*args, **kw)\n",
    "        return wrapper\n",
    "    return decorator\n",
    "\n",
    "\n",
    "# 使用装饰器\n",
    "# # 相当于执行了：hello = log('Execute')(now)\n",
    "@log('Execute')\n",
    "def hello():\n",
    "    print('hello world')\n",
    "    \n",
    "hello()\n",
    "\n",
    "# print(hello.__name__)"
   ]
  }
 ],
 "metadata": {
  "kernelspec": {
   "display_name": "Python 3",
   "language": "python",
   "name": "python3"
  },
  "language_info": {
   "codemirror_mode": {
    "name": "ipython",
    "version": 3
   },
   "file_extension": ".py",
   "mimetype": "text/x-python",
   "name": "python",
   "nbconvert_exporter": "python",
   "pygments_lexer": "ipython3",
   "version": "3.7.1"
  }
 },
 "nbformat": 4,
 "nbformat_minor": 2
}
