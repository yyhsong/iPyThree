{
 "cells": [
  {
   "cell_type": "code",
   "execution_count": 1,
   "metadata": {},
   "outputs": [
    {
     "name": "stdout",
     "output_type": "stream",
     "text": [
      "3\n"
     ]
    }
   ],
   "source": [
    "\"\"\"lambda表达式\n",
    "\n",
    "定义匿名函数和内联函数\n",
    "只能定义单个表达式，该表达式运算的结果就是函数的返回值\n",
    "\"\"\"\n",
    "\n",
    "# 使用lambda表达式定义匿名函数，并赋值给一个变量\n",
    "add = lambda x, y: x + y\n",
    "\n",
    "# 测试\n",
    "print(add(1, 2))"
   ]
  },
  {
   "cell_type": "code",
   "execution_count": 2,
   "metadata": {},
   "outputs": [
    {
     "data": {
      "text/plain": [
       "['Kobe Brynent',\n",
       " 'Keven Durant',\n",
       " 'Lebron James',\n",
       " 'Michale Jordan',\n",
       " 'Jemmy Lin',\n",
       " 'Curry Steven']"
      ]
     },
     "execution_count": 2,
     "metadata": {},
     "output_type": "execute_result"
    }
   ],
   "source": [
    "\"\"\"lambda的应用场景\n",
    "\n",
    "数据排序sorted、reduce等\n",
    "\"\"\"\n",
    "\n",
    "# 对列表中的姓名按last name进行排序\n",
    "names = ['Kobe Brynent', 'Jemmy Lin', 'Curry Steven', 'Keven Durant', 'Lebron James', 'Michale Jordan']\n",
    "\n",
    "sorted(names, key = lambda name: name.split()[-1].lower())"
   ]
  },
  {
   "cell_type": "code",
   "execution_count": 3,
   "metadata": {},
   "outputs": [
    {
     "name": "stdout",
     "output_type": "stream",
     "text": [
      "30\n",
      "30\n",
      "200\n",
      "300\n"
     ]
    }
   ],
   "source": [
    "\"\"\"使用匿名函数捕获变量值\n",
    "\n",
    "普通函数默认参数的值是在定义时就绑定的\n",
    "匿名函数参数的值是自由变量，是在执行时才绑定的\n",
    "\n",
    "要让匿名函数的参数在定义时就捕获到值，可将该参数定义为默认参数\n",
    "\"\"\"\n",
    "\n",
    "# 测试\n",
    "x = 10\n",
    "add1 = lambda y: x + y\n",
    "\n",
    "x = 20\n",
    "add2 = lambda y: x + y\n",
    "\n",
    "print(add1(10))\n",
    "print(add2(10))\n",
    "\n",
    "# 测试\n",
    "a = 100\n",
    "add3 = lambda b, a=a: a + b\n",
    "\n",
    "a = 200\n",
    "add4 = lambda b, a=a: a + b\n",
    "\n",
    "print(add3(100))\n",
    "print(add4(100))"
   ]
  },
  {
   "cell_type": "code",
   "execution_count": 4,
   "metadata": {},
   "outputs": [
    {
     "name": "stdout",
     "output_type": "stream",
     "text": [
      "1 2 3 4\n",
      "1 2 3 4\n",
      "1 2 3 4\n"
     ]
    }
   ],
   "source": [
    "\"\"\"减少可调用对象callable的参数个数\n",
    "\n",
    "偏函数partial()固定某些参数，并返回一个新的callable对象    \n",
    "\"\"\"\n",
    "\n",
    "from functools import partial\n",
    "\n",
    "\n",
    "def test(a, b, c, d):\n",
    "    print(a, b, c, d)\n",
    "    \n",
    "    \n",
    "# 测试\n",
    "t1 = partial(test, 1)  # a = 1\n",
    "t1(2, 3, 4)\n",
    "\n",
    "t2 = partial(test, d=4)  # d = 4\n",
    "t2(1, 2, 3)\n",
    "\n",
    "t3 = partial(test, 1, d=4)  # a = 1, d = 4\n",
    "t3(2, 3)"
   ]
  },
  {
   "cell_type": "code",
   "execution_count": 5,
   "metadata": {},
   "outputs": [
    {
     "data": {
      "text/plain": [
       "[(1, 1), (1, 2), (2, 2), (3, 2), (2, 4), (3, 4)]"
      ]
     },
     "execution_count": 5,
     "metadata": {},
     "output_type": "execute_result"
    }
   ],
   "source": [
    "\"\"\"偏函数的使用举例\"\"\"\n",
    "\n",
    "from functools import partial\n",
    "import math\n",
    "\n",
    "\n",
    "# 用列表保存多个点的坐标，每一个点为一个元祖\n",
    "points = [(3, 2), (1, 2), (2, 4), (2, 2), (1, 1), (3, 4)]\n",
    "\n",
    "\n",
    "# 定义函数计算两点之间的距离\n",
    "def distance(p1, p2):\n",
    "    x1, y1 = p1\n",
    "    x2, y2 = p2\n",
    "    return math.hypot(x2 - x1, y2 - y1)\n",
    "\n",
    "\n",
    "# 以与基点(0, 0)之间的距离进行排序\n",
    "pt = (0, 0)\n",
    "points.sort(key = partial(distance, pt))\n",
    "points"
   ]
  },
  {
   "cell_type": "code",
   "execution_count": 6,
   "metadata": {},
   "outputs": [
    {
     "name": "stdout",
     "output_type": "stream",
     "text": [
      "Result:  3\n",
      "Result:  helloworld\n"
     ]
    }
   ],
   "source": [
    "\"\"\"回调函数\n",
    "\n",
    "回调函数常用在事件处理、等待后台任务完成后的回调等\n",
    "\"\"\"\n",
    "\n",
    "\n",
    "# 定义并调用回调函数\n",
    "def apply_async(func, args, *, callback):\n",
    "    result = func(*args)\n",
    "    callback(result)\n",
    "    \n",
    "    \n",
    "def add(x, y):\n",
    "    return x + y\n",
    "\n",
    "\n",
    "def print_r(result):\n",
    "    print('Result: ', result)\n",
    "    \n",
    "    \n",
    "# 测试\n",
    "apply_async(add, (1, 2), callback=print_r)\n",
    "apply_async(add, ('hello', 'world'), callback=print_r)"
   ]
  },
  {
   "cell_type": "code",
   "execution_count": 7,
   "metadata": {},
   "outputs": [
    {
     "name": "stdout",
     "output_type": "stream",
     "text": [
      "[1] Result: 3\n",
      "[2] Result: helloworld\n"
     ]
    }
   ],
   "source": [
    "\"\"\"让回调函数带额外的状态值\n",
    "\n",
    "使用绑定方法来代替简单的回调函数\n",
    "\"\"\"\n",
    "\n",
    "\n",
    "class ResultHandler:\n",
    "    def __init__(self):\n",
    "        self.seq = 0\n",
    "        \n",
    "    def handler(self, result):\n",
    "        self.seq += 1\n",
    "        print('[{}] Result: {}'.format(self.seq, result))\n",
    "        \n",
    "        \n",
    "# 测试\n",
    "rh = ResultHandler()\n",
    "apply_async(add, (1, 2), callback = rh.handler)\n",
    "apply_async(add, ('hello', 'world'), callback = rh.handler)"
   ]
  },
  {
   "cell_type": "code",
   "execution_count": 8,
   "metadata": {},
   "outputs": [
    {
     "name": "stdout",
     "output_type": "stream",
     "text": [
      "[1] Result: 3\n",
      "[2] Result: helloworld\n"
     ]
    }
   ],
   "source": [
    "\"\"\"使用闭包来捕获状态值\"\"\"\n",
    "\n",
    "\n",
    "def make_handler():\n",
    "    seq = 0\n",
    "    \n",
    "    def handler(result):\n",
    "        nonlocal seq  # 声明变量将在闭包函数中被修改\n",
    "        seq += 1\n",
    "        print('[{}] Result: {}'.format(seq, result))\n",
    "        \n",
    "    return handler\n",
    "\n",
    "\n",
    "# 测试\n",
    "handler = make_handler()\n",
    "apply_async(add, (1, 2), callback = handler)\n",
    "apply_async(add, ('hello', 'world'), callback = handler)"
   ]
  },
  {
   "cell_type": "code",
   "execution_count": 9,
   "metadata": {},
   "outputs": [
    {
     "name": "stdout",
     "output_type": "stream",
     "text": [
      "n =  0\n",
      "n =  1\n"
     ]
    },
    {
     "data": {
      "text/plain": [
       "2"
      ]
     },
     "execution_count": 9,
     "metadata": {},
     "output_type": "execute_result"
    }
   ],
   "source": [
    "\"\"\"访问闭包中的变量\n",
    "\n",
    "通常来讲，闭包中的变量对于外部是隐藏的\n",
    "通过编写访问函数，并将其作为属性绑定到闭包函数上来实现访问闭包内部变量的目的\n",
    "\"\"\"\n",
    "\n",
    "\n",
    "def func():\n",
    "    n = 0\n",
    "    \n",
    "    def print_n():\n",
    "        print('n = ', n)\n",
    "        \n",
    "    def get_n():\n",
    "        return n\n",
    "    \n",
    "    def set_n(val):\n",
    "        nonlocal n\n",
    "        n = val\n",
    "        \n",
    "    # 把访问函数绑定为闭包函数的属性\n",
    "    print_n.get_n = get_n\n",
    "    print_n.set_n = set_n\n",
    "    \n",
    "    return print_n\n",
    "\n",
    "\n",
    "# 测试\n",
    "f = func()\n",
    "f()\n",
    "\n",
    "f.set_n(1)\n",
    "f()\n",
    "\n",
    "f.set_n(2)\n",
    "f.get_n()"
   ]
  },
  {
   "cell_type": "code",
   "execution_count": 10,
   "metadata": {},
   "outputs": [
    {
     "name": "stdout",
     "output_type": "stream",
     "text": [
      "5! = 120\n"
     ]
    }
   ],
   "source": [
    "\"\"\"递归函数\n",
    "\n",
    "在函数内部调用自身的函数\n",
    "递归函数的优点是定义简单，逻辑清晰\n",
    "\n",
    "用递归函数需要注意防止栈溢出\n",
    "函数调用是通过栈（stack）这种数据结构实现的，每当进入一个函数调用，栈就会加一层栈帧，每当函数返回，栈就会减一层栈帧\n",
    "由于栈的大小不是无限的，所以，递归调用的次数过多，会导致栈溢出\n",
    "\n",
    "解决递归调用栈溢出的方法是通过尾递归优化\n",
    "尾递归事实上和循环是等价的\n",
    "\"\"\"\n",
    "\n",
    "# 求阶乘函数\n",
    "def fact(n):\n",
    "    if n == 1:\n",
    "        return 1\n",
    "    return fact(n-1) * n\n",
    "\n",
    "print('5! =', fact(5))"
   ]
  }
 ],
 "metadata": {
  "kernelspec": {
   "display_name": "Python 3",
   "language": "python",
   "name": "python3"
  },
  "language_info": {
   "codemirror_mode": {
    "name": "ipython",
    "version": 3
   },
   "file_extension": ".py",
   "mimetype": "text/x-python",
   "name": "python",
   "nbconvert_exporter": "python",
   "pygments_lexer": "ipython3",
   "version": "3.7.1"
  }
 },
 "nbformat": 4,
 "nbformat_minor": 2
}
