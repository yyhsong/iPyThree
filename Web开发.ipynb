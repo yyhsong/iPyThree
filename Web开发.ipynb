{
 "cells": [
  {
   "cell_type": "code",
   "execution_count": null,
   "metadata": {},
   "outputs": [],
   "source": [
    "\"\"\"Web开发\n",
    "\n",
    "Web开发阶段：静态HTML -> CGI -> PHP/ASP/JSP -> MVC -> MVVM\n",
    "CGI: Common Gateway Interface, 由C/C++编写\n",
    "HTTP 1.1版本允许多个HTTP请求复用一个TCP连接，以加快传输速度\n",
    "一个HTTP请求只处理一个资源\n",
    "HTTP响应的数据格式由Content-Type决定的\n",
    "Content-Encoding: gzip是指以gzip方式对Body数据进行压缩\n",
    "Apache Nginx Lighttpd是静态服务器\n",
    "Python是解释性的脚本语言，适合Web开发，有上百种Web开发框架\n",
    "WSGI: Web Service Gateway Interface\n",
    "Python内置了一个WSGI服务器，这个模块叫wsgiref，它是用纯Python编写的WSGI服务器的参考实现\n",
    "Flask通过Python的装饰器在内部自动地把URL和函数给关联起来，默认支持模板jinja2\n",
    "常用Web开发框架：Flask Django web.py Bottle Tornado\n",
    "常用模板：jinja2 Mako Cheetah Django\n",
    "\"\"\""
   ]
  },
  {
   "cell_type": "code",
   "execution_count": 1,
   "metadata": {},
   "outputs": [],
   "source": [
    "\"\"\"HTTP请求处理函数\n",
    "\n",
    "参数由WSGI服务器提供\n",
    "所有的请求信息都可以从参数environ获取\n",
    "\"\"\"\n",
    "\n",
    "def application(environ, start_response):\n",
    "    start_response('200 OK', [('Content-Type', 'text/html')])\n",
    "    body = '<h3>Hello {}</h3>'.format(environ['PATH_INFO'][1:] or 'World')\n",
    "    return [body.encode('utf-8')]"
   ]
  },
  {
   "cell_type": "code",
   "execution_count": null,
   "metadata": {},
   "outputs": [],
   "source": [
    "\"\"\"WSGI\n",
    "\n",
    "WSGI: Web Server Gateway Interface\n",
    "Python内置了一个WSGI服务器模块，叫做wsgiref\n",
    "\"\"\"\n",
    "\n",
    "from wsgiref.simple_server import make_server\n",
    "\n",
    "# 创建一个Web服务器实例，处理函数为application\n",
    "httpd = make_server('127.0.0.1', 8080, application)\n",
    "print('Serving HTTP on port 8080 ...')\n",
    "\n",
    "# 监听HTTP请求\n",
    "httpd.serve_forever()"
   ]
  },
  {
   "cell_type": "code",
   "execution_count": 6,
   "metadata": {},
   "outputs": [
    {
     "name": "stdout",
     "output_type": "stream",
     "text": [
      " * Serving Flask app \"__main__\" (lazy loading)\n",
      " * Environment: production\n",
      "   WARNING: Do not use the development server in a production environment.\n",
      "   Use a production WSGI server instead.\n",
      " * Debug mode: off\n"
     ]
    },
    {
     "name": "stderr",
     "output_type": "stream",
     "text": [
      " * Running on http://localhost:9999/ (Press CTRL+C to quit)\n",
      "127.0.0.1 - - [10/Jul/2020 15:46:01] \"GET / HTTP/1.1\" 200 -\n",
      "127.0.0.1 - - [10/Jul/2020 15:46:01] \"GET /favicon.ico HTTP/1.1\" 404 -\n",
      "127.0.0.1 - - [10/Jul/2020 15:46:07] \"GET /signin HTTP/1.1\" 200 -\n",
      "127.0.0.1 - - [10/Jul/2020 15:46:14] \"POST /signin HTTP/1.1\" 200 -\n",
      "127.0.0.1 - - [10/Jul/2020 15:46:19] \"GET /signin HTTP/1.1\" 200 -\n",
      "127.0.0.1 - - [10/Jul/2020 15:46:26] \"POST /signin HTTP/1.1\" 200 -\n"
     ]
    }
   ],
   "source": [
    "\"\"\"Flask的基本使用\n",
    "\n",
    "Flask通过装饰器在内部把请求URL和处理函数进行关联\n",
    "\"\"\"\n",
    "\n",
    "from flask import Flask, request\n",
    "\n",
    "# 初始化应用\n",
    "app = Flask(__name__)\n",
    "\n",
    "\n",
    "@app.route('/', methods=['GET', 'POST'])\n",
    "def home():\n",
    "    return '<h3>Home Page</h3>'\n",
    "\n",
    "\n",
    "@app.route('/signin', methods=['GET'])\n",
    "def signin_form():\n",
    "    return '''<form action=\"signin\" method=\"post\">\n",
    "                <p><input type=\"input\" name=\"username\" /></p>\n",
    "                <p><input type=\"password\" name=\"password\" /></p>\n",
    "                <p><input type=\"submit\" value=\"Sign In\" /></p>      \n",
    "              </form>'''\n",
    "\n",
    "\n",
    "@app.route('/signin', methods=['POST'])\n",
    "def signin():\n",
    "    # 从request对象读取表单内容\n",
    "    if request.form['username'] == 'admin' and request.form['password'] == '123456':\n",
    "        return '<h3>Hello, admin!</h3>'\n",
    "    return '<h3 style=\"color:red;\">Username or Password error!</h3>'\n",
    "\n",
    "\n",
    "# 启动服务，指定主机、端口等\n",
    "if __name__ == '__main__':\n",
    "    app.run(\n",
    "        host='localhost',\n",
    "        port='9999',\n",
    "        debug=False\n",
    "    )"
   ]
  },
  {
   "cell_type": "code",
   "execution_count": null,
   "metadata": {},
   "outputs": [
    {
     "name": "stdout",
     "output_type": "stream",
     "text": [
      " * Serving Flask app \"__main__\" (lazy loading)\n",
      " * Environment: production\n",
      "   WARNING: Do not use the development server in a production environment.\n",
      "   Use a production WSGI server instead.\n",
      " * Debug mode: off\n"
     ]
    },
    {
     "name": "stderr",
     "output_type": "stream",
     "text": [
      " * Running on http://localhost:9999/ (Press CTRL+C to quit)\n",
      "127.0.0.1 - - [10/Jul/2020 16:00:53] \"GET / HTTP/1.1\" 200 -\n",
      "127.0.0.1 - - [10/Jul/2020 16:00:57] \"GET /signin HTTP/1.1\" 200 -\n",
      "127.0.0.1 - - [10/Jul/2020 16:01:06] \"POST /signin HTTP/1.1\" 200 -\n",
      "127.0.0.1 - - [10/Jul/2020 16:01:15] \"POST /signin HTTP/1.1\" 200 -\n"
     ]
    }
   ],
   "source": [
    "\"\"\"模板的基本使用\n",
    "\n",
    "Flask默认支持模板jinja2\n",
    "模板html文件默认保存在当前目录下的templates文件夹\n",
    "\"\"\"\n",
    "\n",
    "from flask import Flask, request, render_template\n",
    "\n",
    "# 初始化应用\n",
    "app = Flask(__name__)\n",
    "\n",
    "\n",
    "@app.route('/', methods=['GET', 'POST'])\n",
    "def home():\n",
    "    return render_template('home.html')\n",
    "\n",
    "\n",
    "@app.route('/signin', methods=['GET'])\n",
    "def signin_form():\n",
    "    return render_template('signin.html')\n",
    "\n",
    "\n",
    "@app.route('/signin', methods=['POST'])\n",
    "def signin():\n",
    "    # 从request对象读取表单内容\n",
    "    username = request.form['username']\n",
    "    password = request.form['password']\n",
    "    if username == 'admin' and password == '123456':\n",
    "        return render_template('success.html', username=username)\n",
    "    return render_template('signin.html', message='Username or Password error!', username=username)\n",
    "\n",
    "\n",
    "# 启动服务，指定主机、端口等\n",
    "if __name__ == '__main__':\n",
    "    app.run(\n",
    "        host='localhost',\n",
    "        port='9999',\n",
    "        debug=False\n",
    "    )"
   ]
  }
 ],
 "metadata": {
  "kernelspec": {
   "display_name": "Python 3",
   "language": "python",
   "name": "python3"
  },
  "language_info": {
   "codemirror_mode": {
    "name": "ipython",
    "version": 3
   },
   "file_extension": ".py",
   "mimetype": "text/x-python",
   "name": "python",
   "nbconvert_exporter": "python",
   "pygments_lexer": "ipython3",
   "version": "3.7.1"
  }
 },
 "nbformat": 4,
 "nbformat_minor": 2
}
