{
 "cells": [
  {
   "cell_type": "code",
   "execution_count": 5,
   "metadata": {},
   "outputs": [
    {
     "data": {
      "text/plain": [
       "defaultdict(set, {'colors': {'blue', 'green', 'red'}, 'nums': {1, 2, 3}})"
      ]
     },
     "execution_count": 5,
     "metadata": {},
     "output_type": "execute_result"
    }
   ],
   "source": [
    "\"\"\"实现字典中的键映射多个值\n",
    "\n",
    "实现思路是把要映射的多个值放在一个列表或集合中\n",
    "通常用于处理数据分析中的记录归类问题\n",
    "\"\"\"\n",
    "\n",
    "from collections import defaultdict\n",
    "\n",
    "# 列表\n",
    "dd = defaultdict(list)\n",
    "dd['colors'].append('red')\n",
    "dd['colors'].append('green')\n",
    "dd['colors'].append('blue')\n",
    "dd['nums'].append(1)\n",
    "dd['nums'].append(2)\n",
    "dd['nums'].append(3)\n",
    "\n",
    "# 集合\n",
    "dd = defaultdict(set)\n",
    "dd['colors'].add('red')\n",
    "dd['colors'].add('green')\n",
    "dd['colors'].add('blue')\n",
    "dd['nums'].add(1)\n",
    "dd['nums'].add(2)\n",
    "dd['nums'].add(3)\n",
    "\n",
    "dd"
   ]
  },
  {
   "cell_type": "code",
   "execution_count": 7,
   "metadata": {},
   "outputs": [
    {
     "name": "stdout",
     "output_type": "stream",
     "text": [
      "one 1\n",
      "two 2\n",
      "three 3\n",
      "four 4\n"
     ]
    }
   ],
   "source": [
    "\"\"\"使用OrderedDict类控制字典元素的顺序\n",
    "\n",
    "OrderedDict类内部维护着一个根据键值对插入顺序排序的双向链表\n",
    "一个OrderedDict的大小是一个普通字典的两倍\n",
    "\"\"\"\n",
    "\n",
    "from collections import OrderedDict\n",
    "\n",
    "od = OrderedDict()\n",
    "od['one'] = 1\n",
    "od['two'] = 2\n",
    "od['three'] = 3\n",
    "od['four'] = 4\n",
    "\n",
    "for k in od:\n",
    "    print(k, od[k])"
   ]
  },
  {
   "cell_type": "code",
   "execution_count": 15,
   "metadata": {},
   "outputs": [
    {
     "name": "stdout",
     "output_type": "stream",
     "text": [
      "Zip:  [('red', 'ff0000', '红'), ('green', '00ff00', '绿'), ('blue', '0000ff', '蓝')]\n"
     ]
    }
   ],
   "source": [
    "\"\"\"zip(*iterable)函数的基本使用\n",
    "\n",
    "将可迭代对象作为参数，将对象中对应的元素打包成元祖，然后返回由这些元祖组成的新的可迭代对象\n",
    "使用list()转换来输出列表\n",
    "如果参数中各个可迭代对象的元素个数不一致，则返回列表长度与最短的对象相同\n",
    "使用*操作符，可以将元祖解压为列表\n",
    "\"\"\"\n",
    "\n",
    "colors = ['red', 'green', 'blue', 'black', 'white']\n",
    "codes = ['ff0000', '00ff00', '0000ff']\n",
    "names = ['红', '绿', '蓝']\n",
    "\n",
    "# 压缩\n",
    "zipped = zip(colors, codes, names)\n",
    "print('Zip: ', list(zipped))"
   ]
  },
  {
   "cell_type": "code",
   "execution_count": 28,
   "metadata": {},
   "outputs": [
    {
     "name": "stdout",
     "output_type": "stream",
     "text": [
      "Keys:  dict_keys(['Apple', 'Hua Wei', 'OPPO', 'MI', 'vivo'])\n",
      "Values:  dict_values([9999, 8888, 7777, 6666, 5555])\n",
      "Zipped:  [(9999, 'Apple'), (8888, 'Hua Wei'), (7777, 'OPPO'), (6666, 'MI'), (5555, 'vivo')]\n",
      "Sorted:  [(5555, 'vivo'), (6666, 'MI'), (7777, 'OPPO'), (8888, 'Hua Wei'), (9999, 'Apple')]\n",
      "Max:  (9999, 'Apple')\n",
      "Min:  (5555, 'vivo')\n"
     ]
    }
   ],
   "source": [
    "\"\"\"在字典上执行数学运算\n",
    "\n",
    "作用于键，而不是值\n",
    "使用zip()函数将字典的键和值反转\n",
    "\"\"\"\n",
    "\n",
    "phones = {\n",
    "    'Apple': 9999,\n",
    "    'Hua Wei': 8888,\n",
    "    'OPPO': 7777,\n",
    "    'MI': 6666,\n",
    "    'vivo': 5555\n",
    "}\n",
    "\n",
    "# 键值反转\n",
    "print('Keys: ', phones.keys())\n",
    "print('Values: ', phones.values())\n",
    "print('Zipped: ', list(zip(phones.values(), phones.keys())))\n",
    "\n",
    "# 按价格排序\n",
    "sorted_phones = sorted(zip(phones.values(), phones.keys()))\n",
    "print('Sorted: ', sorted_phones)\n",
    "\n",
    "# 价格最高\n",
    "max_phone = max(zip(phones.values(), phones.keys()))\n",
    "print('Max: ', max_phone)\n",
    "\n",
    "# 价格最低\n",
    "min_phone = min(zip(phones.values(), phones.keys()))\n",
    "print('Min: ', min_phone)"
   ]
  },
  {
   "cell_type": "code",
   "execution_count": null,
   "metadata": {},
   "outputs": [],
   "source": []
  },
  {
   "cell_type": "code",
   "execution_count": null,
   "metadata": {},
   "outputs": [],
   "source": []
  },
  {
   "cell_type": "code",
   "execution_count": null,
   "metadata": {},
   "outputs": [],
   "source": []
  },
  {
   "cell_type": "code",
   "execution_count": null,
   "metadata": {},
   "outputs": [],
   "source": []
  },
  {
   "cell_type": "code",
   "execution_count": null,
   "metadata": {},
   "outputs": [],
   "source": []
  },
  {
   "cell_type": "code",
   "execution_count": null,
   "metadata": {},
   "outputs": [],
   "source": []
  },
  {
   "cell_type": "code",
   "execution_count": null,
   "metadata": {},
   "outputs": [],
   "source": []
  },
  {
   "cell_type": "code",
   "execution_count": null,
   "metadata": {},
   "outputs": [],
   "source": []
  },
  {
   "cell_type": "code",
   "execution_count": null,
   "metadata": {},
   "outputs": [],
   "source": []
  },
  {
   "cell_type": "code",
   "execution_count": null,
   "metadata": {},
   "outputs": [],
   "source": []
  },
  {
   "cell_type": "code",
   "execution_count": null,
   "metadata": {},
   "outputs": [],
   "source": []
  }
 ],
 "metadata": {
  "kernelspec": {
   "display_name": "Python 3",
   "language": "python",
   "name": "python3"
  },
  "language_info": {
   "codemirror_mode": {
    "name": "ipython",
    "version": 3
   },
   "file_extension": ".py",
   "mimetype": "text/x-python",
   "name": "python",
   "nbconvert_exporter": "python",
   "pygments_lexer": "ipython3",
   "version": "3.7.1"
  }
 },
 "nbformat": 4,
 "nbformat_minor": 2
}
