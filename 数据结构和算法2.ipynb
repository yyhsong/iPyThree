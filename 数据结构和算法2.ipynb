{
 "cells": [
  {
   "cell_type": "code",
   "execution_count": 5,
   "metadata": {},
   "outputs": [
    {
     "data": {
      "text/plain": [
       "defaultdict(set, {'colors': {'blue', 'green', 'red'}, 'nums': {1, 2, 3}})"
      ]
     },
     "execution_count": 5,
     "metadata": {},
     "output_type": "execute_result"
    }
   ],
   "source": [
    "\"\"\"实现字典中的键映射多个值\n",
    "\n",
    "实现思路是把要映射的多个值放在一个列表或集合中\n",
    "通常用于处理数据分析中的记录归类问题\n",
    "\"\"\"\n",
    "\n",
    "from collections import defaultdict\n",
    "\n",
    "# 列表\n",
    "dd = defaultdict(list)\n",
    "dd['colors'].append('red')\n",
    "dd['colors'].append('green')\n",
    "dd['colors'].append('blue')\n",
    "dd['nums'].append(1)\n",
    "dd['nums'].append(2)\n",
    "dd['nums'].append(3)\n",
    "\n",
    "# 集合\n",
    "dd = defaultdict(set)\n",
    "dd['colors'].add('red')\n",
    "dd['colors'].add('green')\n",
    "dd['colors'].add('blue')\n",
    "dd['nums'].add(1)\n",
    "dd['nums'].add(2)\n",
    "dd['nums'].add(3)\n",
    "\n",
    "dd"
   ]
  },
  {
   "cell_type": "code",
   "execution_count": 7,
   "metadata": {},
   "outputs": [
    {
     "name": "stdout",
     "output_type": "stream",
     "text": [
      "one 1\n",
      "two 2\n",
      "three 3\n",
      "four 4\n"
     ]
    }
   ],
   "source": [
    "\"\"\"使用OrderedDict类控制字典元素的顺序\n",
    "\n",
    "OrderedDict类内部维护着一个根据键值对插入顺序排序的双向链表\n",
    "一个OrderedDict的大小是一个普通字典的两倍\n",
    "\"\"\"\n",
    "\n",
    "from collections import OrderedDict\n",
    "\n",
    "od = OrderedDict()\n",
    "od['one'] = 1\n",
    "od['two'] = 2\n",
    "od['three'] = 3\n",
    "od['four'] = 4\n",
    "\n",
    "for k in od:\n",
    "    print(k, od[k])"
   ]
  },
  {
   "cell_type": "code",
   "execution_count": 15,
   "metadata": {},
   "outputs": [
    {
     "name": "stdout",
     "output_type": "stream",
     "text": [
      "Zip:  [('red', 'ff0000', '红'), ('green', '00ff00', '绿'), ('blue', '0000ff', '蓝')]\n"
     ]
    }
   ],
   "source": [
    "\"\"\"zip(*iterable)函数的基本使用\n",
    "\n",
    "将可迭代对象作为参数，将对象中对应的元素打包成元祖，然后返回由这些元祖组成的新的可迭代对象\n",
    "使用list()转换来输出列表\n",
    "如果参数中各个可迭代对象的元素个数不一致，则返回列表长度与最短的对象相同\n",
    "使用*操作符，可以将元祖解压为列表\n",
    "\"\"\"\n",
    "\n",
    "colors = ['red', 'green', 'blue', 'black', 'white']\n",
    "codes = ['ff0000', '00ff00', '0000ff']\n",
    "names = ['红', '绿', '蓝']\n",
    "\n",
    "# 压缩\n",
    "zipped = zip(colors, codes, names)\n",
    "print('Zip: ', list(zipped))"
   ]
  },
  {
   "cell_type": "code",
   "execution_count": 28,
   "metadata": {},
   "outputs": [
    {
     "name": "stdout",
     "output_type": "stream",
     "text": [
      "Keys:  dict_keys(['Apple', 'Hua Wei', 'OPPO', 'MI', 'vivo'])\n",
      "Values:  dict_values([9999, 8888, 7777, 6666, 5555])\n",
      "Zipped:  [(9999, 'Apple'), (8888, 'Hua Wei'), (7777, 'OPPO'), (6666, 'MI'), (5555, 'vivo')]\n",
      "Sorted:  [(5555, 'vivo'), (6666, 'MI'), (7777, 'OPPO'), (8888, 'Hua Wei'), (9999, 'Apple')]\n",
      "Max:  (9999, 'Apple')\n",
      "Min:  (5555, 'vivo')\n"
     ]
    }
   ],
   "source": [
    "\"\"\"在字典上执行数学运算\n",
    "\n",
    "作用于键，而不是值\n",
    "使用zip()函数将字典的键和值反转\n",
    "\"\"\"\n",
    "\n",
    "phones = {\n",
    "    'Apple': 9999,\n",
    "    'Hua Wei': 8888,\n",
    "    'OPPO': 7777,\n",
    "    'MI': 6666,\n",
    "    'vivo': 5555\n",
    "}\n",
    "\n",
    "# 键值反转\n",
    "print('Keys: ', phones.keys())\n",
    "print('Values: ', phones.values())\n",
    "print('Zipped: ', list(zip(phones.values(), phones.keys())))\n",
    "\n",
    "# 按价格排序\n",
    "sorted_phones = sorted(zip(phones.values(), phones.keys()))\n",
    "print('Sorted: ', sorted_phones)\n",
    "\n",
    "# 价格最高\n",
    "max_phone = max(zip(phones.values(), phones.keys()))\n",
    "print('Max: ', max_phone)\n",
    "\n",
    "# 价格最低\n",
    "min_phone = min(zip(phones.values(), phones.keys()))\n",
    "print('Min: ', min_phone)"
   ]
  },
  {
   "cell_type": "code",
   "execution_count": 12,
   "metadata": {},
   "outputs": [
    {
     "name": "stdout",
     "output_type": "stream",
     "text": [
      "{'red', 'green'}\n",
      "{'blue', 'yellow'}\n",
      "{('green', '00ff00')}\n",
      "{('blue', '0000ff'), ('red', 'ff0000'), ('yellow', 'ffff00')}\n",
      "{'red': 'ff0000', 'green': '00ff00'}\n"
     ]
    }
   ],
   "source": [
    "\"\"\"字典的keys()方法\n",
    "\n",
    "返回一个展现键集合的键视图对象\n",
    "键视图直接支持集合操作\n",
    "\"\"\"\n",
    "\n",
    "colors1 = {\n",
    "    'red': 'ff0000',\n",
    "    'green': '00ff00',\n",
    "    'blue': '0000ff',\n",
    "    'yellow': 'ffff00'\n",
    "}\n",
    "\n",
    "colors2 = {\n",
    "    'black': '黑',\n",
    "    'white': 'ffffff',\n",
    "    'red': '红',\n",
    "    'green': '00ff00'\n",
    "}\n",
    "\n",
    "# key的交集\n",
    "print(colors1.keys() & colors2.keys())\n",
    "# key的差集\n",
    "print(colors1.keys() - colors2.keys())\n",
    "# item的交集\n",
    "print(colors1.items() & colors2.items())\n",
    "# item的差集\n",
    "print(colors1.items() - colors2.items())\n",
    "\n",
    "# 过滤字典元素，构建一个新的字典\n",
    "colors = {k: colors1[k] for k in colors1.keys() - {'blue', 'yellow'}}\n",
    "print(colors)"
   ]
  },
  {
   "cell_type": "code",
   "execution_count": 18,
   "metadata": {},
   "outputs": [
    {
     "name": "stdout",
     "output_type": "stream",
     "text": [
      "[1, 3, 5, 7, 9]\n",
      "[{'x': 1, 'y': 1}, {'x': 2, 'y': 2}]\n",
      "[{'x': 1, 'y': 1}, {'x': 1, 'y': 2}, {'x': 2, 'y': 2}, {'x': 2, 'y': 1}]\n"
     ]
    }
   ],
   "source": [
    "\"\"\"在一个序列上消除重复元素并按原顺序保存\"\"\"\n",
    "\n",
    "# 序列中的值是可哈希hashable类型\n",
    "def dedupe1(items):\n",
    "    seen = set()\n",
    "    for item in items:\n",
    "        if item not in seen:\n",
    "            yield item\n",
    "            seen.add(item)\n",
    "            \n",
    "nums = [1, 3, 5, 3, 7, 5, 9, 7, 9]\n",
    "print(list(dedupe1(nums)))\n",
    "\n",
    "\n",
    "# 序列中的值是不可哈希的\n",
    "def dedupe2(items, key=None):\n",
    "    seen = set()\n",
    "    for item in items:\n",
    "        val = item if key is None else key(item)\n",
    "        if val not in seen:\n",
    "            yield item\n",
    "            seen.add(val)\n",
    "            \n",
    "points = [{'x': 1, 'y': 1}, {'x': 1, 'y': 2}, {'x': 1, 'y': 1}, {'x': 2, 'y': 2}, {'x': 2, 'y': 1}]\n",
    "print(list(dedupe2(points, key=lambda p: p['x'])))\n",
    "print(list(dedupe2(points, key=lambda p: (p['x'], p['y']))))"
   ]
  },
  {
   "cell_type": "code",
   "execution_count": 23,
   "metadata": {},
   "outputs": [
    {
     "name": "stdout",
     "output_type": "stream",
     "text": [
      "Start:  1\n",
      "Stop:  10\n",
      "Step:  2\n",
      "X * Y =  6\n"
     ]
    }
   ],
   "source": [
    "\"\"\"命名切片\n",
    "\n",
    "避免硬编码下标\n",
    "\"\"\"\n",
    "\n",
    "# 命名切片的属性\n",
    "s = slice(1, 10, 2)\n",
    "print('Start: ', s.start)\n",
    "print('Stop: ', s.stop)\n",
    "print('Step: ', s.step)\n",
    "\n",
    "# 使用命名切片\n",
    "msg = 'X is 2 Y is 3'\n",
    "x = slice(5, 6)\n",
    "y = slice(12, 13)\n",
    "print('X * Y = ', int(msg[x]) * int(msg[y]))"
   ]
  },
  {
   "cell_type": "code",
   "execution_count": 29,
   "metadata": {},
   "outputs": [
    {
     "name": "stdout",
     "output_type": "stream",
     "text": [
      "Counter({'red': 4, 'blue': 3, 'green': 2, 'yellow': 2, 'black': 1})\n",
      "[('red', 4), ('blue', 3), ('green', 2)]\n",
      "4\n",
      "Counter({'red': 4, 'blue': 3, 'yellow': 3, 'green': 2, 'black': 2, 'white': 1})\n",
      "Counter({'red': 4, 'blue': 3, 'green': 2, 'yellow': 1})\n"
     ]
    }
   ],
   "source": [
    "\"\"\"统计序列中元素出现的次数\n",
    "\n",
    "作为输入，Counter对象可以接受任意的由可哈希元素构成的序列对象\n",
    "一个Counter对象就是一个字典，将元素映射到它出现的次数上\n",
    "\"\"\"\n",
    "\n",
    "from collections import Counter\n",
    "\n",
    "# Counter的基本使用\n",
    "colors = ['red', 'green', 'blue', 'blue', 'red', 'yellow', 'green', 'red', 'blue', 'red', 'black', 'yellow']\n",
    "color_counter = Counter(colors)\n",
    "print(color_counter)\n",
    "\n",
    "# 出现次数最多的3个元素\n",
    "print(color_counter.most_common(3))\n",
    "\n",
    "# 单独查看某个元素的出现次数\n",
    "print(color_counter['red'])\n",
    "\n",
    "# 更新计数\n",
    "colors2 = ['yellow', 'black', 'white']\n",
    "color_counter.update(colors2)\n",
    "print(color_counter)\n",
    "\n",
    "# Counter实例直接进行数学运算\n",
    "c1 = Counter(colors)\n",
    "c2 = Counter(colors2)\n",
    "print(c1 - c2)"
   ]
  },
  {
   "cell_type": "code",
   "execution_count": 35,
   "metadata": {
    "scrolled": true
   },
   "outputs": [
    {
     "name": "stdout",
     "output_type": "stream",
     "text": [
      "按uid排序： [{'uid': 1001, 'fname': 'Big', 'lname': 'Jones'}, {'uid': 1002, 'fname': 'David', 'lname': 'Beazley'}, {'uid': 1003, 'fname': 'Brian', 'lname': 'Jones'}, {'uid': 1004, 'fname': 'John', 'lname': 'Cleese'}, {'uid': 1005, 'fname': 'David', 'lname': 'Lee'}]\n",
      "按fname排序： [{'uid': 1001, 'fname': 'Big', 'lname': 'Jones'}, {'uid': 1003, 'fname': 'Brian', 'lname': 'Jones'}, {'uid': 1005, 'fname': 'David', 'lname': 'Lee'}, {'uid': 1002, 'fname': 'David', 'lname': 'Beazley'}, {'uid': 1004, 'fname': 'John', 'lname': 'Cleese'}]\n",
      "按fname + lname排序： [{'uid': 1001, 'fname': 'Big', 'lname': 'Jones'}, {'uid': 1003, 'fname': 'Brian', 'lname': 'Jones'}, {'uid': 1002, 'fname': 'David', 'lname': 'Beazley'}, {'uid': 1005, 'fname': 'David', 'lname': 'Lee'}, {'uid': 1004, 'fname': 'John', 'lname': 'Cleese'}]\n",
      "Max:  {'uid': 1005, 'fname': 'David', 'lname': 'Lee'}\n",
      "Min:  {'uid': 1001, 'fname': 'Big', 'lname': 'Jones'}\n"
     ]
    }
   ],
   "source": [
    "\"\"\"通过特定关键字对字典进行排序\n",
    "\n",
    "itemgetter()方法创建一个callable对象，返回用来排序的值\n",
    "itemgetter()方式比lambda方式稍快\n",
    "\"\"\"\n",
    "\n",
    "from operator import itemgetter\n",
    "\n",
    "rows = [\n",
    "    {'uid': 1005, 'fname': 'David', 'lname': 'Lee'},\n",
    "    {'uid': 1003, 'fname': 'Brian', 'lname': 'Jones'},\n",
    "    {'uid': 1002, 'fname': 'David', 'lname': 'Beazley'},\n",
    "    {'uid': 1004, 'fname': 'John', 'lname': 'Cleese'},\n",
    "    {'uid': 1001, 'fname': 'Big', 'lname': 'Jones'}\n",
    "]\n",
    "\n",
    "# 按指定字段进行排序，可同时指定多个排序字段\n",
    "rows_by_uid = sorted(rows, key=itemgetter('uid'))\n",
    "print('按uid排序：', rows_by_uid)\n",
    "\n",
    "rows_by_fname = sorted(rows, key=itemgetter('fname'))\n",
    "print('按fname排序：', rows_by_fname)\n",
    "\n",
    "rows_by_name = sorted(rows, key=itemgetter('fname', 'lname'))\n",
    "print('按fname + lname排序：', rows_by_name)\n",
    "\n",
    "# 使用max()和min()\n",
    "print('Max: ', max(rows, key=itemgetter('uid')))\n",
    "print('Min: ', min(rows, key=itemgetter('uid')))"
   ]
  },
  {
   "cell_type": "code",
   "execution_count": null,
   "metadata": {},
   "outputs": [],
   "source": []
  }
 ],
 "metadata": {
  "kernelspec": {
   "display_name": "Python 3",
   "language": "python",
   "name": "python3"
  },
  "language_info": {
   "codemirror_mode": {
    "name": "ipython",
    "version": 3
   },
   "file_extension": ".py",
   "mimetype": "text/x-python",
   "name": "python",
   "nbconvert_exporter": "python",
   "pygments_lexer": "ipython3",
   "version": "3.7.1"
  }
 },
 "nbformat": 4,
 "nbformat_minor": 2
}
