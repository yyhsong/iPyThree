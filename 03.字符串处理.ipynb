{
 "cells": [
  {
   "cell_type": "code",
   "execution_count": 3,
   "metadata": {},
   "outputs": [
    {
     "name": "stdout",
     "output_type": "stream",
     "text": [
      "65\n",
      "20013\n",
      "A\n",
      "中\n",
      "中文\n",
      "b'ABC'\n",
      "b'\\xe4\\xb8\\xad\\xe6\\x96\\x87'\n",
      "ABC\n",
      "中文\n",
      "3\n",
      "2\n",
      "3\n",
      "6\n"
     ]
    }
   ],
   "source": [
    "\"\"\"字符串\n",
    "\n",
    "比特(bit)是计算机最小单位\n",
    "1个字节(byte)等于8个比特，能表示的最大整数为255\n",
    "ASCII编码是1个字节，Unicode编码通常是2个字节\n",
    "UTF-8把英文字母编码成1个字节，汉字通常是3个字节，是一种“可变长编码”\n",
    "\n",
    "在计算机内存中，统一使用Unicode编码，当需要保存到硬盘或者需要传输的时候，就转换成UTF-8编码\n",
    "用记事本编辑的时候，从文件读取的UTF-8字符被转换为Unicode字符到内存中，编辑完成后，再把Unicode转换为UTF-8保存到文件\n",
    "浏览网页的时候，服务器会把动态生成的Unicode内容转换为UTF-8再传输到浏览器\n",
    "\n",
    "Python的字符串类型是str，在内存中以Unicode表示，一个字符对应若干个字节\n",
    "如果要在网络上传输，或者保存到磁盘上，就需要把str变为以字节为单位的bytes\n",
    "\"\"\"\n",
    "\n",
    "# 获取字符编码\n",
    "print(ord('A'))\n",
    "print(ord('中'))\n",
    "\n",
    "# 把编码转换为字符\n",
    "print(chr(65))\n",
    "print(chr(20013))\n",
    "\n",
    "# 十六进制编码\n",
    "print('\\u4e2d\\u6587')\n",
    "\n",
    "# bytes的每个字符都只占用一个字节\n",
    "# 以Unicode表示的str通过encode()方法可以编码为指定的bytes\n",
    "# 在bytes中，无法显示为ASCII字符的字节，用\\x##显示\n",
    "print('ABC'.encode('ascii'))\n",
    "print('中文'.encode('utf-8'))\n",
    "\n",
    "# 从网络或磁盘上读取了字节流，读到的数据就是bytes\n",
    "# 可以通过decode()方法把bytes解码为str\n",
    "# 如果bytes中包含无法解码的字节，可以使用参数errors='ignore'忽略错误的字节\n",
    "print(b'ABC'.decode('ascii'))\n",
    "print(b'\\xe4\\xb8\\xad\\xe6\\x96\\x87'.decode('utf-8'))\n",
    "\n",
    "# 用len()函数计算str包含的字符数\n",
    "print(len('ABC'))\n",
    "print(len('中文'))\n",
    "\n",
    "# 用len()函数计算bytes包含的字节数\n",
    "print(len(b'ABC'))\n",
    "print(len(b'\\xe4\\xb8\\xad\\xe6\\x96\\x87'))"
   ]
  },
  {
   "cell_type": "code",
   "execution_count": 4,
   "metadata": {},
   "outputs": [
    {
     "name": "stdout",
     "output_type": "stream",
     "text": [
      "['h', 'e', 'l', 'l', 'o', ' ', 'w', 'o', 'r', 'l', 'd']\n"
     ]
    }
   ],
   "source": [
    "\"\"\"字符串属于可迭代对象\n",
    "\n",
    "可以使用unicodedata.normalize()对字符进行标准化处理\n",
    "字符标准化对需要以一致的方式处理Unicode文本的程序非常重要\n",
    "\n",
    "对文本字符串的大部分操作也适用于字节字符串\n",
    "\"\"\"\n",
    "\n",
    "msg_str = 'hello world'\n",
    "print([c for c in msg_str])"
   ]
  },
  {
   "cell_type": "code",
   "execution_count": 5,
   "metadata": {},
   "outputs": [
    {
     "name": "stdout",
     "output_type": "stream",
     "text": [
      "['2020', '06', '01']\n",
      "['hello', 'world', 'are', 'you', 'ok']\n"
     ]
    }
   ],
   "source": [
    "\"\"\"字符串分割\n",
    "\n",
    "简单字符串分割：str.split()\n",
    "复杂字符串分割：re.split()\n",
    "\"\"\"\n",
    "\n",
    "date_str = '2020-06-01'\n",
    "print(str.split(date_str, '-'))\n",
    "\n",
    "import re\n",
    "msg_str = 'hello, world; are you, ok'\n",
    "print(re.split(r'[;,\\s]\\s*', msg_str))"
   ]
  },
  {
   "cell_type": "code",
   "execution_count": 6,
   "metadata": {},
   "outputs": [
    {
     "name": "stdout",
     "output_type": "stream",
     "text": [
      "True\n",
      "True\n",
      "['test.py', 'test.c', 'hello_world.py', 'test.h']\n",
      "['test.py', 'readme.md', 'hello_world.py']\n",
      "True\n",
      "['test.py', 'test.c']\n",
      "<re.Match object; span=(0, 5), match='http:'>\n"
     ]
    }
   ],
   "source": [
    "\"\"\"字符串匹配\"\"\"\n",
    "\n",
    "# 开头和结尾匹配\n",
    "file_name = 'hello_world.py'\n",
    "print(file_name.startswith('hello'))\n",
    "print(file_name.endswith('py'))\n",
    "\n",
    "# 多项匹配，将匹配项放入元祖\n",
    "files = ['test.py', 'readme.md', 'test.c', 'hello_world.py', 'test.h']\n",
    "print([f for f in files if f.startswith(('test', 'hello'))])\n",
    "print([f for f in files if f.endswith(('py', 'md'))])\n",
    "print(any(f.startswith('test') and f.endswith(('py', 'c')) for f in files))\n",
    "print([f for f in files if f.startswith('test') and f.endswith(('py', 'c'))])\n",
    "\n",
    "# 用正则进行匹配\n",
    "import re\n",
    "url = 'http://www.abc.com'\n",
    "print(re.match('http:|https:|ftp:', url))"
   ]
  },
  {
   "cell_type": "code",
   "execution_count": 7,
   "metadata": {},
   "outputs": [
    {
     "name": "stdout",
     "output_type": "stream",
     "text": [
      "True\n",
      "True\n",
      "['data1.csv', 'data2.csv', 'data3.csv']\n",
      "True\n",
      "False\n"
     ]
    }
   ],
   "source": [
    "\"\"\"用通配符匹配字符串\n",
    "\n",
    "*可以占位多个字符，?只能占位一个字符\n",
    "fnmatch()函数匹配能力介于简单的字符串方法和正则方法之间\n",
    "fnmatch()和fnmatchcase()并不局限于做文件名的匹配\n",
    "\"\"\"\n",
    "\n",
    "from fnmatch import fnmatch, fnmatchcase\n",
    "\n",
    "print(fnmatch('test.py', '*.py'))\n",
    "print(fnmatch('data1.py', 'data?.py'))\n",
    "\n",
    "files = ['test.py', 'data1.csv', 'readme.md', 'data2.csv', 'data3.csv', 'hello.java']\n",
    "print([f for f in files if fnmatch(f, 'data*.csv')])\n",
    "\n",
    "# fnmatchcase()严格区分大小写，fnmatch()则根据当前系统规则\n",
    "print(fnmatch('test.py', '*.PY'))\n",
    "print(fnmatchcase('test.py', '*.PY'))"
   ]
  },
  {
   "cell_type": "code",
   "execution_count": 8,
   "metadata": {},
   "outputs": [
    {
     "name": "stdout",
     "output_type": "stream",
     "text": [
      "None\n",
      "['2020/6/3', '2020/6/4']\n",
      "2020/6/3\n",
      "2020/6/4\n"
     ]
    }
   ],
   "source": [
    "\"\"\"字符串模式匹配\n",
    "\n",
    "首先使用re.compile()编译正则表达式\n",
    "然后使用以下方法进行匹配：\n",
    "match()从字符串开头进行匹配\n",
    "findall()匹配全部内容\n",
    "finditer()返回可迭代结果\n",
    "\"\"\"\n",
    "\n",
    "import re\n",
    "\n",
    "date_str = 'Today is 2020/6/3, and tomorrow is 2020/6/4.'\n",
    "date_pat = re.compile(r'\\d+/\\d+/\\d+')\n",
    "\n",
    "print(date_pat.match(date_str))\n",
    "print(date_pat.findall(date_str))\n",
    "\n",
    "for d in date_pat.finditer(date_str):\n",
    "    print(d.group())"
   ]
  },
  {
   "cell_type": "code",
   "execution_count": 9,
   "metadata": {},
   "outputs": [
    {
     "name": "stdout",
     "output_type": "stream",
     "text": [
      "Hi Kobe, Hi James, Hi Jordan\n",
      "Today is 2020-6-3, and tomorrow is 2020-6-4\n",
      "Today is 2020-6-3, and tomorrow is 2020-6-4\n",
      "Today is 2020-6-3, and tomorrow is 2020-6-4\n",
      "2\n"
     ]
    }
   ],
   "source": [
    "\"\"\"字符串搜索和替换\n",
    "\n",
    "简单的字面模式，直接使用str.replace()方法即可\n",
    "\n",
    "对于较复杂的模式，可以使用re.sub()方法\n",
    "第一个参数是被匹配的模式，第二个参数是替换模式\n",
    "\"\"\"\n",
    "\n",
    "hello_msg = 'Hello Kobe, Hello James, Hello Jordan'\n",
    "print(hello_msg.replace('Hello', 'Hi'))\n",
    "\n",
    "import re\n",
    "date_str = 'Today is 3/6/2020, and tomorrow is 4/6/2020'\n",
    "# 反斜杠数字（如\\3）指向前面模式的捕获组号\n",
    "print(re.sub(r'(\\d+)/(\\d+)/(\\d+)', r'\\3-\\2-\\1', date_str))\n",
    "\n",
    "# 需要多次替换时，可以先编译来提高性能\n",
    "date_pat = re.compile(r'(\\d+)/(\\d+)/(\\d+)')\n",
    "print(date_pat.sub(r'\\3-\\2-\\1', date_str))\n",
    "\n",
    "# 对于更加复杂的替换，可以传递一个回调函数参数\n",
    "# 使用re.subn()方法来获取替换次数\n",
    "new_date_str, replace_num = date_pat.subn(r'\\3-\\2-\\1', date_str)\n",
    "print(new_date_str)\n",
    "print(replace_num)"
   ]
  },
  {
   "cell_type": "code",
   "execution_count": 10,
   "metadata": {},
   "outputs": [
    {
     "name": "stdout",
     "output_type": "stream",
     "text": [
      "['PYTHON', 'python', 'Python']\n",
      "UPPER snake, lower snake, Mixed snake\n",
      "UPPER SNAKE, lower snake, Mixed Snake\n"
     ]
    }
   ],
   "source": [
    "\"\"\"re模块\n",
    "\n",
    "使用re.IGNORECASE标志参数忽略大小写\n",
    "\"\"\"\n",
    "\n",
    "import re\n",
    "\n",
    "txt = 'UPPER PYTHON, lower python, Mixed Python'\n",
    "print(re.findall('python', txt, flags=re.IGNORECASE))\n",
    "print(re.sub('python', 'snake', txt, flags=re.IGNORECASE))\n",
    "\n",
    "\n",
    "# 替换字符串不会自动跟匹配字符串的大小写保持一致\n",
    "# 定义一个辅助函数，该函数返回一个回调函数\n",
    "def matchcase(word):\n",
    "    def replace(m):\n",
    "        t = m.group()\n",
    "        if t.isupper():\n",
    "            return word.upper()\n",
    "        elif t.islower():\n",
    "            return word.lower()\n",
    "        elif t[0].isupper():\n",
    "            return word.capitalize()\n",
    "        else:\n",
    "            return word\n",
    "        \n",
    "    return replace\n",
    "\n",
    "print(re.sub('python', matchcase('snake'), txt, flags=re.IGNORECASE))"
   ]
  },
  {
   "cell_type": "code",
   "execution_count": 11,
   "metadata": {},
   "outputs": [
    {
     "name": "stdout",
     "output_type": "stream",
     "text": [
      "['YES\", and PHP says \"NO']\n",
      "['YES', 'NO']\n"
     ]
    }
   ],
   "source": [
    "\"\"\"最短匹配模式\n",
    "\n",
    ".点操作符可以匹配除换行符以外的所有字符\n",
    "\"\"\"\n",
    "\n",
    "import re\n",
    "\n",
    "txt = 'Python says \"YES\", and PHP says \"NO\"'\n",
    "\n",
    "pat1 = re.compile(r'\\\"(.*)\\\"')\n",
    "pat2 = re.compile(r'\\\"(.*?)\\\"')\n",
    "\n",
    "print(pat1.findall(txt))\n",
    "print(pat2.findall(txt))"
   ]
  },
  {
   "cell_type": "code",
   "execution_count": 12,
   "metadata": {},
   "outputs": [
    {
     "name": "stdout",
     "output_type": "stream",
     "text": [
      "_hello world_\n",
      "_hello world_ \n",
      " _hello world_\n",
      "hello world\n",
      "hello world\n"
     ]
    }
   ],
   "source": [
    "\"\"\"删除字符串中的指定字符\n",
    "\n",
    "strip(), lstrip(), rstrip()默认删除空白字符\n",
    "可以给以上方法添加参数，删除指定字符\n",
    "\"\"\"\n",
    "\n",
    "msg = ' _hello world_ '\n",
    "\n",
    "print(msg.strip())\n",
    "print(msg.lstrip())\n",
    "print(msg.rstrip())\n",
    "\n",
    "print(msg.strip('_ '))\n",
    "print(msg.strip(' _'))"
   ]
  },
  {
   "cell_type": "code",
   "execution_count": 13,
   "metadata": {},
   "outputs": [
    {
     "name": "stdout",
     "output_type": "stream",
     "text": [
      "Apple is \tred,\n",
      " tree is \tgreen,\n",
      " sky is \tblue.\r\n",
      "\n",
      "Apple is red,  tree is green,  sky is blue. \n"
     ]
    }
   ],
   "source": [
    "\"\"\"审查清理文本字符串\"\"\"\n",
    "\n",
    "msg = 'Apple is \\tred,\\n tree is \\tgreen,\\n sky is \\tblue.\\r\\n'\n",
    "print(msg)\n",
    "\n",
    "rmap = {\n",
    "    ord('\\t'): '',\n",
    "    ord('\\n'): ' ',\n",
    "    ord('\\r'): None  # Deleted\n",
    "}\n",
    "print(msg.translate(rmap))"
   ]
  },
  {
   "cell_type": "code",
   "execution_count": 14,
   "metadata": {},
   "outputs": [
    {
     "name": "stdout",
     "output_type": "stream",
     "text": [
      "hello world\n",
      "red green blue\n",
      "red,green,blue\n",
      "helloworld\n"
     ]
    }
   ],
   "source": [
    "\"\"\"字符串拼接\"\"\"\n",
    "\n",
    "# 简单字符串拼接\n",
    "txt1 = 'hello'\n",
    "txt2 =  'world'\n",
    "txt = txt1 + ' ' + txt2\n",
    "print(txt)\n",
    "\n",
    "# 拼接可迭代对象中的字符串\n",
    "colors = ['red', 'green', 'blue']\n",
    "print(' '.join(colors))\n",
    "print(','.join(colors))\n",
    "\n",
    "# 在源码中将两个字符串合并\n",
    "s = 'hello' 'world'\n",
    "print(s)"
   ]
  },
  {
   "cell_type": "code",
   "execution_count": 15,
   "metadata": {},
   "outputs": [
    {
     "name": "stdout",
     "output_type": "stream",
     "text": [
      "hello world         \n",
      "         hello world\n",
      "    hello world     \n",
      "****hello world*****\n",
      "hello world         \n",
      "         hello world\n",
      "    hello world     \n",
      "****hello world*****\n",
      "     hello      world\n"
     ]
    }
   ],
   "source": [
    "\"\"\"字符串对齐、填充及格式化\"\"\"\n",
    "\n",
    "txt = 'hello world'\n",
    "\n",
    "# 字符串对齐\n",
    "print(txt.ljust(20))\n",
    "print(txt.rjust(20))\n",
    "print(txt.center(20))\n",
    "\n",
    "# 字符串填充\n",
    "print(txt.center(20, '*'))\n",
    "\n",
    "# 使用format()格式化字符串\n",
    "print(format(txt, '<20'))\n",
    "print(format(txt, '>20'))\n",
    "print(format(txt, '^20'))\n",
    "print(format(txt, '*^20'))\n",
    "\n",
    "# 格式化多个值\n",
    "print('{:>10s} {:>10s}'.format('hello', 'world'))"
   ]
  },
  {
   "cell_type": "code",
   "execution_count": 16,
   "metadata": {},
   "outputs": [
    {
     "name": "stdout",
     "output_type": "stream",
     "text": [
      "Playoff basketball is back! It has been a long\n",
      "  regular season (177 days, to be exact), but the\n",
      "  postseason has arrived, and it looks a lot\n",
      "  different than it did a year ago. For the first\n",
      "  time since 2010, a team not led by LeBron James\n",
      "  will emerge from the Eastern Conference, and for\n",
      "  the first time since 2005, James will not be\n",
      "  involved in the festivities.As for the\n",
      "  players,teams and matchups to know, well, we've\n",
      "  got you covered.\n"
     ]
    }
   ],
   "source": [
    "# 以指定列宽格式化字符串\n",
    "\n",
    "import textwrap\n",
    "\n",
    "txt = 'Playoff basketball is back! \\\n",
    "It has been a long regular season (177 days, to be exact), but the postseason has arrived, \\\n",
    "and it looks a lot different than it did a year ago. \\\n",
    "For the first time since 2010, a team not led by LeBron James will emerge from the Eastern Conference, \\\n",
    "and for the first time since 2005, James will not be involved in the festivities.As for the players,\\\n",
    "teams and matchups to know, well, we\\'ve got you covered.'\n",
    "\n",
    "# print(textwrap.fill(txt, 50))\n",
    "# print(textwrap.fill(txt, 50, initial_indent='  '))  # 首行缩进\n",
    "print(textwrap.fill(txt, 50, subsequent_indent='  ')) # 非首行缩进"
   ]
  },
  {
   "cell_type": "code",
   "execution_count": 17,
   "metadata": {},
   "outputs": [
    {
     "name": "stdout",
     "output_type": "stream",
     "text": [
      "Elements are written as \"<tag>text</tag>\"\n",
      "Elements are written as \"&lt;tag&gt;text&lt;/tag&gt;\"\n",
      "Elements are written as \"<tag>text</tag>\"\n"
     ]
    }
   ],
   "source": [
    "\"\"\"处理字符串中的HTML标签\"\"\"\n",
    "\n",
    "import html\n",
    "\n",
    "txt = 'Elements are written as \"<tag>text</tag>\"'\n",
    "print(txt)\n",
    "\n",
    "# 对标签进行实体转义\n",
    "h = html.escape(txt, quote=False)\n",
    "print(h)\n",
    "\n",
    "# 把转义符重新转换为标签\n",
    "t = html.unescape(h)\n",
    "print(t)"
   ]
  }
 ],
 "metadata": {
  "kernelspec": {
   "display_name": "Python 3 (ipykernel)",
   "language": "python",
   "name": "python3"
  },
  "language_info": {
   "codemirror_mode": {
    "name": "ipython",
    "version": 3
   },
   "file_extension": ".py",
   "mimetype": "text/x-python",
   "name": "python",
   "nbconvert_exporter": "python",
   "pygments_lexer": "ipython3",
   "version": "3.11.4"
  }
 },
 "nbformat": 4,
 "nbformat_minor": 2
}
