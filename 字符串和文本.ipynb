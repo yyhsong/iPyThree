{
 "cells": [
  {
   "cell_type": "code",
   "execution_count": 5,
   "metadata": {},
   "outputs": [
    {
     "name": "stdout",
     "output_type": "stream",
     "text": [
      "['h', 'e', 'l', 'l', 'o', ' ', 'w', 'o', 'r', 'l', 'd']\n"
     ]
    }
   ],
   "source": [
    "\"\"\"字符串属于可迭代对象\n",
    "\n",
    "可以使用unicodedata.normalize()对字符进行标准化处理\n",
    "字符标准化对需要以一致的方式处理Unicode文本的程序非常重要\n",
    "\n",
    "对文本字符串的大部分操作也适用于字节字符串\n",
    "\"\"\"\n",
    "\n",
    "msg_str = 'hello world'\n",
    "print([c for c in msg_str])"
   ]
  },
  {
   "cell_type": "code",
   "execution_count": 6,
   "metadata": {},
   "outputs": [
    {
     "name": "stdout",
     "output_type": "stream",
     "text": [
      "['2020', '06', '01']\n",
      "['hello', 'world', 'are', 'you', 'ok']\n"
     ]
    }
   ],
   "source": [
    "\"\"\"字符串分割\n",
    "\n",
    "简单字符串分割：str.split()\n",
    "复杂字符串分割：re.split()\n",
    "\"\"\"\n",
    "\n",
    "date_str = '2020-06-01'\n",
    "print(str.split(date_str, '-'))\n",
    "\n",
    "import re\n",
    "msg_str = 'hello, world; are you, ok'\n",
    "print(re.split(r'[;,\\s]\\s*', msg_str))"
   ]
  },
  {
   "cell_type": "code",
   "execution_count": 13,
   "metadata": {},
   "outputs": [
    {
     "name": "stdout",
     "output_type": "stream",
     "text": [
      "True\n",
      "True\n",
      "['test.py', 'test.c', 'hello_world.py', 'test.h']\n",
      "['test.py', 'readme.md', 'hello_world.py']\n",
      "True\n",
      "['test.py', 'test.c']\n",
      "<re.Match object; span=(0, 5), match='http:'>\n"
     ]
    }
   ],
   "source": [
    "\"\"\"字符串匹配\"\"\"\n",
    "\n",
    "# 开头和结尾匹配\n",
    "file_name = 'hello_world.py'\n",
    "print(file_name.startswith('hello'))\n",
    "print(file_name.endswith('py'))\n",
    "\n",
    "# 多项匹配，将匹配项放入元祖\n",
    "files = ['test.py', 'readme.md', 'test.c', 'hello_world.py', 'test.h']\n",
    "print([f for f in files if f.startswith(('test', 'hello'))])\n",
    "print([f for f in files if f.endswith(('py', 'md'))])\n",
    "print(any(f.startswith('test') and f.endswith(('py', 'c')) for f in files))\n",
    "print([f for f in files if f.startswith('test') and f.endswith(('py', 'c'))])\n",
    "\n",
    "# 用正则进行匹配\n",
    "import re\n",
    "url = 'http://www.abc.com'\n",
    "print(re.match('http:|https:|ftp:', url))"
   ]
  },
  {
   "cell_type": "code",
   "execution_count": 19,
   "metadata": {},
   "outputs": [
    {
     "name": "stdout",
     "output_type": "stream",
     "text": [
      "True\n",
      "True\n",
      "['data1.csv', 'data2.csv', 'data3.csv']\n",
      "True\n",
      "False\n"
     ]
    }
   ],
   "source": [
    "\"\"\"用通配符匹配字符串\n",
    "\n",
    "*可以占位多个字符，?只能占位一个字符\n",
    "fnmatch()函数匹配能力介于简单的字符串方法和正则方法之间\n",
    "fnmatch()和fnmatchcase()并不局限于做文件名的匹配\n",
    "\"\"\"\n",
    "\n",
    "from fnmatch import fnmatch, fnmatchcase\n",
    "\n",
    "print(fnmatch('test.py', '*.py'))\n",
    "print(fnmatch('data1.py', 'data?.py'))\n",
    "\n",
    "files = ['test.py', 'data1.csv', 'readme.md', 'data2.csv', 'data3.csv', 'hello.java']\n",
    "print([f for f in files if fnmatch(f, 'data*.csv')])\n",
    "\n",
    "# fnmatchcase()严格区分大小写，fnmatch()则根据当前系统规则\n",
    "print(fnmatch('test.py', '*.PY'))\n",
    "print(fnmatchcase('test.py', '*.PY'))"
   ]
  },
  {
   "cell_type": "code",
   "execution_count": 4,
   "metadata": {},
   "outputs": [
    {
     "name": "stdout",
     "output_type": "stream",
     "text": [
      "None\n",
      "['2020/6/3', '2020/6/4']\n",
      "2020/6/3\n",
      "2020/6/4\n"
     ]
    }
   ],
   "source": [
    "\"\"\"字符串模式匹配\n",
    "\n",
    "首先使用re.compile()编译正则表达式\n",
    "然后使用以下方法进行匹配：\n",
    "match()从字符串开头进行匹配\n",
    "findall()匹配全部内容\n",
    "finditer()返回可迭代结果\n",
    "\"\"\"\n",
    "\n",
    "import re\n",
    "\n",
    "date_str = 'Today is 2020/6/3, and tomorrow is 2020/6/4.'\n",
    "date_pat = re.compile(r'\\d+/\\d+/\\d+')\n",
    "\n",
    "print(date_pat.match(date_str))\n",
    "print(date_pat.findall(date_str))\n",
    "\n",
    "for d in date_pat.finditer(date_str):\n",
    "    print(d.group())"
   ]
  },
  {
   "cell_type": "code",
   "execution_count": 9,
   "metadata": {},
   "outputs": [
    {
     "name": "stdout",
     "output_type": "stream",
     "text": [
      "Hi Kobe, Hi James, Hi Jordan\n",
      "Today is 2020-6-3, and tomorrow is 2020-6-4\n",
      "Today is 2020-6-3, and tomorrow is 2020-6-4\n",
      "Today is 2020-6-3, and tomorrow is 2020-6-4\n",
      "2\n"
     ]
    }
   ],
   "source": [
    "\"\"\"字符串搜索和替换\n",
    "\n",
    "简单的字面模式，直接使用str.replace()方法即可\n",
    "\n",
    "对于较复杂的模式，可以使用re.sub()方法\n",
    "第一个参数是被匹配的模式，第二个参数是替换模式\n",
    "\"\"\"\n",
    "\n",
    "hello_msg = 'Hello Kobe, Hello James, Hello Jordan'\n",
    "print(hello_msg.replace('Hello', 'Hi'))\n",
    "\n",
    "import re\n",
    "date_str = 'Today is 3/6/2020, and tomorrow is 4/6/2020'\n",
    "# 反斜杠数字（如\\3）指向前面模式的捕获组号\n",
    "print(re.sub(r'(\\d+)/(\\d+)/(\\d+)', r'\\3-\\2-\\1', date_str))\n",
    "\n",
    "# 需要多次替换时，可以先编译来提高性能\n",
    "date_pat = re.compile(r'(\\d+)/(\\d+)/(\\d+)')\n",
    "print(date_pat.sub(r'\\3-\\2-\\1', date_str))\n",
    "\n",
    "# 对于更加复杂的替换，可以传递一个回调函数参数\n",
    "# 使用re.subn()方法来获取替换次数\n",
    "new_date_str, replace_num = date_pat.subn(r'\\3-\\2-\\1', date_str)\n",
    "print(new_date_str)\n",
    "print(replace_num)"
   ]
  },
  {
   "cell_type": "code",
   "execution_count": 14,
   "metadata": {},
   "outputs": [
    {
     "name": "stdout",
     "output_type": "stream",
     "text": [
      "['PYTHON', 'python', 'Python']\n",
      "UPPER snake, lower snake, Mixed snake\n",
      "UPPER SNAKE, lower snake, Mixed Snake\n"
     ]
    }
   ],
   "source": [
    "\"\"\"re模块\n",
    "\n",
    "使用re.IGNORECASE标志参数忽略大小写\n",
    "\"\"\"\n",
    "\n",
    "import re\n",
    "\n",
    "txt = 'UPPER PYTHON, lower python, Mixed Python'\n",
    "print(re.findall('python', txt, flags=re.IGNORECASE))\n",
    "print(re.sub('python', 'snake', txt, flags=re.IGNORECASE))\n",
    "\n",
    "\n",
    "# 替换字符串不会自动跟匹配字符串的大小写保持一致\n",
    "# 定义一个辅助函数，该函数返回一个回调函数\n",
    "def matchcase(word):\n",
    "    def replace(m):\n",
    "        t = m.group()\n",
    "        if t.isupper():\n",
    "            return word.upper()\n",
    "        elif t.islower():\n",
    "            return word.lower()\n",
    "        elif t[0].isupper():\n",
    "            return word.capitalize()\n",
    "        else:\n",
    "            return word\n",
    "        \n",
    "    return replace\n",
    "\n",
    "print(re.sub('python', matchcase('snake'), txt, flags=re.IGNORECASE))"
   ]
  },
  {
   "cell_type": "code",
   "execution_count": 15,
   "metadata": {},
   "outputs": [
    {
     "name": "stdout",
     "output_type": "stream",
     "text": [
      "['YES\", and PHP says \"NO']\n",
      "['YES', 'NO']\n"
     ]
    }
   ],
   "source": [
    "\"\"\"最短匹配模式\n",
    "\n",
    ".点操作符可以匹配除换行符以外的所有字符\n",
    "\"\"\"\n",
    "\n",
    "import re\n",
    "\n",
    "txt = 'Python says \"YES\", and PHP says \"NO\"'\n",
    "\n",
    "pat1 = re.compile(r'\\\"(.*)\\\"')\n",
    "pat2 = re.compile(r'\\\"(.*?)\\\"')\n",
    "\n",
    "print(pat1.findall(txt))\n",
    "print(pat2.findall(txt))"
   ]
  },
  {
   "cell_type": "code",
   "execution_count": null,
   "metadata": {},
   "outputs": [],
   "source": []
  },
  {
   "cell_type": "code",
   "execution_count": null,
   "metadata": {},
   "outputs": [],
   "source": []
  },
  {
   "cell_type": "code",
   "execution_count": null,
   "metadata": {},
   "outputs": [],
   "source": []
  },
  {
   "cell_type": "code",
   "execution_count": null,
   "metadata": {},
   "outputs": [],
   "source": []
  },
  {
   "cell_type": "code",
   "execution_count": null,
   "metadata": {},
   "outputs": [],
   "source": []
  },
  {
   "cell_type": "code",
   "execution_count": null,
   "metadata": {},
   "outputs": [],
   "source": []
  },
  {
   "cell_type": "code",
   "execution_count": null,
   "metadata": {},
   "outputs": [],
   "source": []
  },
  {
   "cell_type": "code",
   "execution_count": null,
   "metadata": {},
   "outputs": [],
   "source": []
  },
  {
   "cell_type": "code",
   "execution_count": null,
   "metadata": {},
   "outputs": [],
   "source": []
  },
  {
   "cell_type": "code",
   "execution_count": null,
   "metadata": {},
   "outputs": [],
   "source": []
  },
  {
   "cell_type": "code",
   "execution_count": null,
   "metadata": {},
   "outputs": [],
   "source": []
  },
  {
   "cell_type": "code",
   "execution_count": null,
   "metadata": {},
   "outputs": [],
   "source": []
  },
  {
   "cell_type": "code",
   "execution_count": null,
   "metadata": {},
   "outputs": [],
   "source": []
  },
  {
   "cell_type": "code",
   "execution_count": null,
   "metadata": {},
   "outputs": [],
   "source": []
  },
  {
   "cell_type": "code",
   "execution_count": null,
   "metadata": {},
   "outputs": [],
   "source": []
  },
  {
   "cell_type": "code",
   "execution_count": null,
   "metadata": {},
   "outputs": [],
   "source": []
  }
 ],
 "metadata": {
  "kernelspec": {
   "display_name": "Python 3",
   "language": "python",
   "name": "python3"
  },
  "language_info": {
   "codemirror_mode": {
    "name": "ipython",
    "version": 3
   },
   "file_extension": ".py",
   "mimetype": "text/x-python",
   "name": "python",
   "nbconvert_exporter": "python",
   "pygments_lexer": "ipython3",
   "version": "3.7.1"
  }
 },
 "nbformat": 4,
 "nbformat_minor": 2
}
