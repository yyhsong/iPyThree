{
 "cells": [
  {
   "cell_type": "code",
   "execution_count": 5,
   "metadata": {},
   "outputs": [
    {
     "name": "stdout",
     "output_type": "stream",
     "text": [
      "['h', 'e', 'l', 'l', 'o', ' ', 'w', 'o', 'r', 'l', 'd']\n"
     ]
    }
   ],
   "source": [
    "\"\"\"字符串属于可迭代对象\"\"\"\n",
    "\n",
    "msg_str = 'hello world'\n",
    "print([c for c in msg_str])"
   ]
  },
  {
   "cell_type": "code",
   "execution_count": 6,
   "metadata": {},
   "outputs": [
    {
     "name": "stdout",
     "output_type": "stream",
     "text": [
      "['2020', '06', '01']\n",
      "['hello', 'world', 'are', 'you', 'ok']\n"
     ]
    }
   ],
   "source": [
    "\"\"\"字符串分割\n",
    "\n",
    "简单字符串分割：str.split()\n",
    "复杂字符串分割：re.split()\n",
    "\"\"\"\n",
    "\n",
    "date_str = '2020-06-01'\n",
    "print(str.split(date_str, '-'))\n",
    "\n",
    "import re\n",
    "msg_str = 'hello, world; are you, ok'\n",
    "print(re.split(r'[;,\\s]\\s*', msg_str))"
   ]
  },
  {
   "cell_type": "code",
   "execution_count": 13,
   "metadata": {},
   "outputs": [
    {
     "name": "stdout",
     "output_type": "stream",
     "text": [
      "True\n",
      "True\n",
      "['test.py', 'test.c', 'hello_world.py', 'test.h']\n",
      "['test.py', 'readme.md', 'hello_world.py']\n",
      "True\n",
      "['test.py', 'test.c']\n",
      "<re.Match object; span=(0, 5), match='http:'>\n"
     ]
    }
   ],
   "source": [
    "\"\"\"字符串匹配\"\"\"\n",
    "\n",
    "# 开头和结尾匹配\n",
    "file_name = 'hello_world.py'\n",
    "print(file_name.startswith('hello'))\n",
    "print(file_name.endswith('py'))\n",
    "\n",
    "# 多项匹配，将匹配项放入元祖\n",
    "files = ['test.py', 'readme.md', 'test.c', 'hello_world.py', 'test.h']\n",
    "print([f for f in files if f.startswith(('test', 'hello'))])\n",
    "print([f for f in files if f.endswith(('py', 'md'))])\n",
    "print(any(f.startswith('test') and f.endswith(('py', 'c')) for f in files))\n",
    "print([f for f in files if f.startswith('test') and f.endswith(('py', 'c'))])\n",
    "\n",
    "# 用正则进行匹配\n",
    "import re\n",
    "url = 'http://www.abc.com'\n",
    "print(re.match('http:|https:|ftp:', url))"
   ]
  },
  {
   "cell_type": "code",
   "execution_count": 19,
   "metadata": {},
   "outputs": [
    {
     "name": "stdout",
     "output_type": "stream",
     "text": [
      "True\n",
      "True\n",
      "['data1.csv', 'data2.csv', 'data3.csv']\n",
      "True\n",
      "False\n"
     ]
    }
   ],
   "source": [
    "\"\"\"用通配符匹配字符串\n",
    "\n",
    "*可以占位多个字符，?只能占位一个字符\n",
    "fnmatch()函数匹配能力介于简单的字符串方法和正则方法之间\n",
    "fnmatch()和fnmatchcase()并不局限于做文件名的匹配\n",
    "\"\"\"\n",
    "\n",
    "from fnmatch import fnmatch, fnmatchcase\n",
    "\n",
    "print(fnmatch('test.py', '*.py'))\n",
    "print(fnmatch('data1.py', 'data?.py'))\n",
    "\n",
    "files = ['test.py', 'data1.csv', 'readme.md', 'data2.csv', 'data3.csv', 'hello.java']\n",
    "print([f for f in files if fnmatch(f, 'data*.csv')])\n",
    "\n",
    "# fnmatchcase()严格区分大小写，fnmatch()则根据当前系统规则\n",
    "print(fnmatch('test.py', '*.PY'))\n",
    "print(fnmatchcase('test.py', '*.PY'))"
   ]
  },
  {
   "cell_type": "code",
   "execution_count": null,
   "metadata": {},
   "outputs": [],
   "source": []
  },
  {
   "cell_type": "code",
   "execution_count": null,
   "metadata": {},
   "outputs": [],
   "source": []
  },
  {
   "cell_type": "code",
   "execution_count": null,
   "metadata": {},
   "outputs": [],
   "source": []
  },
  {
   "cell_type": "code",
   "execution_count": null,
   "metadata": {},
   "outputs": [],
   "source": []
  },
  {
   "cell_type": "code",
   "execution_count": null,
   "metadata": {},
   "outputs": [],
   "source": []
  },
  {
   "cell_type": "code",
   "execution_count": null,
   "metadata": {},
   "outputs": [],
   "source": []
  },
  {
   "cell_type": "code",
   "execution_count": null,
   "metadata": {},
   "outputs": [],
   "source": []
  },
  {
   "cell_type": "code",
   "execution_count": null,
   "metadata": {},
   "outputs": [],
   "source": []
  },
  {
   "cell_type": "code",
   "execution_count": null,
   "metadata": {},
   "outputs": [],
   "source": []
  },
  {
   "cell_type": "code",
   "execution_count": null,
   "metadata": {},
   "outputs": [],
   "source": []
  },
  {
   "cell_type": "code",
   "execution_count": null,
   "metadata": {},
   "outputs": [],
   "source": []
  },
  {
   "cell_type": "code",
   "execution_count": null,
   "metadata": {},
   "outputs": [],
   "source": []
  },
  {
   "cell_type": "code",
   "execution_count": null,
   "metadata": {},
   "outputs": [],
   "source": []
  }
 ],
 "metadata": {
  "kernelspec": {
   "display_name": "Python 3",
   "language": "python",
   "name": "python3"
  },
  "language_info": {
   "codemirror_mode": {
    "name": "ipython",
    "version": 3
   },
   "file_extension": ".py",
   "mimetype": "text/x-python",
   "name": "python",
   "nbconvert_exporter": "python",
   "pygments_lexer": "ipython3",
   "version": "3.7.1"
  }
 },
 "nbformat": 4,
 "nbformat_minor": 2
}
