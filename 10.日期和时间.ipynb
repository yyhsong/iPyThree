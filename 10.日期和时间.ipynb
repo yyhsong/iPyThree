{
 "cells": [
  {
   "cell_type": "code",
   "execution_count": 6,
   "metadata": {},
   "outputs": [
    {
     "name": "stdout",
     "output_type": "stream",
     "text": [
      "2 days, 9:30:00\n",
      "2\n",
      "9.5\n",
      "57.5\n"
     ]
    }
   ],
   "source": [
    "\"\"\"基本的日期和时间运算\"\"\"\n",
    "\n",
    "from datetime import timedelta\n",
    "\n",
    "a = timedelta(days=2, hours=6)\n",
    "b = timedelta(hours=3.5)\n",
    "c = a + b\n",
    "\n",
    "print(c)\n",
    "print(c.days)\n",
    "print(c.seconds / 3600)\n",
    "print(c.total_seconds() / 3600)"
   ]
  },
  {
   "cell_type": "code",
   "execution_count": 10,
   "metadata": {},
   "outputs": [
    {
     "name": "stdout",
     "output_type": "stream",
     "text": [
      "2020-06-16 00:00:00\n",
      "7\n",
      "2020-06-09 09:20:38.121788\n",
      "2020-06-10 09:20:38.121788\n"
     ]
    }
   ],
   "source": [
    "\"\"\"对指定日期和时间的计算\n",
    "\n",
    "datetime会自动处理闰年\n",
    "\"\"\"\n",
    "\n",
    "from datetime import datetime, timedelta\n",
    "\n",
    "a = datetime(2020, 6, 9)\n",
    "print(a + timedelta(days=7))\n",
    "\n",
    "b = datetime(2020, 6, 16)\n",
    "print((b - a).days)\n",
    "\n",
    "t = datetime.today()\n",
    "print(t)\n",
    "print(t + timedelta(days=1))"
   ]
  },
  {
   "cell_type": "code",
   "execution_count": 11,
   "metadata": {},
   "outputs": [
    {
     "name": "stdout",
     "output_type": "stream",
     "text": [
      "2020-06-08 09:42:13.058825\n",
      "2020-06-04 09:42:13.058825\n",
      "2020-06-13 00:00:00\n"
     ]
    }
   ],
   "source": [
    "\"\"\"计算距离某一指定日期最近的星期几\"\"\"\n",
    "\n",
    "from datetime import datetime, timedelta\n",
    "\n",
    "weekdays = ['Monday', 'Tuesday', 'Wednesday', 'Thursday', 'Friday', 'Saturday', 'Sunday']\n",
    "\n",
    "\n",
    "def get_prev_byday(day_name, start_date=None):\n",
    "    if start_date is None:\n",
    "        start_date = datetime.today()\n",
    "    \n",
    "    day_num = start_date.weekday()  # 0 - 6\n",
    "    target_day_num = weekdays.index(day_name)\n",
    "    \n",
    "    prev_day = (7 + day_num - target_day_num) % 7\n",
    "    if prev_day == 0:\n",
    "        prev_day = 7\n",
    "    \n",
    "    target_date = start_date - timedelta(days=prev_day)\n",
    "    return target_date\n",
    "\n",
    "\n",
    "print(get_prev_byday('Monday'))\n",
    "print(get_prev_byday('Thursday'))\n",
    "print(get_prev_byday('Saturday', datetime(2020, 6, 14)))"
   ]
  },
  {
   "cell_type": "code",
   "execution_count": 14,
   "metadata": {},
   "outputs": [
    {
     "name": "stdout",
     "output_type": "stream",
     "text": [
      "2020-06-09 09:48:01.300815\n",
      "2020-06-12 09:48:01.300815\n",
      "2020-06-19 09:48:01.300815\n",
      "2020-06-05 09:48:01.300815\n",
      "2020-05-29 09:48:01.300815\n"
     ]
    }
   ],
   "source": [
    "\"\"\"dateutil的基本使用\"\"\"\n",
    "\n",
    "from datetime import datetime\n",
    "from dateutil.relativedelta import relativedelta\n",
    "from dateutil.rrule import *\n",
    "\n",
    "d = datetime.now()\n",
    "print(d)\n",
    "\n",
    "# 下一个星期五的日期\n",
    "print(d + relativedelta(weekday=FR))\n",
    "# 下下个星期五的日期\n",
    "print(d + relativedelta(weekday=FR(2)))\n",
    "\n",
    "# 上一个星期五的日期\n",
    "print(d + relativedelta(weekday=FR(-1)))\n",
    "# 上上个星期五的日期\n",
    "print(d + relativedelta(weekday=FR(-2)))"
   ]
  },
  {
   "cell_type": "code",
   "execution_count": 20,
   "metadata": {},
   "outputs": [
    {
     "name": "stdout",
     "output_type": "stream",
     "text": [
      "2020-06-09\t2020-06-10\t2020-06-11\t2020-06-12\t2020-06-13\t2020-06-14\t2020-06-15\t2020-06-16\t2020-06-17\t2020-06-18\t2020-06-19\t2020-06-20\t2020-06-21\t2020-06-22\t2020-06-23\t2020-06-24\t2020-06-25\t2020-06-26\t2020-06-27\t2020-06-28\t2020-06-29\t2020-06-30\t2020-07-01\t2020-07-02\t2020-07-03\t2020-07-04\t2020-07-05\t2020-07-06\t2020-07-07\t2020-07-08\t"
     ]
    }
   ],
   "source": [
    "\"\"\"计算当前月份的日期范围\n",
    "\n",
    "python中的日期和时间能够使用标准的数学和比较操作符来进行运算\n",
    "\"\"\"\n",
    "\n",
    "from datetime import date, timedelta\n",
    "import calendar\n",
    "\n",
    "\n",
    "def get_month_range(start_date=None):\n",
    "    if start_date is None:\n",
    "        start_date = date.today().replace(day=1)  # 获取当月第一天日期\n",
    "    \n",
    "    _, days_in_month = calendar.monthrange(start_date.year, start_date.month)  # 获取当月天数\n",
    "    end_date = start_date + timedelta(days=days_in_month)  # 计算当月最后一天日期\n",
    "    \n",
    "    return (start_date, end_date)\n",
    "    \n",
    "\n",
    "first_date, last_date = get_month_range(date.today())\n",
    "a_day = timedelta(days=1)\n",
    "while first_date < last_date:\n",
    "    print(first_date, end='\\t')\n",
    "    first_date += a_day"
   ]
  },
  {
   "cell_type": "code",
   "execution_count": 24,
   "metadata": {},
   "outputs": [
    {
     "name": "stdout",
     "output_type": "stream",
     "text": [
      "2020-06-09 00:00:00\n",
      "10:14:33.782863\n",
      "2020/06/09\n",
      "2020-06-09 00:00:00\n"
     ]
    }
   ],
   "source": [
    "\"\"\"字符串和日期的相互转化\"\"\"\n",
    "\n",
    "from datetime import datetime\n",
    "\n",
    "# 字符串转日期\n",
    "txt = '2020-06-09'\n",
    "d = datetime.strptime(txt, '%Y-%m-%d')\n",
    "print(d)\n",
    "t = datetime.now()\n",
    "print(t - d)\n",
    "\n",
    "# 日期转字符串\n",
    "n = datetime.now()\n",
    "print(datetime.strftime(n, '%Y/%m/%d'))\n",
    "\n",
    "# strptime()的性能不高\n",
    "# 因此当需要解析大量固定格式的日期时，可自定义解析函数\n",
    "def parse_date(s):\n",
    "    year, month, day = s.split('-')\n",
    "    return datetime(int(year), int(month), int(day))\n",
    "\n",
    "print(parse_date('2020-06-09'))"
   ]
  }
 ],
 "metadata": {
  "kernelspec": {
   "display_name": "Python 3 (ipykernel)",
   "language": "python",
   "name": "python3"
  },
  "language_info": {
   "codemirror_mode": {
    "name": "ipython",
    "version": 3
   },
   "file_extension": ".py",
   "mimetype": "text/x-python",
   "name": "python",
   "nbconvert_exporter": "python",
   "pygments_lexer": "ipython3",
   "version": "3.11.4"
  }
 },
 "nbformat": 4,
 "nbformat_minor": 2
}
