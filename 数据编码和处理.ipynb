{
 "cells": [
  {
   "cell_type": "markdown",
   "metadata": {},
   "source": [
    "# 读写CSV数据"
   ]
  },
  {
   "cell_type": "code",
   "execution_count": 23,
   "metadata": {},
   "outputs": [],
   "source": [
    "\"\"\"把数据写入csv\n",
    "\n",
    "需要首先创建writer对象\n",
    "\"\"\"\n",
    "\n",
    "import csv\n",
    "\n",
    "header = ['Name', 'Number', 'Gender']\n",
    "rows = [\n",
    "    ('James', 23, 'male'),\n",
    "    ('Kobe', 24, 'male'),\n",
    "    ('Shelly', 11, 'female')\n",
    "]\n",
    "\n",
    "# 如果该文件不存在，则新建\n",
    "# 设置newline参数避免写入空行\n",
    "with open('./files/players.csv', 'w', newline='') as f:\n",
    "    fw = csv.writer(f)\n",
    "    fw.writerow(header)\n",
    "    fw.writerows(rows)"
   ]
  },
  {
   "cell_type": "code",
   "execution_count": 16,
   "metadata": {},
   "outputs": [],
   "source": [
    "\"\"\"写入字典序列数据\"\"\"\n",
    "\n",
    "import csv\n",
    "\n",
    "header = ['Name', 'Number', 'Gender']\n",
    "rows = [\n",
    "    {'Name':'Curry', 'Number':30, 'Gender':'male'},\n",
    "    {'Name':'Alita', 'Number':12, 'Gender':'female'},\n",
    "    {'Name':'Kevin', 'Number':33, 'Gender':'male'}\n",
    "]\n",
    "\n",
    "# w模式会覆盖文件原有内容\n",
    "with open('./files/players.csv', 'w', newline='') as f:\n",
    "    fw = csv.DictWriter(f, header)\n",
    "    fw.writeheader()\n",
    "    fw.writerows(rows)"
   ]
  },
  {
   "cell_type": "code",
   "execution_count": 17,
   "metadata": {},
   "outputs": [
    {
     "name": "stdout",
     "output_type": "stream",
     "text": [
      "Header:  ['Name', 'Number', 'Gender']\n",
      "Rows: \n",
      "['Curry', '30', 'male']\n",
      "['Alita', '12', 'female']\n",
      "['Kevin', '33', 'male']\n"
     ]
    }
   ],
   "source": [
    "\"\"\"读取csv文件\n",
    "\n",
    "需要首先创建reader()对象\n",
    "\"\"\"\n",
    "\n",
    "import csv\n",
    "\n",
    "with open('./files/players.csv') as f:\n",
    "    fr = csv.reader(f)\n",
    "    header = next(fr)\n",
    "    print('Header: ', header)\n",
    "    print('Rows: ')\n",
    "    for row in fr:\n",
    "        print(row)"
   ]
  },
  {
   "cell_type": "code",
   "execution_count": 24,
   "metadata": {},
   "outputs": [
    {
     "name": "stdout",
     "output_type": "stream",
     "text": [
      "James\n",
      "Row(Name='James', Number='23', Gender='male')\n",
      "Kobe\n",
      "Row(Name='Kobe', Number='24', Gender='male')\n",
      "Shelly\n",
      "Row(Name='Shelly', Number='11', Gender='female')\n"
     ]
    }
   ],
   "source": [
    "\"\"\"使用命名元祖读取csv数据\n",
    "\n",
    "使用列名代替下标访问，只有在列名为合法python标识符时才有效，否则需要修改原始列名\n",
    "\"\"\"\n",
    "\n",
    "import csv\n",
    "from collections import namedtuple\n",
    "\n",
    "with open('./files/players.csv') as f:\n",
    "    fr = csv.reader(f)\n",
    "    header = next(fr)\n",
    "    Row = namedtuple('Row', header)\n",
    "    for r in fr:\n",
    "        row = Row(*r)\n",
    "        print(row.Name)\n",
    "        print(row)"
   ]
  },
  {
   "cell_type": "markdown",
   "metadata": {},
   "source": [
    "# 读写JSON数据"
   ]
  },
  {
   "cell_type": "code",
   "execution_count": 19,
   "metadata": {},
   "outputs": [
    {
     "name": "stdout",
     "output_type": "stream",
     "text": [
      "<class 'str'> {\"name\": \"James\", \"number\": 23, \"gender\": \"male\"}\n",
      "<class 'dict'> {'name': 'James', 'number': 23, 'gender': 'male'}\n"
     ]
    }
   ],
   "source": [
    "\"\"\"读写JSON数据\n",
    "\n",
    "JSON支持的基本数据类型包括None bool int float str\n",
    "以及包含这些类型数据的列表、元祖、字典\n",
    "\"\"\"\n",
    "\n",
    "import json\n",
    "\n",
    "raw_data = {'name':'James', 'number':23, 'gender':'male'}\n",
    "\n",
    "# 把python对象转换为json字符串\n",
    "json_str = json.dumps(raw_data)\n",
    "print(type(json_str), json_str)\n",
    "\n",
    "# 把json字符串转换为诶python对象\n",
    "py_obj = json.loads(json_str)\n",
    "print(type(py_obj), py_obj)"
   ]
  },
  {
   "cell_type": "code",
   "execution_count": 22,
   "metadata": {},
   "outputs": [
    {
     "name": "stdout",
     "output_type": "stream",
     "text": [
      "<class 'dict'> {'name': 'James', 'number': 23, 'gender': 'male'}\n"
     ]
    }
   ],
   "source": [
    "\"\"\"使用json处理文件\"\"\"\n",
    "\n",
    "import json\n",
    "\n",
    "raw_data = {'name':'James', 'number':23, 'gender':'male'}\n",
    "\n",
    "# 把数据写入json文件\n",
    "with open('./files/players.json', 'w') as f:\n",
    "    json.dump(raw_data, f)\n",
    "    \n",
    "# 从json文件中读取数据\n",
    "with open('./files/play.json', 'r') as f:\n",
    "    d = json.load(f)\n",
    "    print(type(d), d)"
   ]
  },
  {
   "cell_type": "code",
   "execution_count": 31,
   "metadata": {},
   "outputs": [
    {
     "name": "stdout",
     "output_type": "stream",
     "text": [
      "{\n",
      "    \"name\": \"James\",\n",
      "    \"number\": 23,\n",
      "    \"gender\": \"male\"\n",
      "}\n",
      "{ 'gender': 'male',\n",
      "  'name': 'James',\n",
      "  'number': 23}\n"
     ]
    }
   ],
   "source": [
    "\"\"\"格式化打印\"\"\"\n",
    "\n",
    "import json\n",
    "\n",
    "raw_data = {'name':'James', 'number':23, 'gender':'male'}\n",
    "\n",
    "# 使用indent参数\n",
    "print(json.dumps(raw_data, indent=4))\n",
    "\n",
    "# 使用pretty-print\n",
    "from pprint import pprint\n",
    "\n",
    "pprint(raw_data, indent=2, width=10)"
   ]
  },
  {
   "cell_type": "code",
   "execution_count": null,
   "metadata": {},
   "outputs": [],
   "source": []
  },
  {
   "cell_type": "code",
   "execution_count": null,
   "metadata": {},
   "outputs": [],
   "source": []
  },
  {
   "cell_type": "code",
   "execution_count": null,
   "metadata": {},
   "outputs": [],
   "source": []
  },
  {
   "cell_type": "code",
   "execution_count": null,
   "metadata": {},
   "outputs": [],
   "source": []
  },
  {
   "cell_type": "code",
   "execution_count": null,
   "metadata": {},
   "outputs": [],
   "source": []
  },
  {
   "cell_type": "code",
   "execution_count": null,
   "metadata": {},
   "outputs": [],
   "source": []
  },
  {
   "cell_type": "code",
   "execution_count": null,
   "metadata": {},
   "outputs": [],
   "source": []
  },
  {
   "cell_type": "code",
   "execution_count": null,
   "metadata": {},
   "outputs": [],
   "source": []
  },
  {
   "cell_type": "code",
   "execution_count": null,
   "metadata": {},
   "outputs": [],
   "source": []
  },
  {
   "cell_type": "code",
   "execution_count": null,
   "metadata": {},
   "outputs": [],
   "source": []
  }
 ],
 "metadata": {
  "kernelspec": {
   "display_name": "Python 3",
   "language": "python",
   "name": "python3"
  },
  "language_info": {
   "codemirror_mode": {
    "name": "ipython",
    "version": 3
   },
   "file_extension": ".py",
   "mimetype": "text/x-python",
   "name": "python",
   "nbconvert_exporter": "python",
   "pygments_lexer": "ipython3",
   "version": "3.7.1"
  }
 },
 "nbformat": 4,
 "nbformat_minor": 2
}
