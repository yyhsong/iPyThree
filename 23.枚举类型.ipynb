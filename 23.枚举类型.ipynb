{
 "cells": [
  {
   "cell_type": "markdown",
   "id": "75e6c50d",
   "metadata": {},
   "source": [
    "## 枚举类型\n",
    "\n",
    "枚举类型用于声明一组命名的常量，当一个变量有几种可能的取值时，通常可以将它定义为枚举类型。\n",
    "\n",
    "枚举类型常被应用在需要定义一组有限且固定的常量的场景，它和数字类型的主要区别有：\n",
    "- 本质：数组是一种用于储存多个相同类型数据的集合，而枚举是一组命名常量的集合\n",
    "- 存储方式：数组是通过连续的内存空间来存储数据，而枚举是一种数据类型，其成员是预定义的常量\n",
    "- 访问方式：数组中的元素通过索引来访问，而枚举则通过其成员名称来访问\n",
    "- 灵活性：数组可以动态地添加或删除元素，而枚举中的元素在定义时就已经确定，不能动态地添加或删除\n",
    "- 适用场景：枚举更适合用于定义一组有限且固定的常量，而数组则更适合用于需要动态变化的数据集"
   ]
  },
  {
   "cell_type": "code",
   "execution_count": 3,
   "id": "bf17564f",
   "metadata": {},
   "outputs": [],
   "source": [
    "from enum import Enum\n",
    "\n",
    "# class syntax\n",
    "class Weekday(Enum):\n",
    "    MONDAY = 1\n",
    "    TUSEDAY = 2\n",
    "    WEDNESDAY = 3\n",
    "    THURSDAY = 4\n",
    "    FRIDAY = 5\n",
    "    SATERDAY = 6\n",
    "    SUNDAY = 7"
   ]
  },
  {
   "cell_type": "code",
   "execution_count": 6,
   "id": "cc9274e2",
   "metadata": {
    "scrolled": true
   },
   "outputs": [
    {
     "data": {
      "text/plain": [
       "<Weekday.MONDAY: 1>"
      ]
     },
     "execution_count": 6,
     "metadata": {},
     "output_type": "execute_result"
    }
   ],
   "source": [
    "# 访问枚举成员\n",
    "Weekday.MONDAY"
   ]
  },
  {
   "cell_type": "code",
   "execution_count": 11,
   "id": "39962c6d",
   "metadata": {},
   "outputs": [
    {
     "data": {
      "text/plain": [
       "1"
      ]
     },
     "execution_count": 11,
     "metadata": {},
     "output_type": "execute_result"
    }
   ],
   "source": [
    "# 获取枚举成员的值\n",
    "Weekday.MONDAY.value"
   ]
  },
  {
   "cell_type": "code",
   "execution_count": 12,
   "id": "ed0a8450",
   "metadata": {},
   "outputs": [
    {
     "data": {
      "text/plain": [
       "<Weekday.MONDAY: 1>"
      ]
     },
     "execution_count": 12,
     "metadata": {},
     "output_type": "execute_result"
    }
   ],
   "source": [
    "# 通过值获取对应的枚举成员\n",
    "Weekday(1)"
   ]
  },
  {
   "cell_type": "code",
   "execution_count": 10,
   "id": "7f4a493e",
   "metadata": {},
   "outputs": [
    {
     "name": "stdout",
     "output_type": "stream",
     "text": [
      "Weekday.MONDAY\n",
      "Weekday.TUSEDAY\n",
      "Weekday.WEDNESDAY\n",
      "Weekday.THURSDAY\n",
      "Weekday.FRIDAY\n",
      "Weekday.SATERDAY\n",
      "Weekday.SUNDAY\n"
     ]
    }
   ],
   "source": [
    "# 遍历枚举成员\n",
    "for member in Weekday:\n",
    "    print(member)"
   ]
  },
  {
   "cell_type": "markdown",
   "id": "769e7427",
   "metadata": {},
   "source": [
    "### enumerate() 函数\n",
    "\n",
    "enumerate函数可以将列表中的元素和其对应的索引一起返回，常用于需要同时获取元素和其位置的场景"
   ]
  },
  {
   "cell_type": "code",
   "execution_count": 13,
   "id": "56db2415",
   "metadata": {},
   "outputs": [
    {
     "name": "stdout",
     "output_type": "stream",
     "text": [
      "0  -  red\n",
      "1  -  green\n",
      "2  -  blue\n",
      "3  -  black\n",
      "4  -  white\n"
     ]
    }
   ],
   "source": [
    "color_list = ['red', 'green', 'blue', 'black', 'white']\n",
    "\n",
    "for i, element in enumerate(color_list):\n",
    "    print(i, ' - ', element)"
   ]
  }
 ],
 "metadata": {
  "kernelspec": {
   "display_name": "Python 3 (ipykernel)",
   "language": "python",
   "name": "python3"
  },
  "language_info": {
   "codemirror_mode": {
    "name": "ipython",
    "version": 3
   },
   "file_extension": ".py",
   "mimetype": "text/x-python",
   "name": "python",
   "nbconvert_exporter": "python",
   "pygments_lexer": "ipython3",
   "version": "3.11.4"
  }
 },
 "nbformat": 4,
 "nbformat_minor": 5
}
