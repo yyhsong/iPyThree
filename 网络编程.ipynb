{
 "cells": [
  {
   "cell_type": "code",
   "execution_count": null,
   "metadata": {
    "scrolled": true
   },
   "outputs": [],
   "source": [
    "\"\"\"创建TCP服务器\"\"\"\n",
    "\n",
    "from socketserver import BaseRequestHandler, TCPServer\n",
    "\n",
    "class EchoHandler(BaseRequestHandler):\n",
    "    def handle(self):\n",
    "        print('Got connection from ', self.client_address)\n",
    "        while True:\n",
    "            msg = self.request.recv(8192)\n",
    "            if not msg:\n",
    "                break\n",
    "            self.request.send(msg)\n",
    "\n",
    "if __name__ == '__main__':\n",
    "    serv = TCPServer(('', 20001), EchoHandler)\n",
    "    serv.serve_forever()"
   ]
  },
  {
   "cell_type": "code",
   "execution_count": null,
   "metadata": {},
   "outputs": [],
   "source": [
    "# 测试连接上面的自定义TCP服务器\n",
    "\n",
    "from socket import socket, AF_INET, SOCK_STREAM\n",
    "\n",
    "s = socket(AF_INET, SOCK_STREAM)\n",
    "s.connect(('localhost', 20001))\n",
    "s.send(b'Hello Socket')\n",
    "s.recv(8192)"
   ]
  },
  {
   "cell_type": "code",
   "execution_count": null,
   "metadata": {},
   "outputs": [],
   "source": [
    "\"\"\"创建UDP服务器\"\"\"\n",
    "\n",
    "from socketserver import BaseRequestHandler, UDPServer\n",
    "import time\n",
    "\n",
    "class TimeHandler(BaseRequestHandler):\n",
    "    def handle(self):\n",
    "        print('Got connection from ', self.client_address)\n",
    "        # Got message and client socket\n",
    "        msg, sock = self.request\n",
    "        resp = time.ctime()\n",
    "        sock.sendto(resp.encode('utf-8'), self.client_address)\n",
    "\n",
    "if __name__ == '__main__':\n",
    "    serv = UDPServer(('', 20002), TimeHandler)\n",
    "    serv.serve_forever()"
   ]
  },
  {
   "cell_type": "code",
   "execution_count": null,
   "metadata": {},
   "outputs": [],
   "source": [
    "# 测试连接上面自定义的UDP服务器\n",
    "\n",
    "from socket import socket, AF_INET, SOCK_DGRAM\n",
    "\n",
    "s = socket(AF_INET, SOCK_DGRAM)\n",
    "s.sendto(b'', ('localhost', 20002))\n",
    "s.recvfrom(8192)"
   ]
  },
  {
   "cell_type": "code",
   "execution_count": 23,
   "metadata": {
    "scrolled": true
   },
   "outputs": [
    {
     "name": "stdout",
     "output_type": "stream",
     "text": [
      "123.45.67.64/27\n",
      "123.45.67.64\t123.45.67.65\t123.45.67.66\t123.45.67.67\t123.45.67.68\t123.45.67.69\t123.45.67.70\t123.45.67.71\t123.45.67.72\t123.45.67.73\t123.45.67.74\t123.45.67.75\t123.45.67.76\t123.45.67.77\t123.45.67.78\t123.45.67.79\t123.45.67.80\t123.45.67.81\t123.45.67.82\t123.45.67.83\t123.45.67.84\t123.45.67.85\t123.45.67.86\t123.45.67.87\t123.45.67.88\t123.45.67.89\t123.45.67.90\t123.45.67.91\t123.45.67.92\t123.45.67.93\t123.45.67.94\t123.45.67.95\t\n",
      "\n",
      "12:3456:78:90ab:cd:ef01:23:30/125\n",
      "12:3456:78:90ab:cd:ef01:23:30\t12:3456:78:90ab:cd:ef01:23:31\t12:3456:78:90ab:cd:ef01:23:32\t12:3456:78:90ab:cd:ef01:23:33\t12:3456:78:90ab:cd:ef01:23:34\t12:3456:78:90ab:cd:ef01:23:35\t12:3456:78:90ab:cd:ef01:23:36\t12:3456:78:90ab:cd:ef01:23:37\t"
     ]
    }
   ],
   "source": [
    "\"\"\"通过CIDR地址生成对应的IP地址集\"\"\"\n",
    "\n",
    "import ipaddress\n",
    "\n",
    "# IPv4\n",
    "net = ipaddress.ip_network('123.45.67.64/27')\n",
    "print(net)\n",
    "for n in net:\n",
    "    print(n, end='\\t')\n",
    "    \n",
    "print('\\n')\n",
    "    \n",
    "# IPv6\n",
    "net = ipaddress.ip_network('12:3456:78:90ab:cd:ef01:23:30/125')\n",
    "print(net)\n",
    "for n in net:\n",
    "    print(n, end='\\t')"
   ]
  },
  {
   "cell_type": "code",
   "execution_count": null,
   "metadata": {},
   "outputs": [],
   "source": []
  }
 ],
 "metadata": {
  "kernelspec": {
   "display_name": "Python 3",
   "language": "python",
   "name": "python3"
  },
  "language_info": {
   "codemirror_mode": {
    "name": "ipython",
    "version": 3
   },
   "file_extension": ".py",
   "mimetype": "text/x-python",
   "name": "python",
   "nbconvert_exporter": "python",
   "pygments_lexer": "ipython3",
   "version": "3.7.1"
  }
 },
 "nbformat": 4,
 "nbformat_minor": 2
}
