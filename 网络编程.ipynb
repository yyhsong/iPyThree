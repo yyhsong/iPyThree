{
 "cells": [
  {
   "cell_type": "code",
   "execution_count": null,
   "metadata": {},
   "outputs": [],
   "source": [
    "\"\"\"网络编程\n",
    "\n",
    "网络通信本质是两台计算机上的两个进程之间的通信\n",
    "TCP协议是建立在IP协议之上的，更高级的应用层协议（HTTP协议、SMTP协议等）是建立在TCP协议之上的\n",
    "小于1024的是Internet标准服务的端口，大于1024的可以任意使用\n",
    "基于TCP协议进行Socket编程，客户端要主动连接服务器的IP和指定端口\n",
    "对于服务器，要首先监听指定端口，然后对每一个新的连接，创建一个线程或进程来处理，通常服务器会无限运行下去\n",
    "用户数据报协议UDP(User Datagram Protocol)，是面向无连接的协议\n",
    "与TCP相比，UDP不需要连接，速度更快，但数据传输的可靠性较差，不能保证数据一定发送成功\n",
    "服务器绑定TCP端口和UDP端口互不冲突，也就是说，TCP的9999端口与UDP的9999端口可以各自绑定\n",
    "\"\"\""
   ]
  },
  {
   "cell_type": "code",
   "execution_count": null,
   "metadata": {},
   "outputs": [],
   "source": [
    "\"\"\"Socket Server\"\"\"\n",
    "\n",
    "import socket\n",
    "import threading\n",
    "import time\n",
    "\n",
    "# 创建socket\n",
    "sk = socket.socket(socket.AF_INET, socket.SOCK_STREAM)\n",
    "\n",
    "# 监听端口\n",
    "sk.bind(('127.0.0.1', 9999))\n",
    "sk.listen(5)\n",
    "print('Waiting for connection ...')\n",
    "\n",
    "\n",
    "def tcplink(sock, addr):\n",
    "    print('Accept new connection from %s:%s' % addr)\n",
    "    sock.send(b'Welcome')\n",
    "    while True:\n",
    "        data = sock.recv(1024)\n",
    "        time.sleep(1)\n",
    "        if not data or data.decode('utf-8') == 'exit':\n",
    "            break\n",
    "        sock.send(('Hello %s' % data.decode('utf-8')).encode('utf-8'))\n",
    "    \n",
    "\n",
    "# 接收来自客户端的连接\n",
    "while True:\n",
    "    sock, addr = sk.accept()\n",
    "    # 创建一个新的线程来处理TCP连接\n",
    "    t = threading.Thread(target=tcplink, args=(sock, addr))\n",
    "    t.start()"
   ]
  },
  {
   "cell_type": "code",
   "execution_count": null,
   "metadata": {},
   "outputs": [],
   "source": [
    "\"\"\"Socket Client\"\"\"\n",
    "\n",
    "import socket\n",
    "\n",
    "# 创建socket\n",
    "sk = socket.socket(socket.AF_INET, socket.SOCK_STREAM)\n",
    "sk.connect(('127.0.01', 9999))\n",
    "print(sk.recv(1024).decode('utf-8'))\n",
    "\n",
    "for data in [b'Jordan', b'Kobe', b'James']:\n",
    "    sk.send(data)\n",
    "    print(sk.recv(1024).decode('utf-8'))\n",
    "    \n",
    "sk.send(b'exit')\n",
    "sk.close()"
   ]
  },
  {
   "cell_type": "code",
   "execution_count": null,
   "metadata": {
    "scrolled": true
   },
   "outputs": [],
   "source": [
    "\"\"\"创建TCP服务器\"\"\"\n",
    "\n",
    "from socketserver import BaseRequestHandler, TCPServer\n",
    "\n",
    "class EchoHandler(BaseRequestHandler):\n",
    "    def handle(self):\n",
    "        print('Got connection from ', self.client_address)\n",
    "        while True:\n",
    "            msg = self.request.recv(8192)\n",
    "            if not msg:\n",
    "                break\n",
    "            self.request.send(msg)\n",
    "\n",
    "if __name__ == '__main__':\n",
    "    serv = TCPServer(('', 20001), EchoHandler)\n",
    "    serv.serve_forever()"
   ]
  },
  {
   "cell_type": "code",
   "execution_count": null,
   "metadata": {},
   "outputs": [],
   "source": [
    "# 测试连接上面的自定义TCP服务器\n",
    "\n",
    "from socket import socket, AF_INET, SOCK_STREAM\n",
    "\n",
    "s = socket(AF_INET, SOCK_STREAM)\n",
    "s.connect(('localhost', 20001))\n",
    "s.send(b'Hello Socket')\n",
    "s.recv(8192)"
   ]
  },
  {
   "cell_type": "code",
   "execution_count": null,
   "metadata": {},
   "outputs": [],
   "source": [
    "\"\"\"创建UDP服务器\"\"\"\n",
    "\n",
    "from socketserver import BaseRequestHandler, UDPServer\n",
    "import time\n",
    "\n",
    "class TimeHandler(BaseRequestHandler):\n",
    "    def handle(self):\n",
    "        print('Got connection from ', self.client_address)\n",
    "        # Got message and client socket\n",
    "        msg, sock = self.request\n",
    "        resp = time.ctime()\n",
    "        sock.sendto(resp.encode('utf-8'), self.client_address)\n",
    "\n",
    "if __name__ == '__main__':\n",
    "    serv = UDPServer(('', 20002), TimeHandler)\n",
    "    serv.serve_forever()"
   ]
  },
  {
   "cell_type": "code",
   "execution_count": null,
   "metadata": {},
   "outputs": [],
   "source": [
    "# 测试连接上面自定义的UDP服务器\n",
    "\n",
    "from socket import socket, AF_INET, SOCK_DGRAM\n",
    "\n",
    "s = socket(AF_INET, SOCK_DGRAM)\n",
    "s.sendto(b'', ('localhost', 20002))\n",
    "s.recvfrom(8192)"
   ]
  },
  {
   "cell_type": "code",
   "execution_count": 23,
   "metadata": {
    "scrolled": true
   },
   "outputs": [
    {
     "name": "stdout",
     "output_type": "stream",
     "text": [
      "123.45.67.64/27\n",
      "123.45.67.64\t123.45.67.65\t123.45.67.66\t123.45.67.67\t123.45.67.68\t123.45.67.69\t123.45.67.70\t123.45.67.71\t123.45.67.72\t123.45.67.73\t123.45.67.74\t123.45.67.75\t123.45.67.76\t123.45.67.77\t123.45.67.78\t123.45.67.79\t123.45.67.80\t123.45.67.81\t123.45.67.82\t123.45.67.83\t123.45.67.84\t123.45.67.85\t123.45.67.86\t123.45.67.87\t123.45.67.88\t123.45.67.89\t123.45.67.90\t123.45.67.91\t123.45.67.92\t123.45.67.93\t123.45.67.94\t123.45.67.95\t\n",
      "\n",
      "12:3456:78:90ab:cd:ef01:23:30/125\n",
      "12:3456:78:90ab:cd:ef01:23:30\t12:3456:78:90ab:cd:ef01:23:31\t12:3456:78:90ab:cd:ef01:23:32\t12:3456:78:90ab:cd:ef01:23:33\t12:3456:78:90ab:cd:ef01:23:34\t12:3456:78:90ab:cd:ef01:23:35\t12:3456:78:90ab:cd:ef01:23:36\t12:3456:78:90ab:cd:ef01:23:37\t"
     ]
    }
   ],
   "source": [
    "\"\"\"通过CIDR地址生成对应的IP地址集\"\"\"\n",
    "\n",
    "import ipaddress\n",
    "\n",
    "# IPv4\n",
    "net = ipaddress.ip_network('123.45.67.64/27')\n",
    "print(net)\n",
    "for n in net:\n",
    "    print(n, end='\\t')\n",
    "    \n",
    "print('\\n')\n",
    "    \n",
    "# IPv6\n",
    "net = ipaddress.ip_network('12:3456:78:90ab:cd:ef01:23:30/125')\n",
    "print(net)\n",
    "for n in net:\n",
    "    print(n, end='\\t')"
   ]
  },
  {
   "cell_type": "code",
   "execution_count": 26,
   "metadata": {},
   "outputs": [
    {
     "data": {
      "text/plain": [
       "True"
      ]
     },
     "execution_count": 26,
     "metadata": {},
     "output_type": "execute_result"
    }
   ],
   "source": [
    "\"\"\"启动Web浏览器\"\"\"\n",
    "\n",
    "import webbrowser\n",
    "\n",
    "# 启动系统默认浏览器，打开指定网页\n",
    "# webbrowser.open('https://www.baidu.com/')\n",
    "\n",
    "# 在新窗口中打开\n",
    "# webbrowser.open_new('https://www.baidu.com/')\n",
    "\n",
    "# 在新Tab页中打开\n",
    "webbrowser.open_new_tab('https://www.baidu.com/')"
   ]
  }
 ],
 "metadata": {
  "kernelspec": {
   "display_name": "Python 3",
   "language": "python",
   "name": "python3"
  },
  "language_info": {
   "codemirror_mode": {
    "name": "ipython",
    "version": 3
   },
   "file_extension": ".py",
   "mimetype": "text/x-python",
   "name": "python",
   "nbconvert_exporter": "python",
   "pygments_lexer": "ipython3",
   "version": "3.7.1"
  }
 },
 "nbformat": 4,
 "nbformat_minor": 2
}
