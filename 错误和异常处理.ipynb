{
 "cells": [
  {
   "cell_type": "code",
   "execution_count": null,
   "metadata": {},
   "outputs": [],
   "source": [
    "\"\"\"错误和异常处理\n",
    "\n",
    "错误和异常是类，捕获一个错误就是捕获到该类的一个实例\n",
    "捕获异常try...except(else)...finally，抛出异常raise\n",
    "所有错误和异常都继承自BaseException\n",
    "程序调试的手段：打印print()，断言assert()，日志logging，单步执行pdb，断点pdb.set_trace()\n",
    "Python内置的logging模块可以记录错误信息\n",
    "日志级别logging.basicConfig(level=logging.INFO) debug info warning error\n",
    "TDD Test-Driven Development 测试驱动开发\n",
    "python内置单元测试模块unittest，方法setUp、tearDown\n",
    "文档测试doctest，不但可以用来测试，还可以直接作为示例代码\n",
    "\"\"\""
   ]
  },
  {
   "cell_type": "code",
   "execution_count": 5,
   "metadata": {},
   "outputs": [
    {
     "name": "stdout",
     "output_type": "stream",
     "text": [
      "Input something -->hs\n",
      "ShortInputException: the input was 2 long, excepted at least 3\n",
      "Finally, End\n"
     ]
    }
   ],
   "source": [
    "# 自定义异常类\n",
    "class ShortInputException(Exception):\n",
    "    \n",
    "    def __init__(self, length, atleast):\n",
    "        Exception.__init__(self)  # 调用父类的初始化方法\n",
    "        self.length = length\n",
    "        self.atleast = atleast\n",
    "        \n",
    "\n",
    "# 抛出和捕获异常\n",
    "try:\n",
    "    text = input('Input something -->')\n",
    "    if len(text) < 3:\n",
    "        raise ShortInputException(len(text), 3)\n",
    "except ShortInputException as ex:  # 捕获异常\n",
    "    print('ShortInputException: the input was {0} long, excepted at least {1}'.format(ex.length, ex.atleast))\n",
    "except EOFError:  # 捕获异常\n",
    "    print('End of File Error')\n",
    "else:  # else从句只在没有异常捕获时执行\n",
    "    print('No exception was raised')\n",
    "finally:  # finally从句始终会执行\n",
    "    print('Finally, End')"
   ]
  }
 ],
 "metadata": {
  "kernelspec": {
   "display_name": "Python 3",
   "language": "python",
   "name": "python3"
  },
  "language_info": {
   "codemirror_mode": {
    "name": "ipython",
    "version": 3
   },
   "file_extension": ".py",
   "mimetype": "text/x-python",
   "name": "python",
   "nbconvert_exporter": "python",
   "pygments_lexer": "ipython3",
   "version": "3.7.1"
  }
 },
 "nbformat": 4,
 "nbformat_minor": 2
}
