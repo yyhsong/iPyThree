{
 "cells": [
  {
   "cell_type": "code",
   "execution_count": 4,
   "metadata": {},
   "outputs": [
    {
     "name": "stdout",
     "output_type": "stream",
     "text": [
      "Starting to count from  10\n",
      "10\n",
      "9\n",
      "8\n",
      "7\n",
      "6\n",
      "5\n",
      "4\n",
      "3\n",
      "2\n",
      "1\n",
      "Done\n",
      "Starting to count from  5\n",
      "5\n",
      "4\n",
      "3\n",
      "2\n",
      "1\n",
      "Done\n"
     ]
    }
   ],
   "source": [
    "\"\"\"生成器\n",
    "\n",
    "包含yield语句的函数即为一个生成器\n",
    "不同于普通函数，生成器只能用于迭代操作\n",
    "生成器函数只会回应迭代中使用到的next操作\n",
    "StopIteration用来指示迭代的结尾，手动遍历迭代器需要捕获异常\n",
    "使用for循环可以自动处理相关细节\n",
    "\"\"\"\n",
    "\n",
    "# 定义生成器函数\n",
    "def countdown(n):\n",
    "    print('Starting to count from ', n)\n",
    "    while n > 0:\n",
    "        yield n\n",
    "        n -= 1\n",
    "    print('Done')\n",
    "    \n",
    "# 手动迭代\n",
    "c = countdown(10)\n",
    "try:\n",
    "    while True:\n",
    "        n = next(c)\n",
    "        print(n)\n",
    "except StopIteration:\n",
    "    pass\n",
    "\n",
    "# 使用for循环迭代\n",
    "for n in countdown(5):\n",
    "    print(n)"
   ]
  },
  {
   "cell_type": "code",
   "execution_count": 7,
   "metadata": {},
   "outputs": [
    {
     "name": "stdout",
     "output_type": "stream",
     "text": [
      "0\n",
      "0.5\n",
      "1.0\n",
      "1.5\n",
      "2.0\n",
      "2.5\n",
      "3.0\n",
      "3.5\n",
      "4.0\n",
      "4.5\n",
      "[0, 0.5, 1.0, 1.5, 2.0, 2.5, 3.0, 3.5, 4.0, 4.5]\n"
     ]
    }
   ],
   "source": [
    "\"\"\"使用生成器函数实现自定义迭代模式\"\"\"\n",
    "\n",
    "def frange(start, stop, increment):\n",
    "    x = start\n",
    "    while x < stop:\n",
    "        yield x\n",
    "        x += increment\n",
    "    \n",
    "for n in frange(0, 5, 0.5):\n",
    "    print(n)\n",
    "    \n",
    "# 使用list()一次性读取生成器函数的所有值\n",
    "print(list(frange(0, 5, 0.5)))"
   ]
  },
  {
   "cell_type": "code",
   "execution_count": 1,
   "metadata": {},
   "outputs": [
    {
     "name": "stdout",
     "output_type": "stream",
     "text": [
      "Node(0)\n",
      "Node(1)\n",
      "Node(3)\n",
      "Node(4)\n",
      "Node(2)\n",
      "Node(5)\n",
      "Node(6)\n"
     ]
    }
   ],
   "source": [
    "\"\"\"实现迭代器协议\n",
    "\n",
    "在一个对象上实现迭代器最简单的方式是使用生成器函数\n",
    "\"\"\"\n",
    "\n",
    "class Node:\n",
    "    def __init__(self, value):\n",
    "        self._value = value\n",
    "        self._children = []\n",
    "        \n",
    "    def __repr__(self):\n",
    "        return 'Node({!r})'.format(self._value)\n",
    "    \n",
    "    def add_child(self, node):\n",
    "        self._children.append(node)\n",
    "        \n",
    "    def __iter__(self):\n",
    "        return iter(self._children)\n",
    "    \n",
    "    # 深度优先遍历\n",
    "    def depth_first_iter(self):\n",
    "        yield self\n",
    "        for c in self:\n",
    "            yield from c.depth_first_iter()\n",
    "            \n",
    "\n",
    "root_node = Node(0)\n",
    "child_node1 = Node(1)\n",
    "child_node2 = Node(2)\n",
    "\n",
    "root_node.add_child(child_node1)\n",
    "root_node.add_child(child_node2)\n",
    "\n",
    "child_node1.add_child(Node(3))\n",
    "child_node1.add_child(Node(4))\n",
    "child_node2.add_child(Node(5))\n",
    "child_node2.add_child(Node(6))\n",
    "\n",
    "for node in root_node.depth_first_iter():\n",
    "    print(node)"
   ]
  },
  {
   "cell_type": "code",
   "execution_count": 8,
   "metadata": {},
   "outputs": [
    {
     "name": "stdout",
     "output_type": "stream",
     "text": [
      "5 4 3 2 1 \n",
      "正向迭代：\n",
      "10 9 8 7 6 5 4 3 2 1 \n",
      "反向迭代：\n",
      "1 2 3 4 5 6 7 8 9 10 "
     ]
    }
   ],
   "source": [
    "\"\"\"反向迭代\n",
    "\n",
    "适用于对象的大小可以预先确定或对象实现了__reversed__()特殊方法\n",
    "如果以上两者都不符合，则必须先将对象转换为一个列表\n",
    "\"\"\"\n",
    "\n",
    "# 反向迭代\n",
    "nums = [1, 2, 3, 4, 5]\n",
    "for n in reversed(nums):\n",
    "    print(n, end=' ')\n",
    "    \n",
    "\n",
    "# 通过在自定义类中实现__reversed__()方法来实现反向迭代\n",
    "class Counter:\n",
    "    def __init__(self, start):\n",
    "        self.start = start\n",
    "        \n",
    "    # 正向迭代\n",
    "    def __iter__(self):\n",
    "        n = self.start\n",
    "        while n > 0:\n",
    "            yield n\n",
    "            n -= 1\n",
    "            \n",
    "    # 反向迭代\n",
    "    def __reversed__(self):\n",
    "        n = 1\n",
    "        while n <= self.start:\n",
    "            yield n\n",
    "            n += 1\n",
    "            \n",
    "            \n",
    "# 正向迭代\n",
    "print('\\n正向迭代：')\n",
    "for n in Counter(10):\n",
    "    print(n, end=' ')\n",
    "    \n",
    "# 反向迭代\n",
    "print('\\n反向迭代：')\n",
    "for n in reversed(Counter(10)):\n",
    "    print(n, end=' ')"
   ]
  },
  {
   "cell_type": "code",
   "execution_count": 9,
   "metadata": {},
   "outputs": [
    {
     "name": "stdout",
     "output_type": "stream",
     "text": [
      "11\n",
      "12\n",
      "13\n",
      "14\n",
      "15\n",
      "16\n",
      "17\n",
      "18\n",
      "19\n",
      "20\n"
     ]
    }
   ],
   "source": [
    "\"\"\"itertools模块\n",
    "\n",
    "迭代器和生成器的长度无法预知，并且也没有实现索引，因此它们不能使用标准的切片操作\n",
    "itertools模块提供了很多关于迭代的帮助函数\n",
    "itertools.islice()可以在迭代器和生成器上做切片操作\n",
    "itertools.dropwhile()会丢弃原有序列中直到函数返回False之前的所有元素，然后返回后面的所有元素\n",
    "\"\"\"\n",
    "\n",
    "import itertools\n",
    "\n",
    "def count(n):\n",
    "    while True:\n",
    "        yield n\n",
    "        n += 1\n",
    "        \n",
    "c = count(1)\n",
    "for n in itertools.islice(c, 10, 20):\n",
    "    print(n)"
   ]
  },
  {
   "cell_type": "code",
   "execution_count": 18,
   "metadata": {},
   "outputs": [
    {
     "name": "stdout",
     "output_type": "stream",
     "text": [
      "排列：\n",
      "('a', 'b', 'c')\t('a', 'c', 'b')\t('b', 'a', 'c')\t('b', 'c', 'a')\t('c', 'a', 'b')\t('c', 'b', 'a')\t\n",
      "指定长度的排列：\n",
      "('a', 'b')\t('a', 'c')\t('b', 'a')\t('b', 'c')\t('c', 'a')\t('c', 'b')\t\n",
      "组合：\n",
      "('a', 'b')\t('a', 'c')\t('b', 'c')\t\n",
      "允许同一个元素被选择多次的组合：\n",
      "('a', 'a')\t('a', 'b')\t('a', 'c')\t('b', 'b')\t('b', 'c')\t('c', 'c')\t"
     ]
    }
   ],
   "source": [
    "\"\"\"排列组合\"\"\"\n",
    "\n",
    "from itertools import permutations, combinations, combinations_with_replacement\n",
    "\n",
    "items = ['a', 'b', 'c']\n",
    "\n",
    "# 排列\n",
    "print('排列：')\n",
    "for item in permutations(items):\n",
    "    print(item, end='\\t')\n",
    "    \n",
    "# 指定长度的排列\n",
    "print('\\n指定长度的排列：')\n",
    "for item in permutations(items, 2):\n",
    "    print(item, end='\\t')\n",
    "    \n",
    "# 组合，必须指定长度\n",
    "print('\\n组合：')\n",
    "for item in combinations(items, 2):\n",
    "    print(item, end='\\t')\n",
    "    \n",
    "# 允许同一个元素被选择多次的组合\n",
    "print('\\n允许同一个元素被选择多次的组合：')\n",
    "for item in combinations_with_replacement(items, 2):\n",
    "    print(item, end='\\t')"
   ]
  },
  {
   "cell_type": "code",
   "execution_count": 22,
   "metadata": {},
   "outputs": [
    {
     "name": "stdout",
     "output_type": "stream",
     "text": [
      "0 one\n",
      "1 two\n",
      "2 three\n",
      "1 one\n",
      "2 two\n",
      "3 three\n"
     ]
    }
   ],
   "source": [
    "# 序列上的索引值迭代\n",
    "nums = ['one', 'two', 'three']\n",
    "for i, n in enumerate(nums):\n",
    "    print(i, n)\n",
    "    \n",
    "# 指定起始索引值\n",
    "for i, n in enumerate(nums, 1):\n",
    "    print(i, n)"
   ]
  },
  {
   "cell_type": "code",
   "execution_count": null,
   "metadata": {},
   "outputs": [],
   "source": []
  },
  {
   "cell_type": "code",
   "execution_count": null,
   "metadata": {},
   "outputs": [],
   "source": []
  },
  {
   "cell_type": "code",
   "execution_count": null,
   "metadata": {},
   "outputs": [],
   "source": []
  },
  {
   "cell_type": "code",
   "execution_count": null,
   "metadata": {},
   "outputs": [],
   "source": []
  },
  {
   "cell_type": "code",
   "execution_count": null,
   "metadata": {},
   "outputs": [],
   "source": []
  },
  {
   "cell_type": "code",
   "execution_count": null,
   "metadata": {},
   "outputs": [],
   "source": []
  },
  {
   "cell_type": "code",
   "execution_count": null,
   "metadata": {},
   "outputs": [],
   "source": []
  },
  {
   "cell_type": "code",
   "execution_count": null,
   "metadata": {},
   "outputs": [],
   "source": []
  },
  {
   "cell_type": "code",
   "execution_count": null,
   "metadata": {},
   "outputs": [],
   "source": []
  },
  {
   "cell_type": "code",
   "execution_count": null,
   "metadata": {},
   "outputs": [],
   "source": []
  },
  {
   "cell_type": "code",
   "execution_count": null,
   "metadata": {},
   "outputs": [],
   "source": []
  },
  {
   "cell_type": "code",
   "execution_count": null,
   "metadata": {},
   "outputs": [],
   "source": []
  }
 ],
 "metadata": {
  "kernelspec": {
   "display_name": "Python 3",
   "language": "python",
   "name": "python3"
  },
  "language_info": {
   "codemirror_mode": {
    "name": "ipython",
    "version": 3
   },
   "file_extension": ".py",
   "mimetype": "text/x-python",
   "name": "python",
   "nbconvert_exporter": "python",
   "pygments_lexer": "ipython3",
   "version": "3.7.1"
  }
 },
 "nbformat": 4,
 "nbformat_minor": 2
}
