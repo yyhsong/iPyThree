{
 "cells": [
  {
   "cell_type": "code",
   "execution_count": 11,
   "metadata": {},
   "outputs": [
    {
     "name": "stdout",
     "output_type": "stream",
     "text": [
      "Init HS-829\n",
      "Hi, my name is HS-829\n",
      "Init Neo-1\n",
      "Hi, my name is Neo-1\n",
      "We have 2 robots\n",
      "HS-829 is being destroyed\n",
      "There are 1 robots living\n",
      "We have 1 robots\n",
      "Neo-1 is being destroyed\n",
      "Neo-1 was the last one\n",
      "We have 0 robots\n"
     ]
    }
   ],
   "source": [
    "# 定义类\n",
    "class Robot:\n",
    "    \n",
    "    # 类属性\n",
    "    # 变量名前加双下划线，为私有变量\n",
    "    __count = 0\n",
    "    \n",
    "    # 初始化方法\n",
    "    def __init__(self, name):\n",
    "        self.name = name\n",
    "        print('Init {}'.format(self.name))\n",
    "        Robot.__count += 1\n",
    "        \n",
    "    # 普通实例方法\n",
    "    # 第一个参数为self，指类的当前实例\n",
    "    # 调用时，不需要传递self参数\n",
    "    def sayHi(self):\n",
    "        print('Hi, my name is {}'.format(self.name))\n",
    "    \n",
    "    def destroy(self):\n",
    "        print('{} is being destroyed'.format(self.name))\n",
    "        Robot.__count -= 1\n",
    "        \n",
    "        if(Robot.__count == 0):\n",
    "            print('{} was the last one'.format(self.name))\n",
    "        else:\n",
    "            print('There are {:d} robots living'.format(Robot.__count))\n",
    "        \n",
    "    # 类方法\n",
    "    # 使用装饰器 @classmethod\n",
    "    # 第一个参数为class\n",
    "    @classmethod\n",
    "    def howMany(cls):\n",
    "        print('We have {:d} robots'.format(cls.__count))\n",
    "        \n",
    "        \n",
    "# 测试\n",
    "robot1 = Robot('HS-829')\n",
    "robot1.sayHi()\n",
    "\n",
    "robot2 = Robot('Neo-1')\n",
    "robot2.sayHi()\n",
    "\n",
    "Robot.howMany()\n",
    "\n",
    "robot1.destroy()\n",
    "Robot.howMany()\n",
    "\n",
    "robot2.destroy()\n",
    "Robot.howMany()\n",
    "\n",
    "# 访问类属性：类名.属性名\n",
    "# 外部无法直接访问私有类属性\n",
    "# print(Robot.__count)"
   ]
  },
  {
   "cell_type": "code",
   "execution_count": 14,
   "metadata": {},
   "outputs": [
    {
     "name": "stdout",
     "output_type": "stream",
     "text": [
      "Name: __main__\n",
      "Class: <class '__main__.Robot'>\n",
      "Doc: Automatically created module for IPython interactive environment\n"
     ]
    }
   ],
   "source": [
    "# 定义类\n",
    "class Robot:\n",
    "    \n",
    "    # 特殊变量 __name__ __class__ __doc__ 可以直接访问\n",
    "    def __init__(self):\n",
    "        # 可以根据 __name__ == '__main__' 来判断模块是自身执行，还是被其他模块调用执行\n",
    "        print('Name: {}'.format(__name__))\n",
    "        print('Class: {}'.format(__class__))\n",
    "        print('Doc: {}'.format(__doc__))\n",
    "        \n",
    "\n",
    "# 测试\n",
    "robot = Robot()"
   ]
  },
  {
   "cell_type": "code",
   "execution_count": 16,
   "metadata": {},
   "outputs": [
    {
     "name": "stdout",
     "output_type": "stream",
     "text": [
      "<class '__main__.Robot'>\n"
     ]
    }
   ],
   "source": [
    "# 定义类\n",
    "class Robot:\n",
    "    pass\n",
    "\n",
    "\n",
    "# type()返回一个对象的类型\n",
    "robot = Robot()\n",
    "\n",
    "print(type(robot))"
   ]
  },
  {
   "cell_type": "code",
   "execution_count": 24,
   "metadata": {},
   "outputs": [
    {
     "name": "stdout",
     "output_type": "stream",
     "text": [
      "I am animal\n",
      "I am dragon\n",
      "I am running\n",
      "I can spray fire\n"
     ]
    }
   ],
   "source": [
    "# 类的继承\n",
    "class Animal:\n",
    "    \n",
    "    def __init__(self):\n",
    "        print('I am animal')\n",
    "    \n",
    "    def run(self):\n",
    "        print('I can run')\n",
    "\n",
    "# 子类\n",
    "# 子类的实例同时可以看作是其父类的实例\n",
    "# 子类中的方法会覆盖父类中的同名方法\n",
    "# 可以使用super()在子类方法中显式调用父类中的方法\n",
    "# 支持多重继承，子类可以同时获得多个父类的所有功能\n",
    "class Dragon(Animal):\n",
    "    \n",
    "    def __init__(self):\n",
    "        super().__init__()\n",
    "        print('I am dragon')\n",
    "    \n",
    "    def run(self):\n",
    "        print('I am running')\n",
    "        \n",
    "    def spray(self):\n",
    "        print('I can spray fire')\n",
    "\n",
    "\n",
    "# 测试\n",
    "dragon = Dragon()\n",
    "dragon.run()\n",
    "dragon.spray()"
   ]
  },
  {
   "cell_type": "code",
   "execution_count": 26,
   "metadata": {},
   "outputs": [
    {
     "name": "stdout",
     "output_type": "stream",
     "text": [
      "1\n",
      "2\n"
     ]
    }
   ],
   "source": [
    "# super()函数的一个常见用法是在__init__()方法中确保父类被正确地初始化\n",
    "class A:\n",
    "    \n",
    "    def __init__(self):\n",
    "        self.x = 1\n",
    "        \n",
    "        \n",
    "class B(A):\n",
    "    \n",
    "    def __init__(self):\n",
    "        super().__init__()\n",
    "        self.y = 2\n",
    "        \n",
    "        \n",
    "# 测试\n",
    "b = B()\n",
    "print(b.x)\n",
    "print(b.y)"
   ]
  }
 ],
 "metadata": {
  "kernelspec": {
   "display_name": "Python 3",
   "language": "python",
   "name": "python3"
  },
  "language_info": {
   "codemirror_mode": {
    "name": "ipython",
    "version": 3
   },
   "file_extension": ".py",
   "mimetype": "text/x-python",
   "name": "python",
   "nbconvert_exporter": "python",
   "pygments_lexer": "ipython3",
   "version": "3.7.1"
  }
 },
 "nbformat": 4,
 "nbformat_minor": 2
}
