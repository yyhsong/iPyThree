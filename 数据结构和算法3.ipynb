{
 "cells": [
  {
   "cell_type": "code",
   "execution_count": 3,
   "metadata": {},
   "outputs": [
    {
     "data": {
      "text/plain": [
       "[Player(3), Player(7), Player(11), Player(23), Player(24)]"
      ]
     },
     "execution_count": 3,
     "metadata": {},
     "output_type": "execute_result"
    }
   ],
   "source": [
    "\"\"\"对不支持原生比较的对象进行排序\"\"\"\n",
    "\n",
    "from operator import attrgetter\n",
    "\n",
    "\n",
    "class Player:\n",
    "    def __init__(self, num):\n",
    "        self.num = num\n",
    "        \n",
    "    def __repr__(self):\n",
    "        return 'Player({})'.format(self.num)\n",
    "    \n",
    "    \n",
    "players = [Player(7), Player(3), Player(23), Player(11), Player(24)]\n",
    "\n",
    "# 使用lambda方式排序\n",
    "sorted(players, key=lambda p: p.num)\n",
    "\n",
    "# 使用attrgetter方式排序\n",
    "sorted(players, key=attrgetter('num'))"
   ]
  },
  {
   "cell_type": "code",
   "execution_count": 6,
   "metadata": {},
   "outputs": [
    {
     "name": "stdout",
     "output_type": "stream",
     "text": [
      "Apple\n",
      "{'name': 'Apple', 'model': 'iPhone 11 Pro'}\n",
      "{'name': 'Apple', 'model': 'iPhone SE'}\n",
      "{'name': 'Apple', 'model': 'iPhone 10 Plus'}\n",
      "HuaWei\n",
      "{'name': 'HuaWei', 'model': 'Mate 30'}\n",
      "{'name': 'HuaWei', 'model': 'Mate 20'}\n",
      "Mi\n",
      "{'name': 'Mi', 'model': 'MI 10'}\n",
      "{'name': 'Mi', 'model': 'MI 9'}\n"
     ]
    }
   ],
   "source": [
    "\"\"\"通过特定字段对元素进行分组\"\"\"\n",
    "\n",
    "from operator import itemgetter\n",
    "from itertools import groupby\n",
    "\n",
    "phones = [\n",
    "    {'name': 'Apple', 'model': 'iPhone 11 Pro'},\n",
    "    {'name': 'Mi', 'model': 'MI 10'},\n",
    "    {'name': 'HuaWei', 'model': 'Mate 30'},\n",
    "    {'name': 'Apple', 'model': 'iPhone SE'},\n",
    "    {'name': 'HuaWei', 'model': 'Mate 20'},\n",
    "    {'name': 'Mi', 'model': 'MI 9'},\n",
    "    {'name': 'Apple', 'model': 'iPhone 10 Plus'}\n",
    "]\n",
    "\n",
    "# 首先用预分组字段进行排序\n",
    "phones.sort(key=itemgetter('name'))\n",
    "# print(phones)\n",
    "\n",
    "# 分组遍历\n",
    "# groupby()扫描整个序列并查找相同连续值，因此首先应该进行排序\n",
    "for name,items in groupby(phones, key=itemgetter('name')):\n",
    "    print(name)\n",
    "    for item in items:\n",
    "        print(item)"
   ]
  },
  {
   "cell_type": "code",
   "execution_count": 12,
   "metadata": {},
   "outputs": [
    {
     "name": "stdout",
     "output_type": "stream",
     "text": [
      "[1, 3, 5, 7, 9]\n",
      "[1.0, 1.7320508075688772, 2.23606797749979, 2.6457513110645907, 3.0]\n",
      "-2\n",
      "-4\n",
      "-6\n",
      "-8\n",
      "[1, -2, 3, -4, 5, -6, 7, -8, 9]\n"
     ]
    }
   ],
   "source": [
    "\"\"\"过滤序列元素\"\"\"\n",
    "\n",
    "# 列表推导\n",
    "nums = [1, -2, 3, -4, 5, -6, 7, -8, 9]\n",
    "print([n for n in nums if n > 0])\n",
    "\n",
    "import math\n",
    "print([math.sqrt(n) for n in nums if n > 0])\n",
    "\n",
    "# 使用生成器表达式迭代产生过滤的元素\n",
    "ns = (n for n in nums if n < 0)\n",
    "for n in ns:\n",
    "    print(n)\n",
    "    \n",
    "# 使用filter()函数，处理复杂的过滤规则\n",
    "nums2 = [1, -2, 'a', 3, -4, 5, '-', -6, 7, 'N/A', -8, 9]\n",
    "\n",
    "def is_int(val):\n",
    "    try:\n",
    "        n = int(val)\n",
    "        return True\n",
    "    except ValueError:\n",
    "        return False\n",
    "    \n",
    "print(list(filter(is_int, nums2)))"
   ]
  },
  {
   "cell_type": "code",
   "execution_count": 14,
   "metadata": {},
   "outputs": [
    {
     "name": "stdout",
     "output_type": "stream",
     "text": [
      "[True, True, True, False, False, False]\n"
     ]
    },
    {
     "data": {
      "text/plain": [
       "['red', 'green', 'blue']"
      ]
     },
     "execution_count": 14,
     "metadata": {},
     "output_type": "execute_result"
    }
   ],
   "source": [
    "\"\"\"用另外一个相关联的序列来过滤某个序列\"\"\"\n",
    "\n",
    "from itertools import compress\n",
    "\n",
    "colors = ['red', 'green', 'blue', 'black', 'white', 'navy']\n",
    "color_index = [1, 2, 3, 4, 5, 6]\n",
    "top3 = [i <= 3 for i in color_index]\n",
    "print(top3)\n",
    "list(compress(colors, top3))"
   ]
  },
  {
   "cell_type": "code",
   "execution_count": null,
   "metadata": {},
   "outputs": [],
   "source": []
  },
  {
   "cell_type": "code",
   "execution_count": null,
   "metadata": {},
   "outputs": [],
   "source": []
  },
  {
   "cell_type": "code",
   "execution_count": null,
   "metadata": {},
   "outputs": [],
   "source": []
  },
  {
   "cell_type": "code",
   "execution_count": null,
   "metadata": {},
   "outputs": [],
   "source": []
  },
  {
   "cell_type": "code",
   "execution_count": null,
   "metadata": {},
   "outputs": [],
   "source": []
  },
  {
   "cell_type": "code",
   "execution_count": null,
   "metadata": {},
   "outputs": [],
   "source": []
  },
  {
   "cell_type": "code",
   "execution_count": null,
   "metadata": {},
   "outputs": [],
   "source": []
  },
  {
   "cell_type": "code",
   "execution_count": null,
   "metadata": {},
   "outputs": [],
   "source": []
  },
  {
   "cell_type": "code",
   "execution_count": null,
   "metadata": {},
   "outputs": [],
   "source": []
  },
  {
   "cell_type": "code",
   "execution_count": null,
   "metadata": {},
   "outputs": [],
   "source": []
  },
  {
   "cell_type": "code",
   "execution_count": null,
   "metadata": {},
   "outputs": [],
   "source": []
  },
  {
   "cell_type": "code",
   "execution_count": null,
   "metadata": {},
   "outputs": [],
   "source": []
  }
 ],
 "metadata": {
  "kernelspec": {
   "display_name": "Python 3",
   "language": "python",
   "name": "python3"
  },
  "language_info": {
   "codemirror_mode": {
    "name": "ipython",
    "version": 3
   },
   "file_extension": ".py",
   "mimetype": "text/x-python",
   "name": "python",
   "nbconvert_exporter": "python",
   "pygments_lexer": "ipython3",
   "version": "3.7.1"
  }
 },
 "nbformat": 4,
 "nbformat_minor": 2
}
