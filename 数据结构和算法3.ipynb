{
 "cells": [
  {
   "cell_type": "code",
   "execution_count": 3,
   "metadata": {},
   "outputs": [
    {
     "data": {
      "text/plain": [
       "[Player(3), Player(7), Player(11), Player(23), Player(24)]"
      ]
     },
     "execution_count": 3,
     "metadata": {},
     "output_type": "execute_result"
    }
   ],
   "source": [
    "\"\"\"对不支持原生比较的对象进行排序\"\"\"\n",
    "\n",
    "from operator import attrgetter\n",
    "\n",
    "\n",
    "class Player:\n",
    "    def __init__(self, num):\n",
    "        self.num = num\n",
    "        \n",
    "    def __repr__(self):\n",
    "        return 'Player({})'.format(self.num)\n",
    "    \n",
    "    \n",
    "players = [Player(7), Player(3), Player(23), Player(11), Player(24)]\n",
    "\n",
    "# 使用lambda方式排序\n",
    "sorted(players, key=lambda p: p.num)\n",
    "\n",
    "# 使用attrgetter方式排序\n",
    "sorted(players, key=attrgetter('num'))"
   ]
  }
 ],
 "metadata": {
  "kernelspec": {
   "display_name": "Python 3",
   "language": "python",
   "name": "python3"
  },
  "language_info": {
   "codemirror_mode": {
    "name": "ipython",
    "version": 3
   },
   "file_extension": ".py",
   "mimetype": "text/x-python",
   "name": "python",
   "nbconvert_exporter": "python",
   "pygments_lexer": "ipython3",
   "version": "3.7.1"
  }
 },
 "nbformat": 4,
 "nbformat_minor": 2
}
