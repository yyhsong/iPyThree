{
 "cells": [
  {
   "cell_type": "code",
   "execution_count": null,
   "metadata": {},
   "outputs": [],
   "source": [
    "\"\"\"数据库操作\n",
    "\n",
    "SQLite是一种嵌入式数据库，它的数据库就是一个文件\n",
    "SQLite由C语言写成，体积很小，所以经常被集成到各种应用程序中，甚至移动APP中\n",
    "Python内置了SQLite及相关驱动\n",
    "MySQL的SQL占位符是%s\n",
    "Python的DB-API定义对不同的数据库是通用的\n",
    "\n",
    "操作数据库的基本步骤：创建连接 -> 获取游标 -> 执行SQL -> 关闭游标 -> 提交事务（非查询操作） -> 关闭连接\n",
    "使用游标Cursor对象执行insert update delete语句时，执行结果由rowcount返回影响的行数\n",
    "使用游标Cursor对象执行select语句时，通过fetchall()可以获取结果集\n",
    "结果集是一个list，每个元素都是一个tuple，对应一行记录\n",
    "执行INSERT等操作后要调用commit()提交事务\n",
    "\n",
    "ORM(Object-Relational Mapping)对象关系映射\n",
    "ORM就是把数据库表的行与相应的对象建立关联，把对表的操作转换为对对象的操作\n",
    "常用ORM框架：SQLAlchemy\n",
    "\"\"\""
   ]
  },
  {
   "cell_type": "code",
   "execution_count": 10,
   "metadata": {},
   "outputs": [
    {
     "name": "stdout",
     "output_type": "stream",
     "text": [
      "查询结果： [('1', 'Neo')]\n"
     ]
    }
   ],
   "source": [
    "\"\"\"SQLite基本操作\"\"\"\n",
    "\n",
    "import sqlite3\n",
    "\n",
    "# 建立数据库连接\n",
    "# 如果连接的数据库文件不存在，则自动创建\n",
    "conn = sqlite3.connect('./data/test.db')\n",
    "\n",
    "# 获取游标\n",
    "cur = conn.cursor()\n",
    "\n",
    "# 执行SQL，创建user表\n",
    "# cur.execute('DROP TABLE user')\n",
    "# cur.execute('CREATE TABLE user (id varchar(20) primary key, name varchar(20))')\n",
    "\n",
    "# 执行SQL，插入一条记录\n",
    "# cur.execute('INSERT INTO user (id, name) VALUES (\"1\", \"Neo\")')\n",
    "\n",
    "# 获取插入行数\n",
    "# print('成功插入了{}条数据'.format(cur.rowcount))\n",
    "\n",
    "# 执行查询\n",
    "cur.execute('SELECT * FROM user WHERE id=?', ('1',))\n",
    "res = cur.fetchall()\n",
    "print('查询结果：', res)\n",
    "\n",
    "# 关闭游标\n",
    "cur.close()\n",
    "\n",
    "# 提交事务\n",
    "# conn.commit()\n",
    "\n",
    "# 关闭连接\n",
    "conn.close()"
   ]
  },
  {
   "cell_type": "code",
   "execution_count": 13,
   "metadata": {},
   "outputs": [
    {
     "name": "stdout",
     "output_type": "stream",
     "text": [
      "查询结果：\n",
      "diagnostics.allow_i_s_tables :  OFF\n",
      "diagnostics.include_raw :  OFF\n",
      "ps_thread_trx_info.max_length :  65535\n",
      "statement_performance_analyzer.limit :  100\n",
      "statement_performance_analyzer.view :  None\n",
      "statement_truncate_len :  64\n"
     ]
    }
   ],
   "source": [
    "\"\"\"MySQL基本操作\"\"\"\n",
    "\n",
    "import mysql.connector\n",
    "\n",
    "# 建立数据库连接\n",
    "conn = mysql.connector.connect(user='root', password='123456', database='sys')\n",
    "\n",
    "# 获取游标\n",
    "cur = conn.cursor()\n",
    "\n",
    "# 执行查询\n",
    "cur.execute('SELECT * FROM sys_config WHERE 1=1')\n",
    "res = cur.fetchall()\n",
    "\n",
    "print('查询结果：')\n",
    "for r in res:\n",
    "    print(r[0], ': ', r[1])\n",
    "    \n",
    "# 关闭游标\n",
    "cur.close()\n",
    "\n",
    "# 关闭连接\n",
    "conn.close()"
   ]
  },
  {
   "cell_type": "code",
   "execution_count": 16,
   "metadata": {},
   "outputs": [],
   "source": [
    "\"\"\"对象关系映射ORM\"\"\"\n",
    "\n",
    "from sqlalchemy import Column, String, create_engine, ForeignKey\n",
    "from sqlalchemy.orm import sessionmaker, relationship\n",
    "from sqlalchemy.ext.declarative import declarative_base\n",
    "\n",
    "# 创建对象基类\n",
    "Base = declarative_base()\n",
    "\n",
    "# 自定义对象 - 映射数据表\n",
    "class User(Base):\n",
    "    # 表名\n",
    "    __tablename__ = 'user'\n",
    "    \n",
    "    # 表结构\n",
    "    id = Column(String(20), primary_key=True)\n",
    "    name = Column(String(20))\n",
    "    \n",
    "    # 表关联\n",
    "    # 一对多\n",
    "    # articles = relationship('Article')\n",
    "    # 多对一\n",
    "    # city_id = Column(String(20), ForeignKey('city_id'))\n",
    "    \n",
    "# 初始化数据库连接\n",
    "# 数据库类型+数据库驱动名称://用户名:口令@机器地址:端口号/数据库名\n",
    "engine = create_engine('sqlite:///test.db')\n",
    "\n",
    "# 创建DBSession\n",
    "DBSession = sessionmaker(bind=engine)\n",
    "\n",
    "# 创建session对象\n",
    "session = DBSession()\n",
    "\n",
    "# 创建User对象\n",
    "# new_user = User(id='1', name='Neo')\n",
    "# 添加到session\n",
    "# session.add(new_user)\n",
    "# 提交保存到数据库\n",
    "# session.commit()\n",
    "\n",
    "# 执行查询\n",
    "query_user = session.query(User).filter(User.id == '1').one()\n",
    "print('type: ', type(query_user))\n",
    "print('name: ', query_user.name)\n",
    "\n",
    "# 关闭session\n",
    "session.close()"
   ]
  }
 ],
 "metadata": {
  "kernelspec": {
   "display_name": "Python 3 (ipykernel)",
   "language": "python",
   "name": "python3"
  },
  "language_info": {
   "codemirror_mode": {
    "name": "ipython",
    "version": 3
   },
   "file_extension": ".py",
   "mimetype": "text/x-python",
   "name": "python",
   "nbconvert_exporter": "python",
   "pygments_lexer": "ipython3",
   "version": "3.11.4"
  }
 },
 "nbformat": 4,
 "nbformat_minor": 2
}
