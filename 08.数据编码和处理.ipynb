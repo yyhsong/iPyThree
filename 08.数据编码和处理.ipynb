{
 "cells": [
  {
   "cell_type": "markdown",
   "metadata": {},
   "source": [
    "# 读写CSV数据"
   ]
  },
  {
   "cell_type": "code",
   "execution_count": 23,
   "metadata": {},
   "outputs": [],
   "source": [
    "\"\"\"把数据写入csv\n",
    "\n",
    "需要首先创建writer对象\n",
    "\"\"\"\n",
    "\n",
    "import csv\n",
    "\n",
    "header = ['Name', 'Number', 'Gender']\n",
    "rows = [\n",
    "    ('James', 23, 'male'),\n",
    "    ('Kobe', 24, 'male'),\n",
    "    ('Shelly', 11, 'female')\n",
    "]\n",
    "\n",
    "# 如果该文件不存在，则新建\n",
    "# 设置newline参数避免写入空行\n",
    "with open('./files/players.csv', 'w', newline='') as f:\n",
    "    fw = csv.writer(f)\n",
    "    fw.writerow(header)\n",
    "    fw.writerows(rows)"
   ]
  },
  {
   "cell_type": "code",
   "execution_count": 16,
   "metadata": {},
   "outputs": [],
   "source": [
    "\"\"\"写入字典序列数据\"\"\"\n",
    "\n",
    "import csv\n",
    "\n",
    "header = ['Name', 'Number', 'Gender']\n",
    "rows = [\n",
    "    {'Name':'Curry', 'Number':30, 'Gender':'male'},\n",
    "    {'Name':'Alita', 'Number':12, 'Gender':'female'},\n",
    "    {'Name':'Kevin', 'Number':33, 'Gender':'male'}\n",
    "]\n",
    "\n",
    "# w模式会覆盖文件原有内容\n",
    "with open('./files/players.csv', 'w', newline='') as f:\n",
    "    fw = csv.DictWriter(f, header)\n",
    "    fw.writeheader()\n",
    "    fw.writerows(rows)"
   ]
  },
  {
   "cell_type": "code",
   "execution_count": 17,
   "metadata": {},
   "outputs": [
    {
     "name": "stdout",
     "output_type": "stream",
     "text": [
      "Header:  ['Name', 'Number', 'Gender']\n",
      "Rows: \n",
      "['Curry', '30', 'male']\n",
      "['Alita', '12', 'female']\n",
      "['Kevin', '33', 'male']\n"
     ]
    }
   ],
   "source": [
    "\"\"\"读取csv文件\n",
    "\n",
    "需要首先创建reader()对象\n",
    "\"\"\"\n",
    "\n",
    "import csv\n",
    "\n",
    "with open('./files/players.csv') as f:\n",
    "    fr = csv.reader(f)\n",
    "    header = next(fr)\n",
    "    print('Header: ', header)\n",
    "    print('Rows: ')\n",
    "    for row in fr:\n",
    "        print(row)"
   ]
  },
  {
   "cell_type": "code",
   "execution_count": 24,
   "metadata": {},
   "outputs": [
    {
     "name": "stdout",
     "output_type": "stream",
     "text": [
      "James\n",
      "Row(Name='James', Number='23', Gender='male')\n",
      "Kobe\n",
      "Row(Name='Kobe', Number='24', Gender='male')\n",
      "Shelly\n",
      "Row(Name='Shelly', Number='11', Gender='female')\n"
     ]
    }
   ],
   "source": [
    "\"\"\"使用命名元祖读取csv数据\n",
    "\n",
    "使用列名代替下标访问，只有在列名为合法python标识符时才有效，否则需要修改原始列名\n",
    "\"\"\"\n",
    "\n",
    "import csv\n",
    "from collections import namedtuple\n",
    "\n",
    "with open('./files/players.csv') as f:\n",
    "    fr = csv.reader(f)\n",
    "    header = next(fr)\n",
    "    Row = namedtuple('Row', header)\n",
    "    for r in fr:\n",
    "        row = Row(*r)\n",
    "        print(row.Name)\n",
    "        print(row)"
   ]
  },
  {
   "cell_type": "markdown",
   "metadata": {},
   "source": [
    "# 读写JSON数据"
   ]
  },
  {
   "cell_type": "code",
   "execution_count": 19,
   "metadata": {},
   "outputs": [
    {
     "name": "stdout",
     "output_type": "stream",
     "text": [
      "<class 'str'> {\"name\": \"James\", \"number\": 23, \"gender\": \"male\"}\n",
      "<class 'dict'> {'name': 'James', 'number': 23, 'gender': 'male'}\n"
     ]
    }
   ],
   "source": [
    "\"\"\"读写JSON数据\n",
    "\n",
    "JSON支持的基本数据类型包括None bool int float str\n",
    "以及包含这些类型数据的列表、元祖、字典\n",
    "\"\"\"\n",
    "\n",
    "import json\n",
    "\n",
    "raw_data = {'name':'James', 'number':23, 'gender':'male'}\n",
    "\n",
    "# 把python对象转换为json字符串\n",
    "json_str = json.dumps(raw_data)\n",
    "print(type(json_str), json_str)\n",
    "\n",
    "# 把json字符串转换为python对象\n",
    "py_obj = json.loads(json_str)\n",
    "print(type(py_obj), py_obj)"
   ]
  },
  {
   "cell_type": "code",
   "execution_count": 22,
   "metadata": {},
   "outputs": [
    {
     "name": "stdout",
     "output_type": "stream",
     "text": [
      "<class 'dict'> {'name': 'James', 'number': 23, 'gender': 'male'}\n"
     ]
    }
   ],
   "source": [
    "\"\"\"使用json处理文件\"\"\"\n",
    "\n",
    "import json\n",
    "\n",
    "raw_data = {'name':'James', 'number':23, 'gender':'male'}\n",
    "\n",
    "# 把数据写入json文件\n",
    "with open('./files/players.json', 'w') as f:\n",
    "    json.dump(raw_data, f)\n",
    "    \n",
    "# 从json文件中读取数据\n",
    "with open('./files/play.json', 'r') as f:\n",
    "    d = json.load(f)\n",
    "    print(type(d), d)"
   ]
  },
  {
   "cell_type": "code",
   "execution_count": 31,
   "metadata": {},
   "outputs": [
    {
     "name": "stdout",
     "output_type": "stream",
     "text": [
      "{\n",
      "    \"name\": \"James\",\n",
      "    \"number\": 23,\n",
      "    \"gender\": \"male\"\n",
      "}\n",
      "{ 'gender': 'male',\n",
      "  'name': 'James',\n",
      "  'number': 23}\n"
     ]
    }
   ],
   "source": [
    "\"\"\"格式化打印\"\"\"\n",
    "\n",
    "import json\n",
    "\n",
    "raw_data = {'name':'James', 'number':23, 'gender':'male'}\n",
    "\n",
    "# 使用indent参数\n",
    "print(json.dumps(raw_data, indent=4))\n",
    "\n",
    "# 使用pretty-print\n",
    "from pprint import pprint\n",
    "\n",
    "pprint(raw_data, indent=2, width=10)"
   ]
  },
  {
   "cell_type": "markdown",
   "metadata": {},
   "source": [
    "# 读写XML数据"
   ]
  },
  {
   "cell_type": "code",
   "execution_count": 3,
   "metadata": {},
   "outputs": [
    {
     "name": "stdout",
     "output_type": "stream",
     "text": [
      "Mike Driscoll: Using Widgets in Jupyter Notebook (Video)\n",
      "Mon, 06 Jul 2020 01:23:26 +0000\n",
      "https://www.blog.pythonlibrary.org/2020/07/05/using-widgets-in-jupyter-notebook-video/\n",
      "\n",
      "Nikola: Nikola v8.1.1 is out!\n",
      "Sun, 05 Jul 2020 21:44:00 +0000\n",
      "https://getnikola.com/blog/nikola-v811-is-out.html\n",
      "\n",
      "Glyph Lefkowitz: Zen Guardian\n",
      "Sun, 05 Jul 2020 20:44:00 +0000\n",
      "https://glyph.twistedmatrix.com/2020/07/zen-guardian.html\n",
      "\n",
      "PSF GSoC students blogs: Weekly Check-In: Week 6\n",
      "Sun, 05 Jul 2020 17:35:04 +0000\n",
      "https://blogs.python-gsoc.org/en/lenixlobos-blog/weekly-check-in-week-6/\n",
      "\n",
      "PSF GSoC students blogs: Weekly Check-in #6\n",
      "Sun, 05 Jul 2020 16:03:39 +0000\n",
      "https://blogs.python-gsoc.org/en/nibba2018s-blog/weekly-check-in-6-7/\n",
      "\n",
      "Ian Ozsvald: Weekish notes\n",
      "Sun, 05 Jul 2020 15:42:33 +0000\n",
      "https://ianozsvald.com/2020/07/05/weekish-notes/\n",
      "\n",
      "PSF GSoC students blogs: [Week 5] Check-in\n",
      "Sun, 05 Jul 2020 14:21:24 +0000\n",
      "https://blogs.python-gsoc.org/en/sangyxs-blog/week-5-check-in-1/\n",
      "\n",
      "The Digital Cat: Flask project setup: TDD, Docker, Postgres and more - Part 1\n",
      "Sun, 05 Jul 2020 12:00:00 +0000\n",
      "https://www.thedigitalcatonline.com/blog/2020/07/05/flask-project-setup-tdd-docker-postgres-and-more-part-1/\n",
      "\n",
      "Pythonicity: Closing files\n",
      "Sun, 05 Jul 2020 07:00:00 +0000\n",
      "https://coady.github.io/posts/closing-files/\n",
      "\n",
      "Kushal Das: dns-tor-proxy 0.2.0 aka DoH release\n",
      "Sun, 05 Jul 2020 05:31:14 +0000\n",
      "https://kushaldas.in/posts/dns-tor-proxy-0-2-0-aka-doh-release.html\n",
      "\n",
      "Full Stack Python: Quickly Use Bootstrap 4 in a Django Template with a CDN\n",
      "Sun, 05 Jul 2020 04:00:00 +0000\n",
      "https://www.fullstackpython.com/blog/bootstrap-4-django-template.html\n",
      "\n",
      "Weekly Python StackOverflow Report: (ccxxxiv) stackoverflow python report\n",
      "Sat, 04 Jul 2020 20:20:00 +0000\n",
      "http://python-weekly.blogspot.com/2020/07/ccxxxiv-stackoverflow-python-report.html\n",
      "\n",
      "Talk Python to Me: #271 Unlock the mysteries of time, Python's datetime that is!\n",
      "Sat, 04 Jul 2020 08:00:00 +0000\n",
      "https://talkpython.fm/episodes/show/271/unlock-the-mysteries-of-time-pythons-datetime-that-is\n",
      "\n",
      "IslandT: Find the coefficients of the Quadratic Equation of the given two roots with Python\n",
      "Sat, 04 Jul 2020 03:04:39 +0000\n",
      "https://kibiwebgeek.com/find-the-coefficients-of-the-quadratic-equation-of-the-given-two-roots-with-python/\n",
      "\n",
      "Python Insider: Python 3.9.0b4 is now ready for testing\n",
      "Fri, 03 Jul 2020 19:42:56 +0000\n",
      "http://feedproxy.google.com/~r/PythonInsider/~3/gnNNy4s6QP4/python-390b4-is-now-ready-for-testing.html\n",
      "\n",
      "Moshe Zadka: A Labyrinth of Lies\n",
      "Fri, 03 Jul 2020 17:30:00 +0000\n",
      "https://orbifold.xyz/labyrinth.html\n",
      "\n",
      "Stack Abuse: How to Write a Makefile - Automating Python Setup, Compilation, and Testing\n",
      "Fri, 03 Jul 2020 12:26:00 +0000\n",
      "https://stackabuse.com/how-to-write-a-makefile-automating-python-setup-compilation-and-testing/\n",
      "\n",
      "Real Python: The Real Python Podcast – Episode #16: Thinking in Pandas: Python Data Analysis the Right Way\n",
      "Fri, 03 Jul 2020 12:00:00 +0000\n",
      "https://realpython.com/podcasts/rpp/16/\n",
      "\n",
      "CubicWeb: Release of CubicWeb 3.28\n",
      "Fri, 03 Jul 2020 09:21:00 +0000\n",
      "http://feedproxy.google.com/~r/cubicweborg/~3/Q7q_eSQNQ0o/17339737\n",
      "\n",
      "Python Bytes: #188 Will there be a \"switch\" in Python the language?\n",
      "Fri, 03 Jul 2020 08:00:00 +0000\n",
      "https://pythonbytes.fm/episodes/show/188/will-there-be-a-switch-in-python-the-language\n",
      "\n",
      "Test and Code: 120: FastAPI &amp; Typer - Sebastián Ramírez\n",
      "Fri, 03 Jul 2020 07:00:00 +0000\n",
      "https://testandcode.com/120\n",
      "\n",
      "Reuven Lerner: Level up your Python skills with a supercharged Humble Bundle!\n",
      "Thu, 02 Jul 2020 17:42:20 +0000\n",
      "https://lerner.co.il/2020/07/02/level-up-your-python-skills-with-a-supercharged-humble-bundle/\n",
      "\n",
      "Daniel Roy Greenfeld: I'm Teaching A Live Online Django Crash Course\n",
      "Thu, 02 Jul 2020 17:30:00 +0000\n",
      "\n",
      "\n",
      "PyCharm: PyCharm 2020.2 EAP#3 is out!\n",
      "Thu, 02 Jul 2020 13:41:44 +0000\n",
      "http://feedproxy.google.com/~r/Pycharm/~3/c2_BQurPIno/\n",
      "\n",
      "Philippe Normand: Web-augmented graphics overlay broadcasting with WPE and GStreamer\n",
      "Thu, 02 Jul 2020 13:00:00 +0000\n",
      "https://base-art.net/Articles/web-augmented-graphics-overlay-broadcasting-with-wpe-and-gstreamer/\n",
      "\n"
     ]
    }
   ],
   "source": [
    "\"\"\"解析简单的XML数据\"\"\"\n",
    "\n",
    "from urllib import request\n",
    "from xml.etree.ElementTree import parse\n",
    "\n",
    "# Download the RSS feed and parse it\n",
    "with request.urlopen('http://planet.python.org/rss20.xml') as f:\n",
    "    # doc 表示文档\n",
    "    doc = parse(f)\n",
    "    for item in doc.iterfind('channel/item'):\n",
    "        print(item.findtext('title'))\n",
    "        print(item.findtext('pubDate'))\n",
    "        print(item.findtext('link'))\n",
    "        print()"
   ]
  },
  {
   "cell_type": "code",
   "execution_count": 4,
   "metadata": {},
   "outputs": [],
   "source": [
    "\"\"\"使用尽可能少的内存，增量式解析大型XML文件\"\"\"\n",
    "\n",
    "from xml.etree.ElementTree import iterparse"
   ]
  },
  {
   "cell_type": "code",
   "execution_count": 8,
   "metadata": {},
   "outputs": [
    {
     "name": "stdout",
     "output_type": "stream",
     "text": [
      "b'<player id=\"1\"><name>James</name><age>33</age><gender>male</gender></player>'\n"
     ]
    }
   ],
   "source": [
    "\"\"\"将字典转换为XML\"\"\"\n",
    "\n",
    "from xml.etree.ElementTree import Element, tostring\n",
    "\n",
    "def dict_to_xml(tag, dic):\n",
    "    el = Element(tag)\n",
    "    for k, v in dic.items():\n",
    "        child = Element(k)\n",
    "        child.text = str(v)\n",
    "        el.append(child)\n",
    "    return el\n",
    "\n",
    "# 测试\n",
    "dic = {\n",
    "    'name': 'James',\n",
    "    'age': 33,\n",
    "    'gender': 'male'\n",
    "}\n",
    "el = dict_to_xml('player', dic)\n",
    "\n",
    "# 添加属性\n",
    "el.set('id', '1')\n",
    "\n",
    "print(tostring(el))"
   ]
  },
  {
   "cell_type": "code",
   "execution_count": null,
   "metadata": {},
   "outputs": [],
   "source": [
    "\"\"\"解析和修改XML\"\"\"\n",
    "\n",
    "from xml.etree.ElementTree import parse, Element\n",
    "\n",
    "# 获取根元素\n",
    "doc = parse('test.xml')\n",
    "root = doc.getroot()\n",
    "\n",
    "# 删除元素\n",
    "root.remove(root.find('foo'))\n",
    "\n",
    "# 获取元素位置索引\n",
    "root.getchildren().index(root.find('bar'))\n",
    "\n",
    "# 插入元素\n",
    "el = Element('new')\n",
    "el.text = 'This is a new node'\n",
    "root.insert(2, el)\n",
    "\n",
    "# 把修改后的内容重新写入xml文件\n",
    "doc.write('test.xml', xml_declaration=True)"
   ]
  }
 ],
 "metadata": {
  "kernelspec": {
   "display_name": "Python 3 (ipykernel)",
   "language": "python",
   "name": "python3"
  },
  "language_info": {
   "codemirror_mode": {
    "name": "ipython",
    "version": 3
   },
   "file_extension": ".py",
   "mimetype": "text/x-python",
   "name": "python",
   "nbconvert_exporter": "python",
   "pygments_lexer": "ipython3",
   "version": "3.11.4"
  }
 },
 "nbformat": 4,
 "nbformat_minor": 2
}
