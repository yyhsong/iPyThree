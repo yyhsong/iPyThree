{
 "cells": [
  {
   "cell_type": "code",
   "execution_count": null,
   "metadata": {
    "scrolled": true
   },
   "outputs": [],
   "source": [
    "\"\"\"Python数据结构\n",
    "\n",
    "列表list，有序集合，[]，有append, insert, pop等操作\n",
    "元组tuple，类似list，()，一旦定义内容不可变\n",
    "字典dict，无序键值对，{}\n",
    "集合set，无序无重复元素的集合，只存储key，以set()方法构建，参数为一个list\n",
    "\"\"\""
   ]
  },
  {
   "cell_type": "code",
   "execution_count": 5,
   "metadata": {},
   "outputs": [
    {
     "name": "stdout",
     "output_type": "stream",
     "text": [
      "列表list:  ['red', 'green', 'blue', 'black', 'white']\n",
      "元祖tuple:  ('red', 'green', 'blue', 'black', 'white')\n",
      "字典dict:  {'red': 'ff0000', 'green': '00ff00', 'blue': '0000ff', 'black': '000000', 'white': 'ffffff'}\n",
      "集合set:  {'blue', 'green', 'red', 'black', 'white'}\n"
     ]
    }
   ],
   "source": [
    "# 列表list\n",
    "colors_list = ['red', 'green', 'blue', 'black', 'white']\n",
    "print('列表list: ', colors_list)\n",
    "\n",
    "# 元祖tuple\n",
    "colors_tuple = ('red', 'green', 'blue', 'black', 'white')\n",
    "print('元祖tuple: ', colors_tuple)\n",
    "\n",
    "# 字典dict\n",
    "colors_dict = {'red':'ff0000', 'green':'00ff00', 'blue':'0000ff', 'black':'000000', 'white':'ffffff'}\n",
    "print('字典dict: ', colors_dict)\n",
    "\n",
    "# 集合set\n",
    "colors_set = set(colors_list)\n",
    "print('集合set: ', colors_set)"
   ]
  },
  {
   "cell_type": "code",
   "execution_count": 31,
   "metadata": {
    "scrolled": true
   },
   "outputs": [
    {
     "name": "stdout",
     "output_type": "stream",
     "text": [
      "[(0, 'red'), (1, 'green'), (2, 'blue'), (3, 'black'), (4, 'white')]\n",
      "1 red\n",
      "2 green\n",
      "3 blue\n",
      "4 black\n",
      "5 white\n"
     ]
    }
   ],
   "source": [
    "\"\"\"枚举对象\n",
    "\n",
    "enumerate(iterable, start=0) 返回一个枚举对象\n",
    "\"\"\"\n",
    "\n",
    "colors = ['red', 'green', 'blue', 'black', 'white']\n",
    "\n",
    "# 列表可以通过下标访问\n",
    "# 但不能直接遍历出下标\n",
    "# print(colors[0])\n",
    "# ValueError: too many values to unpack\n",
    "# for index, color in colors:\n",
    "#     print(index, color)\n",
    "\n",
    "# 转换为枚举对象\n",
    "print(list(enumerate(colors)))\n",
    "\n",
    "# 遍历枚举对象\n",
    "for index, color in enumerate(colors, start=1):\n",
    "    print(index, color)"
   ]
  },
  {
   "cell_type": "code",
   "execution_count": 12,
   "metadata": {
    "scrolled": true
   },
   "outputs": [
    {
     "name": "stdout",
     "output_type": "stream",
     "text": [
      "['red', 'green', 'blue']\n",
      "['red', 'green', 'blue']\n",
      "['black', 'white']\n",
      "['black']\n",
      "['white']\n",
      "['red', 'blue', 'white']\n"
     ]
    }
   ],
   "source": [
    "\"\"\"切片\n",
    "\n",
    "list, tuple, str都可以进行切片操作\n",
    "Python没有针对字符串的截取函数，使用切片完成对字符串的截取\n",
    "\"\"\"\n",
    "\n",
    "colors = ['red', 'green', 'blue', 'black', 'white']\n",
    "\n",
    "# 取前3个元素，从索引0开始，到索引3为止，但不包括索引3\n",
    "print(colors[0:3])\n",
    "\n",
    "# 如果开始索引是0，可以省略\n",
    "print(colors[:3])\n",
    "\n",
    "# 反向切片\n",
    "print(colors[-2:])\n",
    "\n",
    "# 倒数第一个的索引是-1\n",
    "print(colors[-2:-1])\n",
    "\n",
    "# 取最后一个元素\n",
    "print(colors[-1:])\n",
    "\n",
    "# 每两个元素取一个\n",
    "print(colors[::2])"
   ]
  },
  {
   "cell_type": "code",
   "execution_count": 27,
   "metadata": {
    "scrolled": true
   },
   "outputs": [
    {
     "name": "stdout",
     "output_type": "stream",
     "text": [
      "True\n",
      "True\n",
      "False\n",
      "red\tgreen\tblue\t\n",
      "ff0000\t00ff00\t0000ff\t\n",
      "red ff0000\n",
      "green 00ff00\n",
      "blue 0000ff\n",
      "A\tB\tC\t\n",
      "1\t2\t3\n",
      "4\t5\t6\n",
      "7\t8\t9\n",
      "1\t2\t3\n",
      "4\t5\t6\n",
      "7\t8\t9\n"
     ]
    }
   ],
   "source": [
    "\"\"\"迭代\n",
    "\n",
    "可迭代对象均可进行迭代操作\n",
    "迭代通过for...in来完成\n",
    "\"\"\"\n",
    "\n",
    "# 判断一个对象是否为可迭代对象\n",
    "from collections import Iterable\n",
    "\n",
    "print(isinstance([1, 2, 3], Iterable))\n",
    "print(isinstance('abc', Iterable))\n",
    "print(isinstance(100, Iterable))\n",
    "\n",
    "# 对字典dict对象进行迭代\n",
    "colors = {'red':'ff0000', 'green':'00ff00', 'blue':'0000ff'}\n",
    "# 默认迭代key\n",
    "for color in colors:\n",
    "    print(color, end='\\t')\n",
    "print()\n",
    "# 迭代value\n",
    "for code in colors.values():\n",
    "    print(code, end='\\t')\n",
    "print()\n",
    "# 同时迭代key和value\n",
    "for color, code in colors.items():\n",
    "    print(color, code)\n",
    "    \n",
    "# 对字符串str进行迭代\n",
    "for ch in 'ABC':\n",
    "    print(ch, end='\\t')\n",
    "print()    \n",
    "    \n",
    "# 同时迭代多个值\n",
    "coords = [(1, 2, 3), (4, 5, 6), (7, 8, 9)]\n",
    "for x, y, z in coords:\n",
    "    print(x, y, z, sep='\\t')\n",
    "\n",
    "# 以上写法等价于\n",
    "for coord in coords:\n",
    "    print(coord[0], coord[1], coord[2], sep='\\t')"
   ]
  },
  {
   "cell_type": "code",
   "execution_count": 41,
   "metadata": {},
   "outputs": [
    {
     "name": "stdout",
     "output_type": "stream",
     "text": [
      "[1, 2, 3, 4, 5, 6, 7, 8, 9, 10]\n",
      "[1, 2, 3, 4, 5, 6, 7, 8, 9, 10]\n",
      "[1, 4, 9, 16, 25, 36, 49, 64, 81, 100]\n",
      "[4, 16, 36, 64, 100]\n",
      "[-1, 2, -3, 4, -5, 6, -7, 8, -9, 10]\n",
      "['AX', 'AY', 'AZ', 'BX', 'BY', 'BZ', 'CX', 'CY', 'CZ']\n",
      "['.ipynb_checkpoints', 'data', 'files', 'templates', 'Web开发.ipynb', '函数式编程.ipynb', '基础&杂记.ipynb', '字符串和文本.ipynb', '并发编程.ipynb', '数字.ipynb', '数据库操作.ipynb', '数据结构和算法.ipynb', '数据结构和算法2.ipynb', '数据结构和算法3.ipynb', '数据编码和处理.ipynb', '文件和IO.ipynb', '日期和时间.ipynb', '网络爬虫.ipynb', '网络编程.ipynb', '迭代器和生成器.ipynb', '错误和异常处理.ipynb', '面向对象编程.ipynb', '面向对象编程2.ipynb']\n",
      "['red', 'green', 'blue']\n"
     ]
    }
   ],
   "source": [
    "\"\"\"列表生成式\n",
    "\n",
    "列表生成式即List Comprehensions\n",
    "Python内置的非常简单却强大的可以用来创建list的生成式\n",
    "\"\"\"\n",
    "\n",
    "# 列表生成式\n",
    "print(list(range(1, 11)))\n",
    "print([n for n in range(1, 11)])\n",
    "print([n * n for n in range(1, 11)])\n",
    "\n",
    "# 在列表生成式中使用if...else\n",
    "# for后面的if是过滤条件，不能带else\n",
    "# for前面的if...else是表达式，必须带else\n",
    "print([n * n for n in range(1, 11) if n % 2 == 0])\n",
    "print([n if n % 2 == 0 else -n for n in range(1, 11)])\n",
    "\n",
    "# 通过多层循环生成全排列\n",
    "print([m + n for m in 'ABC' for n in 'XYZ'])\n",
    "\n",
    "# 运用列表生成式，列出当前目录下的所有文件和目录名\n",
    "import os\n",
    "print([d for d in os.listdir('.')])\n",
    "\n",
    "# 把list中的所有字符串变成小写\n",
    "colors = ['RED', 'GREEN', 'BLUE']\n",
    "print([color.lower() for color in colors])"
   ]
  },
  {
   "cell_type": "code",
   "execution_count": 9,
   "metadata": {},
   "outputs": [
    {
     "data": {
      "text/plain": [
       "'00ff00'"
      ]
     },
     "execution_count": 9,
     "metadata": {},
     "output_type": "execute_result"
    }
   ],
   "source": [
    "\"\"\"变量的unpack\n",
    "\n",
    "对于任何可迭代对象，都可以解压并赋值给多个变量\n",
    "唯一的前提是变量的数量必须和可迭代对象包含的元素的数量相等\n",
    "否则会抛出一个ValueError的异常\n",
    "\"\"\"\n",
    "\n",
    "colors = ['ff0000', '00ff00', '0000ff']\n",
    "red, green, blue = colors\n",
    "\n",
    "green"
   ]
  },
  {
   "cell_type": "code",
   "execution_count": 11,
   "metadata": {},
   "outputs": [
    {
     "data": {
      "text/plain": [
       "['15987654321', '025-12345678']"
      ]
     },
     "execution_count": 11,
     "metadata": {},
     "output_type": "execute_result"
    }
   ],
   "source": [
    "\"\"\"解压不确定元素个数的可迭代对象\n",
    "\n",
    "扩展的迭代器解压语法是专门为解压不确定个数或任意个数元素的可迭代对象设计的\n",
    "通常这些可迭代对象的元素具有一定的规则\n",
    "*号表达式：返回一个list\n",
    "\"\"\"\n",
    "\n",
    "record = ('Neo', 33, 'male', '15987654321', '025-12345678')\n",
    "name, age, gender, *phones = record\n",
    "\n",
    "phones"
   ]
  },
  {
   "cell_type": "code",
   "execution_count": 19,
   "metadata": {},
   "outputs": [
    {
     "data": {
      "text/plain": [
       "'green'"
      ]
     },
     "execution_count": 19,
     "metadata": {},
     "output_type": "execute_result"
    }
   ],
   "source": [
    "\"\"\"队列的基本使用\n",
    "\n",
    "相比列表，队列的运行速度更快\n",
    "使用collections.deque()方法构建，参数为一个list\n",
    "\"\"\"\n",
    "\n",
    "from collections import deque\n",
    "\n",
    "# 设置队列的最大长度，旧的元素被自动删除\n",
    "colors = deque(['red', 'green', 'blue'], maxlen=3)\n",
    "colors.append('black')\n",
    "\n",
    "# 在队列的头新增元素\n",
    "colors.appendleft('white')\n",
    "\n",
    "# 弹出最后一个元素\n",
    "colors.pop()\n",
    "\n",
    "# 弹出第一个元素\n",
    "colors.popleft()\n",
    "\n",
    "# 获取第一个元素\n",
    "colors[0]"
   ]
  },
  {
   "cell_type": "code",
   "execution_count": 24,
   "metadata": {},
   "outputs": [
    {
     "data": {
      "text/plain": [
       "-19"
      ]
     },
     "execution_count": 24,
     "metadata": {},
     "output_type": "execute_result"
    }
   ],
   "source": [
    "\"\"\"堆队列算法 heapq\n",
    "\n",
    "当要查找的元素个数较少的时候，使用nlargest()和nsmallest()比较合适\n",
    "如果要查找的元素个数和集合大小接近，则可以先排序，再切片\n",
    "如果仅是要获取最值，则可以使用max()和min()\n",
    "\"\"\"\n",
    "\n",
    "import heapq\n",
    "\n",
    "nums = [7, 22, 18, -6, 32, -19, 8, 16, 28, 1, 33]\n",
    "\n",
    "# 查找最大的3个元素\n",
    "heapq.nlargest(3, nums)\n",
    "\n",
    "# 查找最小的3个元素\n",
    "heapq.nsmallest(3, nums)\n",
    "\n",
    "# 对list整体排序\n",
    "sorted(nums)\n",
    "\n",
    "# 最大值\n",
    "max(nums)\n",
    "\n",
    "# 最小值\n",
    "min(nums)"
   ]
  },
  {
   "cell_type": "code",
   "execution_count": 28,
   "metadata": {},
   "outputs": [
    {
     "data": {
      "text/plain": [
       "[{'name': 'Mi', 'price': 3299},\n",
       " {'name': 'vivo', 'price': 4899},\n",
       " {'name': 'OPPO', 'price': 5299}]"
      ]
     },
     "execution_count": 28,
     "metadata": {},
     "output_type": "execute_result"
    }
   ],
   "source": [
    "\"\"\"自定义排序\n",
    "\n",
    "通过比较指定属性的大小进行排序\n",
    "\"\"\"\n",
    "\n",
    "import heapq\n",
    "\n",
    "phones = [\n",
    "    {'name': 'Apple', 'price': 9999},\n",
    "    {'name': 'HuaWei', 'price': 6899},\n",
    "    {'name': 'Mi', 'price': 3299},\n",
    "    {'name': 'vivo', 'price': 4899},\n",
    "    {'name': 'OPPO', 'price': 5299},\n",
    "    {'name': 'Samsung', 'price': 7899}\n",
    "]\n",
    "\n",
    "# 按价格排序(默认升序)\n",
    "sorted(phones, key=lambda phone: phone['price'])\n",
    "\n",
    "# 价格最高的3个手机\n",
    "heapq.nlargest(3, phones, key=lambda phone: phone['price'])\n",
    "\n",
    "# 价格最低的3个手机\n",
    "heapq.nsmallest(3, phones, key=lambda phone: phone['price'])"
   ]
  },
  {
   "cell_type": "code",
   "execution_count": 44,
   "metadata": {},
   "outputs": [
    {
     "data": {
      "text/plain": [
       "['blue', 'green', 'purple', 'black', 'white']"
      ]
     },
     "execution_count": 44,
     "metadata": {},
     "output_type": "execute_result"
    }
   ],
   "source": [
    "\"\"\"heapq的基本使用\n",
    "\n",
    "heapq.heapify()\n",
    "heapq.heappush()\n",
    "heapq.heappop()\n",
    "\"\"\"\n",
    "\n",
    "import heapq\n",
    "\n",
    "colors = ['red', 'green', 'blue', 'black', 'white']\n",
    "\n",
    "# 将list转换成堆\n",
    "# heapq.heapify(colors)\n",
    "\n",
    "# 将元素加入堆中\n",
    "heapq.heappush(colors, 'purple')\n",
    "\n",
    "# 弹出堆的最小元素\n",
    "heapq.heappop(colors)\n",
    "\n",
    "colors"
   ]
  },
  {
   "cell_type": "code",
   "execution_count": 46,
   "metadata": {},
   "outputs": [
    {
     "data": {
      "text/plain": [
       "Color('green')"
      ]
     },
     "execution_count": 46,
     "metadata": {},
     "output_type": "execute_result"
    }
   ],
   "source": [
    "\"\"\"实现一个优先级队列\"\"\"\n",
    "\n",
    "import heapq\n",
    "\n",
    "\n",
    "# 定义元素类\n",
    "class Color:\n",
    "    def __init__(self, name):\n",
    "        self.name = name\n",
    "        \n",
    "    def __repr__(self):\n",
    "        return 'Color({!r})'.format(self.name)\n",
    "    \n",
    "    \n",
    "# 定义优先级队列类\n",
    "class PriorityQueue:\n",
    "    def __init__(self):\n",
    "        self._queue = []\n",
    "        self._index = 0\n",
    "    \n",
    "    # 插入元素\n",
    "    def push(self, item, priority):\n",
    "        heapq.heappush(self._queue, (-priority, self._index, item))\n",
    "        self._index += 1\n",
    "    \n",
    "    # 返回元素\n",
    "    # 优先返回优先级最高的元素\n",
    "    # 优先级相同的情况下，按照被插入到队列的顺序返回\n",
    "    def pop(self):\n",
    "        return heapq.heappop(self._queue)[-1]\n",
    "    \n",
    "\n",
    "# 测试\n",
    "pq = PriorityQueue()\n",
    "pq.push(Color('red'), 1)\n",
    "pq.push(Color('green'), 3)\n",
    "pq.push(Color('blue'), 3)\n",
    "pq.push(Color('black'), 2)\n",
    "\n",
    "pq.pop()"
   ]
  },
  {
   "cell_type": "code",
   "execution_count": null,
   "metadata": {},
   "outputs": [],
   "source": []
  }
 ],
 "metadata": {
  "kernelspec": {
   "display_name": "Python 3",
   "language": "python",
   "name": "python3"
  },
  "language_info": {
   "codemirror_mode": {
    "name": "ipython",
    "version": 3
   },
   "file_extension": ".py",
   "mimetype": "text/x-python",
   "name": "python",
   "nbconvert_exporter": "python",
   "pygments_lexer": "ipython3",
   "version": "3.7.1"
  }
 },
 "nbformat": 4,
 "nbformat_minor": 2
}
