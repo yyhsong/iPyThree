{
 "cells": [
  {
   "cell_type": "code",
   "execution_count": null,
   "metadata": {
    "scrolled": true
   },
   "outputs": [],
   "source": [
    "\"\"\"Python基础语法和数据结构\n",
    "\n",
    "使用缩进来组织代码块\n",
    "大小写敏感\n",
    "基本数据类型：空值None、布尔值、整数、浮点数、字符串\n",
    "程序运行过程中，变量存储在内存中\n",
    "变量本身类型不固定 - 动态语言\n",
    "常量通常用全大写表示\n",
    "1个中文字符经过UTF-8编码后通常会占用3个字节，而1个英文字符只占用1个字节\n",
    "encode()编码，decode()解码\n",
    "列表list，有序集合，[]\n",
    "元组tuple，类似list，()，一旦定义内容不可变\n",
    "字典dict，无序键值对，{}\n",
    "集合set，无序无重复元素的集合，只存储key，以set()方法构建，参数为一个list\n",
    "\"\"\""
   ]
  },
  {
   "cell_type": "code",
   "execution_count": 5,
   "metadata": {},
   "outputs": [
    {
     "name": "stdout",
     "output_type": "stream",
     "text": [
      "列表list:  ['red', 'green', 'blue', 'black', 'white']\n",
      "元祖tuple:  ('red', 'green', 'blue', 'black', 'white')\n",
      "字典dict:  {'red': 'ff0000', 'green': '00ff00', 'blue': '0000ff', 'black': '000000', 'white': 'ffffff'}\n",
      "集合set:  {'blue', 'green', 'red', 'black', 'white'}\n"
     ]
    }
   ],
   "source": [
    "# 列表list\n",
    "colors_list = ['red', 'green', 'blue', 'black', 'white']\n",
    "print('列表list: ', colors_list)\n",
    "\n",
    "# 元祖tuple\n",
    "colors_tuple = ('red', 'green', 'blue', 'black', 'white')\n",
    "print('元祖tuple: ', colors_tuple)\n",
    "\n",
    "# 字典dict\n",
    "colors_dict = {'red':'ff0000', 'green':'00ff00', 'blue':'0000ff', 'black':'000000', 'white':'ffffff'}\n",
    "print('字典dict: ', colors_dict)\n",
    "\n",
    "# 集合set\n",
    "colors_set = set(colors_list)\n",
    "print('集合set: ', colors_set)"
   ]
  },
  {
   "cell_type": "code",
   "execution_count": 9,
   "metadata": {},
   "outputs": [
    {
     "data": {
      "text/plain": [
       "'00ff00'"
      ]
     },
     "execution_count": 9,
     "metadata": {},
     "output_type": "execute_result"
    }
   ],
   "source": [
    "\"\"\"变量的unpack\n",
    "\n",
    "对于任何可迭代对象，都可以解压并赋值给多个变量\n",
    "唯一的前提是变量的数量必须和可迭代对象包含的元素的数量相等\n",
    "否则会抛出一个ValueError的异常\n",
    "\"\"\"\n",
    "\n",
    "colors = ['ff0000', '00ff00', '0000ff']\n",
    "red, green, blue = colors\n",
    "\n",
    "green"
   ]
  },
  {
   "cell_type": "code",
   "execution_count": 11,
   "metadata": {},
   "outputs": [
    {
     "data": {
      "text/plain": [
       "['15987654321', '025-12345678']"
      ]
     },
     "execution_count": 11,
     "metadata": {},
     "output_type": "execute_result"
    }
   ],
   "source": [
    "\"\"\"解压不确定元素个数的可迭代对象\n",
    "\n",
    "扩展的迭代器解压语法是专门为解压不确定个数或任意个数元素的可迭代对象设计的\n",
    "通常这些可迭代对象的元素具有一定的规则\n",
    "*号表达式：返回一个list\n",
    "\"\"\"\n",
    "\n",
    "record = ('Neo', 33, 'male', '15987654321', '025-12345678')\n",
    "name, age, gender, *phones = record\n",
    "\n",
    "phones"
   ]
  },
  {
   "cell_type": "code",
   "execution_count": 19,
   "metadata": {},
   "outputs": [
    {
     "data": {
      "text/plain": [
       "'green'"
      ]
     },
     "execution_count": 19,
     "metadata": {},
     "output_type": "execute_result"
    }
   ],
   "source": [
    "\"\"\"队列的基本使用\n",
    "\n",
    "相比列表，队列的运行速度更快\n",
    "使用collections.deque()方法构建，参数为一个list\n",
    "\"\"\"\n",
    "\n",
    "from collections import deque\n",
    "\n",
    "# 设置队列的最大长度，旧的元素被自动删除\n",
    "colors = deque(['red', 'green', 'blue'], maxlen=3)\n",
    "colors.append('black')\n",
    "\n",
    "# 在队列的头新增元素\n",
    "colors.appendleft('white')\n",
    "\n",
    "# 弹出最后一个元素\n",
    "colors.pop()\n",
    "\n",
    "# 弹出第一个元素\n",
    "colors.popleft()\n",
    "\n",
    "# 获取第一个元素\n",
    "colors[0]"
   ]
  },
  {
   "cell_type": "code",
   "execution_count": 24,
   "metadata": {},
   "outputs": [
    {
     "data": {
      "text/plain": [
       "-19"
      ]
     },
     "execution_count": 24,
     "metadata": {},
     "output_type": "execute_result"
    }
   ],
   "source": [
    "\"\"\"堆队列算法 heapq\n",
    "\n",
    "当要查找的元素个数较少的时候，使用nlargest()和nsmallest()比较合适\n",
    "如果要查找的元素个数和集合大小接近，则可以先排序，再切片\n",
    "如果仅是要获取最值，则可以使用max()和min()\n",
    "\"\"\"\n",
    "\n",
    "import heapq\n",
    "\n",
    "nums = [7, 22, 18, -6, 32, -19, 8, 16, 28, 1, 33]\n",
    "\n",
    "# 查找最大的3个元素\n",
    "heapq.nlargest(3, nums)\n",
    "\n",
    "# 查找最小的3个元素\n",
    "heapq.nsmallest(3, nums)\n",
    "\n",
    "# 对list整体排序\n",
    "sorted(nums)\n",
    "\n",
    "# 最大值\n",
    "max(nums)\n",
    "\n",
    "# 最小值\n",
    "min(nums)"
   ]
  },
  {
   "cell_type": "code",
   "execution_count": 28,
   "metadata": {},
   "outputs": [
    {
     "data": {
      "text/plain": [
       "[{'name': 'Mi', 'price': 3299},\n",
       " {'name': 'vivo', 'price': 4899},\n",
       " {'name': 'OPPO', 'price': 5299}]"
      ]
     },
     "execution_count": 28,
     "metadata": {},
     "output_type": "execute_result"
    }
   ],
   "source": [
    "\"\"\"自定义排序\n",
    "\n",
    "通过比较指定属性的大小进行排序\n",
    "\"\"\"\n",
    "\n",
    "import heapq\n",
    "\n",
    "phones = [\n",
    "    {'name': 'Apple', 'price': 9999},\n",
    "    {'name': 'HuaWei', 'price': 6899},\n",
    "    {'name': 'Mi', 'price': 3299},\n",
    "    {'name': 'vivo', 'price': 4899},\n",
    "    {'name': 'OPPO', 'price': 5299},\n",
    "    {'name': 'Samsung', 'price': 7899}\n",
    "]\n",
    "\n",
    "# 按价格排序(默认升序)\n",
    "sorted(phones, key=lambda phone: phone['price'])\n",
    "\n",
    "# 价格最高的3个手机\n",
    "heapq.nlargest(3, phones, key=lambda phone: phone['price'])\n",
    "\n",
    "# 价格最低的3个手机\n",
    "heapq.nsmallest(3, phones, key=lambda phone: phone['price'])"
   ]
  },
  {
   "cell_type": "code",
   "execution_count": 44,
   "metadata": {},
   "outputs": [
    {
     "data": {
      "text/plain": [
       "['blue', 'green', 'purple', 'black', 'white']"
      ]
     },
     "execution_count": 44,
     "metadata": {},
     "output_type": "execute_result"
    }
   ],
   "source": [
    "\"\"\"heapq的基本使用\n",
    "\n",
    "heapq.heapify()\n",
    "heapq.heappush()\n",
    "heapq.heappop()\n",
    "\"\"\"\n",
    "\n",
    "import heapq\n",
    "\n",
    "colors = ['red', 'green', 'blue', 'black', 'white']\n",
    "\n",
    "# 将list转换成堆\n",
    "# heapq.heapify(colors)\n",
    "\n",
    "# 将元素加入堆中\n",
    "heapq.heappush(colors, 'purple')\n",
    "\n",
    "# 弹出堆的最小元素\n",
    "heapq.heappop(colors)\n",
    "\n",
    "colors"
   ]
  },
  {
   "cell_type": "code",
   "execution_count": 46,
   "metadata": {},
   "outputs": [
    {
     "data": {
      "text/plain": [
       "Color('green')"
      ]
     },
     "execution_count": 46,
     "metadata": {},
     "output_type": "execute_result"
    }
   ],
   "source": [
    "\"\"\"实现一个优先级队列\"\"\"\n",
    "\n",
    "import heapq\n",
    "\n",
    "\n",
    "# 定义元素类\n",
    "class Color:\n",
    "    def __init__(self, name):\n",
    "        self.name = name\n",
    "        \n",
    "    def __repr__(self):\n",
    "        return 'Color({!r})'.format(self.name)\n",
    "    \n",
    "    \n",
    "# 定义优先级队列类\n",
    "class PriorityQueue:\n",
    "    def __init__(self):\n",
    "        self._queue = []\n",
    "        self._index = 0\n",
    "    \n",
    "    # 插入元素\n",
    "    def push(self, item, priority):\n",
    "        heapq.heappush(self._queue, (-priority, self._index, item))\n",
    "        self._index += 1\n",
    "    \n",
    "    # 返回元素\n",
    "    # 优先返回优先级最高的元素\n",
    "    # 优先级相同的情况下，按照被插入到队列的顺序返回\n",
    "    def pop(self):\n",
    "        return heapq.heappop(self._queue)[-1]\n",
    "    \n",
    "\n",
    "# 测试\n",
    "pq = PriorityQueue()\n",
    "pq.push(Color('red'), 1)\n",
    "pq.push(Color('green'), 3)\n",
    "pq.push(Color('blue'), 3)\n",
    "pq.push(Color('black'), 2)\n",
    "\n",
    "pq.pop()"
   ]
  },
  {
   "cell_type": "code",
   "execution_count": null,
   "metadata": {},
   "outputs": [],
   "source": []
  }
 ],
 "metadata": {
  "kernelspec": {
   "display_name": "Python 3",
   "language": "python",
   "name": "python3"
  },
  "language_info": {
   "codemirror_mode": {
    "name": "ipython",
    "version": 3
   },
   "file_extension": ".py",
   "mimetype": "text/x-python",
   "name": "python",
   "nbconvert_exporter": "python",
   "pygments_lexer": "ipython3",
   "version": "3.7.1"
  }
 },
 "nbformat": 4,
 "nbformat_minor": 2
}
