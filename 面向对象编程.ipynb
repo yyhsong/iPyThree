{
 "cells": [
  {
   "cell_type": "code",
   "execution_count": null,
   "metadata": {},
   "outputs": [],
   "source": [
    "\"\"\"面向对象编程 OOP: Object Oriented Programming\n",
    "\n",
    "面向对象是一种程序设计思想，把对象作为程序的基本单元\n",
    "面向对象的抽象程度比函数要高，因为一个类既包含数据，又包含操作数据的方法\n",
    "封装、继承、多态是面向对象的三大特点\n",
    "\n",
    "类是创建实例的模板，而实例则是一个个具体的对象，各个实例拥有的数据互相独立、互不影响\n",
    "方法是与实例绑定的函数，和普通函数不同，方法可以直接访问实例的数据\n",
    "通过在实例上调用方法，可以直接操作对象内部的数据，但无需知道方法内部的实现细节\n",
    "\n",
    "在类中定义的函数，第一个参数永远是实例变量self，调用时不用传递该参数\n",
    "在类属性前加两个下划线，则变成了一个私有变量，外部不可直接访问\n",
    "特殊变量__xxx__是可以直接访问的，如__name__ __class__ __doc__\n",
    "多态，子类的实例同时可看作是其父类的实例\n",
    "子类中的方法会覆盖父类中的同名方法，可在子类方法中显式调用其父类方法\n",
    "常用的对象分析方法：dir() hasattr() getattr() setattr()\n",
    "实例属性将屏蔽掉同名的类属性\n",
    "类变量和实例变量，类变量在该类的所有实例之间共享\n",
    "每个对象都可以通过self.__class__来访问引用它的类\n",
    "定义一个类，创建一个实例后，可以给该实例绑定任意属性和方法（仅属于当前实例）\n",
    "使用__slots__限制类实例可以添加的属性和方法，对继承的子类不起作用\n",
    "装饰器@classmethod等价于：some_func = classmethod(some_func)\n",
    "内置的@property装饰器负责把一个方法变成属性调用，简化对属性的getter/setter操作\n",
    "Python支持多重继承，一个子类可以同时获得多个父类的所有功能\n",
    "在设计类的继承关系时，通常主线都是单一继承下来的，然后\"混入\"额外的功能，称之为MixIn\n",
    "常用的定制类方法：__str__ __repr__ __iter__ __next__ __getitem__ __getattr__ __call__\n",
    "Enum可以把一组相关常量定义在一个枚举类中，且该类不可变，成员可以直接比较\n",
    "动态语言，函数和类的定义，不是编译时定义的，而是运行时动态创建的\n",
    "type()既可以返回一个对象的类型，又可以创建出新的类型\n",
    "元类metaclass，先定义metaclass，就可以创建类，然后创建实例，即可以把类看作是metaclass创建的\"实例\"\n",
    "元类的常用使用场景：ORM框架\n",
    "\"\"\""
   ]
  },
  {
   "cell_type": "code",
   "execution_count": 1,
   "metadata": {},
   "outputs": [
    {
     "name": "stdout",
     "output_type": "stream",
     "text": [
      "Init T-800\n",
      "Hi, my name is T-800\n",
      "Init T-1000\n",
      "Hi, my name is T-1000\n",
      "We have 2 robots\n",
      "T-800 is being destroyed\n",
      "There are 1 robots living\n",
      "We have 1 robots\n",
      "T-1000 is being destroyed\n",
      "T-1000 was the last one\n",
      "We have 0 robots\n"
     ]
    }
   ],
   "source": [
    "# 定义类\n",
    "class Robot:\n",
    "    \n",
    "    # 类属性\n",
    "    # 变量名前加双下划线，为私有变量\n",
    "    __count = 0\n",
    "    \n",
    "    # 初始化方法\n",
    "    def __init__(self, name):\n",
    "        self.name = name\n",
    "        print('Init {}'.format(self.name))\n",
    "        Robot.__count += 1\n",
    "        \n",
    "    # 普通实例方法\n",
    "    # 第一个参数为self，指类的当前实例\n",
    "    # 调用时，不需要传递self参数\n",
    "    def sayHi(self):\n",
    "        print('Hi, my name is {}'.format(self.name))\n",
    "    \n",
    "    def destroy(self):\n",
    "        print('{} is being destroyed'.format(self.name))\n",
    "        Robot.__count -= 1\n",
    "        \n",
    "        if(Robot.__count == 0):\n",
    "            print('{} was the last one'.format(self.name))\n",
    "        else:\n",
    "            print('There are {:d} robots living'.format(Robot.__count))\n",
    "        \n",
    "    # 类方法\n",
    "    # 使用装饰器 @classmethod\n",
    "    # 装饰器的本质是返回当前函数的高阶函数\n",
    "    # 第一个参数为class\n",
    "    @classmethod\n",
    "    def howMany(cls):\n",
    "        print('We have {:d} robots'.format(cls.__count))\n",
    "        \n",
    "        \n",
    "# 测试\n",
    "robot1 = Robot('T-800')\n",
    "robot1.sayHi()\n",
    "\n",
    "robot2 = Robot('T-1000')\n",
    "robot2.sayHi()\n",
    "\n",
    "Robot.howMany()\n",
    "\n",
    "robot1.destroy()\n",
    "Robot.howMany()\n",
    "\n",
    "robot2.destroy()\n",
    "Robot.howMany()\n",
    "\n",
    "# 访问类属性：类名.属性名\n",
    "# 外部无法直接访问私有类属性\n",
    "# print(Robot.__count)"
   ]
  },
  {
   "cell_type": "code",
   "execution_count": 2,
   "metadata": {},
   "outputs": [
    {
     "name": "stdout",
     "output_type": "stream",
     "text": [
      "Name: __main__\n",
      "Class: <class '__main__.Robot'>\n",
      "Doc: Automatically created module for IPython interactive environment\n",
      "Robot\n",
      "<class 'type'>\n",
      "None\n"
     ]
    }
   ],
   "source": [
    "# 定义类\n",
    "class Robot:\n",
    "    \n",
    "    # 特殊变量 __name__ __class__ __doc__ 可以直接访问\n",
    "    def __init__(self):\n",
    "        # 可以根据 __name__ == '__main__' 来判断模块是自身执行，还是被其他模块调用执行\n",
    "        print('Name: {}'.format(__name__))\n",
    "        print('Class: {}'.format(__class__))\n",
    "        print('Doc: {}'.format(__doc__))\n",
    "        \n",
    "\n",
    "# 测试\n",
    "robot = Robot()\n",
    "\n",
    "print(Robot.__name__)\n",
    "print(Robot.__class__)\n",
    "print(Robot.__doc__)"
   ]
  },
  {
   "cell_type": "code",
   "execution_count": 4,
   "metadata": {},
   "outputs": [
    {
     "name": "stdout",
     "output_type": "stream",
     "text": [
      "<class '__main__.Robot'>\n",
      "True\n"
     ]
    }
   ],
   "source": [
    "# 定义类\n",
    "# 定义一个类，实际上是定义一种数据类型\n",
    "class Robot:\n",
    "    pass\n",
    "\n",
    "\n",
    "robot = Robot()\n",
    "\n",
    "# type()返回一个对象的类型\n",
    "print(type(robot))\n",
    "\n",
    "# isinstance()判断是否为某一类的实例\n",
    "print(isinstance(robot, Robot))"
   ]
  },
  {
   "cell_type": "code",
   "execution_count": 5,
   "metadata": {},
   "outputs": [
    {
     "name": "stdout",
     "output_type": "stream",
     "text": [
      "I am animal\n",
      "I am dragon\n",
      "I am running\n",
      "I can spray fire\n"
     ]
    }
   ],
   "source": [
    "# 类的继承\n",
    "# 父类，或基类Base Class、超类 Super Class\n",
    "class Animal:\n",
    "    \n",
    "    def __init__(self):\n",
    "        print('I am animal')\n",
    "    \n",
    "    def run(self):\n",
    "        print('I can run')\n",
    "\n",
    "# 子类Sub Class\n",
    "# 子类的实例同时可以看作是其父类的实例\n",
    "# 子类中的方法会覆盖父类中的同名方法\n",
    "# 可以使用super()在子类方法中显式调用父类中的方法\n",
    "# 支持多重继承，子类可以同时获得多个父类的所有功能\n",
    "class Dragon(Animal):\n",
    "    \n",
    "    def __init__(self):\n",
    "        # 调用父类的初始化方法\n",
    "        super().__init__()\n",
    "        print('I am dragon')\n",
    "    \n",
    "    def run(self):\n",
    "        print('I am running')\n",
    "        \n",
    "    def spray(self):\n",
    "        print('I can spray fire')\n",
    "\n",
    "\n",
    "# 测试\n",
    "dragon = Dragon()\n",
    "dragon.run()\n",
    "dragon.spray()"
   ]
  },
  {
   "cell_type": "code",
   "execution_count": 6,
   "metadata": {},
   "outputs": [
    {
     "name": "stdout",
     "output_type": "stream",
     "text": [
      "1\n",
      "2\n"
     ]
    }
   ],
   "source": [
    "# super()函数的一个常见用法是在__init__()方法中确保父类被正确地初始化\n",
    "class A:\n",
    "    \n",
    "    def __init__(self):\n",
    "        self.x = 1\n",
    "        \n",
    "        \n",
    "class B(A):\n",
    "    \n",
    "    def __init__(self):\n",
    "        super().__init__()\n",
    "        self.y = 2\n",
    "        \n",
    "        \n",
    "# 测试\n",
    "b = B()\n",
    "print(b.x)\n",
    "print(b.y)"
   ]
  }
 ],
 "metadata": {
  "kernelspec": {
   "display_name": "Python 3",
   "language": "python",
   "name": "python3"
  },
  "language_info": {
   "codemirror_mode": {
    "name": "ipython",
    "version": 3
   },
   "file_extension": ".py",
   "mimetype": "text/x-python",
   "name": "python",
   "nbconvert_exporter": "python",
   "pygments_lexer": "ipython3",
   "version": "3.7.1"
  }
 },
 "nbformat": 4,
 "nbformat_minor": 2
}
