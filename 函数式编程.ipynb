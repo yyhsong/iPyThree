{
 "cells": [
  {
   "cell_type": "code",
   "execution_count": null,
   "metadata": {},
   "outputs": [],
   "source": [
    "\"\"\"函数式编程Functional Programming\n",
    "\n",
    "函数式编程就是一种抽象程度很高的编程范式\n",
    "通过把大段代码拆成函数，通过一层一层的函数调用，就可以把复杂任务分解成简单的任务，这种分解可以称之为面向过程的程序设计\n",
    "函数是面向过程的程序设计的基本单元\n",
    "\n",
    "函数本身可以赋值给变量，即变量可以指向函数，指向函数的变量其实就是函数名，函数名本身也是变量\n",
    "把函数作为参数传入，这样的函数称为高阶函数，这种高度抽象的编程范式称为函数式编程\n",
    "典型高阶函数：map() reduce() filter() sorted()\n",
    "    map()把参数函数作用在参数list的每一个元素上，并返回一个新的Iterator\n",
    "    reduce()把参数函数作用于参数list，并把返回结果参与到下一个元素的运算\n",
    "    filter()过滤序列\n",
    "    sorted()将key指定的函数作用于list的每一个元素上，并根据函数返回的结果进行排序\n",
    "高阶函数除了可以将函数作为参数外，还可以将函数作为返回值\n",
    "\n",
    "lambda匿名函数，只能有一个表达式，返回值就是该表达式的结果\n",
    "匿名函数可以赋值给变量，也可以作为函数返回值\n",
    "\n",
    "闭包 - 在外部函数中定义内部函数，内部函数可以引用外部函数的参数和局部变量\n",
    "当外部函数将内部函数作为结果值返回时，相关参数和变量都保存在内部函数中\n",
    "返回函数不要引用任何循环变量，或者后续会发生变化的变量\n",
    "函数也是一个对象，而且可以被赋值给变量，通过变量也能调用该函数\n",
    "可以使用闭包将含有单个方法的类转换为函数\n",
    "闭包会记住自己被定义时的上下文环境，并在后续操作中使用其中的变量\n",
    "\n",
    "可分别使用* 或 **作为元祖或字典的前缀，来使它们作为一个参数为函数接收\n",
    "函数返回多个值其实是返回一个tuple（省略了括号）\n",
    "函数参数类型及顺序：位置（必选）参数、默认参数、*可变参数、命名关键字参数、**关键字参数\n",
    "默认参数必须指向不变对象，避免程序逻辑错误\n",
    "可变参数在函数调用时自动组装为一个tuple\n",
    "关键字参数在函数内部自动组装成为一个dict\n",
    "*args是可变参数，接收一个tuple\n",
    "**kwargs是关键字参数，接收一个dict\n",
    "可变参数既可以直接传入：func(1, 2, 3)，又可以先组装list或tuple，再通过*args传入：func(*(1, 2, 3))\n",
    "关键字参数既可以直接传入：func(a=1, b=2)，又可以先组装dict，再通过**kw传入：func(**{'a': 1, 'b': 2})\n",
    "命名关键字参数是为了限制调用者可以传入的参数名，同时可以提供默认值\n",
    "在没有可变参数的情况下，定义命名关键字参数，前面要加分隔符*\n",
    "对于任意函数，都可以通过类似func(*args, **kwargs)的形式来调用它，无论它的参数是如何定义的\n",
    "\n",
    "在函数运行期间动态增加功能的方式，称之为装饰器Decorator\n",
    "装饰器的本质是返回函数的高阶函数\n",
    "使用@functools.wraps()把原始函数的__name__属性复制到装饰器中的函数\n",
    "偏函数functools.partial()的作用就是把一个函数的某些参数固定住，即设置默认值，然后返回一个新的函数\n",
    "\n",
    "如果函数中包含yield关键字，那么这个函数就不再是一个普通函数，而是一个generator\n",
    "可以直接作用于for循环的对象统称为可迭代对象Iterable，包括str list tuple dict set generator\n",
    "可以被next()函数调用并不断返回下一个值的对象称为迭代器Iterator\n",
    "可以使用iter()函数把Iterable变成Iterator\n",
    "Iterator对象表示一个数据流，一个惰性计算的序列，只有在需要时才返回下一个值\n",
    "使用list(Iterator)获取惰性序列的所有值\n",
    "\"\"\""
   ]
  },
  {
   "cell_type": "code",
   "execution_count": 8,
   "metadata": {},
   "outputs": [
    {
     "name": "stdout",
     "output_type": "stream",
     "text": [
      "1.5\n",
      "3.0\n"
     ]
    }
   ],
   "source": [
    "\"\"\"定义可接受任意数量参数的函数\n",
    "\n",
    "*args形式表示一个可变参数的元祖\n",
    "*args参数只能定义在最后一个位置参数的后面\n",
    "\n",
    "**kwargs形式表示任意数量的关键字参数的字典\n",
    "**kwargs参数只能是最后一个参数\n",
    "\n",
    "任何函数都可以通过类似func(*args, **kwargs)的形式来调用它，无论它的参数是如何定义的\n",
    "表示函数能够同时接受任意数量的位置参数和关键字参数\n",
    "\"\"\"\n",
    "\n",
    "\n",
    "# 定义求若干个数字平均值的函数\n",
    "def avg(first, *rest):\n",
    "    return (first + sum(rest)) / (1 + len(rest))\n",
    "\n",
    "\n",
    "# 测试\n",
    "print(avg(1, 2))\n",
    "print(avg(1, 2, 3, 4, 5))"
   ]
  },
  {
   "cell_type": "code",
   "execution_count": 12,
   "metadata": {},
   "outputs": [
    {
     "name": "stdout",
     "output_type": "stream",
     "text": [
      "2\n",
      "3\n"
     ]
    }
   ],
   "source": [
    "\"\"\"默认参数\n",
    "\n",
    "无传递时，取默认值\n",
    "有传递时，覆盖默认值\n",
    "\"\"\"\n",
    "\n",
    "\n",
    "def addn(num, n=1):\n",
    "    return num + n\n",
    "\n",
    "\n",
    "# 测试\n",
    "print(addn(1))\n",
    "print(addn(1, 2))"
   ]
  },
  {
   "cell_type": "code",
   "execution_count": 9,
   "metadata": {},
   "outputs": [
    {
     "name": "stdout",
     "output_type": "stream",
     "text": [
      "-7\n",
      "0\n"
     ]
    }
   ],
   "source": [
    "\"\"\"命名关键字参数\n",
    "\n",
    "定义在*args或单个*后面\n",
    "使用命名关键字参数比使用位置参数表意更明确，更有可读性\n",
    "\"\"\"\n",
    "\n",
    "\n",
    "# 定义一个寻找最小值的函数\n",
    "def mininum(*nums, clip=None):\n",
    "    m = min(nums)\n",
    "    if clip is not None:\n",
    "        m = clip if clip > m else m\n",
    "    return m\n",
    "\n",
    "\n",
    "# 测试\n",
    "print(mininum(1, -3, 5, -7, 9))\n",
    "print(mininum(1, -3, 5, -7, 9, clip=0))"
   ]
  },
  {
   "cell_type": "code",
   "execution_count": 10,
   "metadata": {},
   "outputs": [
    {
     "name": "stdout",
     "output_type": "stream",
     "text": [
      "3\n",
      "Help on function add in module __main__:\n",
      "\n",
      "add(x: int, y: int) -> int\n",
      "    # 定义带参数注解的函数\n",
      "\n"
     ]
    }
   ],
   "source": [
    "\"\"\"使用参数注解给函数增加元信息\n",
    "\n",
    "添加了参数注解的函数运行时和无注解时无差别\n",
    "\"\"\"\n",
    "\n",
    "\n",
    "# 定义带参数注解的函数\n",
    "def add(x:int, y:int) -> int:\n",
    "    return x + y\n",
    "\n",
    "\n",
    "# 测试\n",
    "print(add(1, 2))\n",
    "help(add)"
   ]
  },
  {
   "cell_type": "code",
   "execution_count": 12,
   "metadata": {},
   "outputs": [
    {
     "name": "stdout",
     "output_type": "stream",
     "text": [
      "2\n",
      "[1, 4, 9, 16, 25, 36, 49, 64, 81, 100]\n",
      "13579\n",
      "[1, 3, 5, 7, 9]\n",
      "[-7, -3, 1, 5, 9]\n",
      "[1, -3, 5, -7, 9]\n",
      "[9, -7, 5, -3, 1]\n",
      "['Apple', 'Zoo', 'app', 'bar']\n",
      "['app', 'Apple', 'bar', 'Zoo']\n"
     ]
    }
   ],
   "source": [
    "\"\"\"高阶函数\"\"\"\n",
    "\n",
    "# 自定义高阶函数\n",
    "def add(x, y, f):\n",
    "    return f(x) + f(y)\n",
    "\n",
    "n = add(1, -1, abs)\n",
    "print(n)\n",
    "\n",
    "\n",
    "# map()的基本用法\n",
    "# 两个参数：一个是函数，一个是Iterable\n",
    "# map()将传入的函数依次作用于序列的每个元素，并把结果作为新的Iterator返回\n",
    "def func(x):\n",
    "    return x**2\n",
    "\n",
    "nums = range(1, 11)\n",
    "print(list(map(func, nums)))\n",
    "\n",
    "\n",
    "# reduce()的基本用法\n",
    "# 两个参数：一个是函数(必须接收两个参数)，一个是Iterable\n",
    "# reduce把结果继续和序列的下一个元素做累积计算，并返回最终的结果值\n",
    "# reduce(f, [x1, x2, x3, x4]) = f(f(f(x1, x2), x3), x4)\n",
    "from functools import reduce\n",
    "\n",
    "def fn(x, y):\n",
    "    return x * 10 + y\n",
    "\n",
    "print(reduce(fn, [1, 3, 5, 7, 9]))\n",
    "\n",
    "\n",
    "# filter()的基本用法\n",
    "# filter()的作用是从一个序列中筛出符合条件的元素\n",
    "# 两个参数：一个是函数，一个是Iterable\n",
    "# filter()把传入的函数依次作用于每个元素，然后根据返回值是True还是False决定保留还是丢弃该元素\n",
    "# filter()返回Iterator\n",
    "def is_odd(n):\n",
    "    return n % 2 == 1\n",
    "\n",
    "odd_nums = list(filter(is_odd, range(1, 11)))\n",
    "print(odd_nums)\n",
    "\n",
    "# sorted()的基本用法\n",
    "# 可以通过参数key指定一个排序函数，来实现自定义排序\n",
    "nums = [1, -3, 5, -7, 9]\n",
    "print(sorted(nums))  # 默认排序\n",
    "print(sorted(nums, key=abs))  # 通过绝对值排序\n",
    "print(sorted(nums, key=abs, reverse=True))  # 反向排序\n",
    "\n",
    "strs = ['bar', 'Apple', 'Zoo', 'app']\n",
    "print(sorted(strs))  # 默认字符串按ascii码排序\n",
    "print(sorted(strs, key=str.lower))  # 按字母顺序排序"
   ]
  },
  {
   "cell_type": "code",
   "execution_count": 8,
   "metadata": {},
   "outputs": [
    {
     "name": "stdout",
     "output_type": "stream",
     "text": [
      "2 3 5 7 11 13 17 19 23 29 31 37 41 43 47 53 59 61 67 71 73 79 83 89 97 101 103 107 109 113 127 131 137 139 149 151 157 163 167 173 179 181 191 193 197 199 211 223 227 229 233 239 241 251 257 263 269 271 277 281 283 293 307 311 313 317 331 337 347 349 353 359 367 373 379 383 389 397 401 409 419 421 431 433 439 443 449 457 461 463 467 479 487 491 499 503 509 521 523 541 547 557 563 569 571 577 587 593 599 601 607 613 617 619 631 641 643 647 653 659 661 673 677 683 691 701 709 719 727 733 739 743 751 757 761 769 773 787 797 809 811 821 823 827 829 839 853 857 859 863 877 881 883 887 907 911 919 929 937 941 947 953 967 971 977 983 991 997 "
     ]
    }
   ],
   "source": [
    "\"\"\"用Python实现求素数算法\n",
    "\n",
    "求素数算法（埃氏筛法）：\n",
    "    1、列出从2开始的所有自然数，构造一个序列\n",
    "    2、取序列的第一个数2，它一定是素数，然后用2把序列的2的倍数筛掉\n",
    "    3、取新序列的第一个数3，它一定是素数，然后用3把序列的3的倍数筛掉\n",
    "    4、取新序列的第一个数5，然后用5把序列的5的倍数筛掉\n",
    "    5、不断筛下去，就可以得到所有的素数\n",
    "\"\"\"\n",
    "\n",
    "# 构造一个从3开始的奇数序列\n",
    "# 这是一个生成器，并且是一个无限序列\n",
    "def odd_iter():\n",
    "    n = 1\n",
    "    while True:\n",
    "        n = n + 2\n",
    "        yield n\n",
    "\n",
    "        \n",
    "# 定义筛选函数\n",
    "def not_divisible(n):\n",
    "    return lambda x: x % n > 0\n",
    "\n",
    "\n",
    "# 定义一个生成器，不断返回下一个素数\n",
    "def primes():\n",
    "    yield 2\n",
    "    it = odd_iter()  # 初始序列\n",
    "    while True:\n",
    "        n = next(it) # 返回序列的第一个数\n",
    "        yield n\n",
    "        it = filter(not_divisible(n), it)  # 构造新序列\n",
    "        \n",
    "        \n",
    "# 打印1000以内的素数\n",
    "for n in primes():\n",
    "    if n < 1000:\n",
    "        print(n, end=' ')\n",
    "    else:\n",
    "        break"
   ]
  }
 ],
 "metadata": {
  "kernelspec": {
   "display_name": "Python 3",
   "language": "python",
   "name": "python3"
  },
  "language_info": {
   "codemirror_mode": {
    "name": "ipython",
    "version": 3
   },
   "file_extension": ".py",
   "mimetype": "text/x-python",
   "name": "python",
   "nbconvert_exporter": "python",
   "pygments_lexer": "ipython3",
   "version": "3.7.1"
  }
 },
 "nbformat": 4,
 "nbformat_minor": 2
}
