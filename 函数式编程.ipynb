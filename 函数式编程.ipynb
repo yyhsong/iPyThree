{
 "cells": [
  {
   "cell_type": "code",
   "execution_count": null,
   "metadata": {},
   "outputs": [],
   "source": [
    "\"\"\"函数式编程\n",
    "\n",
    "函数是面向过程的程序设计的基本单元\n",
    "函数本身可以赋值给变量，即变量可以指向函数，指向函数的变量其实就是函数名\n",
    "\n",
    "把函数作为参数传入，这样的函数称为高阶函数，这种高度抽象的编程范式称为函数式编程\n",
    "典型高阶函数：map() reduce() filter() sorted()\n",
    "    map()把参数函数作用在参数list的每一个元素上，并返回一个新的Iterator\n",
    "    reduce()把参数函数作用于参数list，并把返回结果参与到下一个元素的运算\n",
    "    filter()过滤序列\n",
    "    sorted()将key指定的函数作用于list的每一个元素上，并根据函数返回的结果进行排序\n",
    "高阶函数除了可以将函数作为参数外，还可以将函数作为返回值\n",
    "\n",
    "lambda匿名函数，只能有一个表达式，返回值就是该表达式的结果\n",
    "匿名函数可以赋值给变量，也可以作为函数返回值\n",
    "\n",
    "闭包 - 在外部函数中定义内部函数，内部函数可以引用外部函数的参数和局部变量\n",
    "当外部函数将内部函数作为结果值返回时，相关参数和变量都保存在内部函数中\n",
    "返回函数不要引用任何循环变量，或者后续会发生变化的变量\n",
    "函数也是一个对象，而且可以被赋值给变量，通过变量也能调用该函数\n",
    "可以使用闭包将含有单个方法的类转换为函数\n",
    "闭包会记住自己被定义时的上下文环境，并在后续操作中使用其中的变量\n",
    "\n",
    "可分别使用* 或 **作为元祖或字典的前缀，来使它们作为一个参数为函数接收\n",
    "函数返回多个值其实是返回一个tuple（省略了括号）\n",
    "函数参数类型：必选参数、默认参数、*可变参数、**关键字参数、命名关键字参数\n",
    "参数组合顺序：必选参数、默认参数、*可变参数、命名关键字参数和**关键字参数\n",
    "默认参数必须指向不变对象，避免程序逻辑错误\n",
    "可变参数在函数调用时自动组装为一个tuple\n",
    "关键字参数在函数内部自动组装成为一个dict\n",
    "*args是可变参数，接收一个tuple\n",
    "**kwargs是关键字参数，接收一个dict\n",
    "可变参数既可以直接传入：func(1, 2, 3)，又可以先组装list或tuple，再通过*args传入：func(*(1, 2, 3))\n",
    "命名关键字参数是为了限制调用者可以传入的参数名，同时可以提供默认值\n",
    "在没有可变参数的情况下，定义命名关键字参数，前面要加分隔符*\n",
    "\n",
    "对于任意函数，都可以通过类似func(*args, **kwargs)的形式来调用它，无论它的参数是如何定义的\n",
    "关键字参数既可以直接传入：func(a=1, b=2)，又可以先组装dict，再通过**kw传入：func(**{'a': 1, 'b': 2})\n",
    "在函数运行期间动态增加功能的方式，称之为装饰器Decorator\n",
    "装饰器的本质是返回函数的高阶函数\n",
    "使用@functools.wraps()把原始函数的__name__属性复制到装饰器中的函数\n",
    "偏函数functools.partial()的作用就是把一个函数的某些参数固定住，即设置默认值，然后返回一个新的函数\n",
    "\n",
    "如果函数中包含yield关键字，那么这个函数就不再是一个普通函数，而是一个generator\n",
    "可以直接作用于for循环的对象统称为可迭代对象Iterable，包括str list tuple dict set generator\n",
    "可以被next()函数调用并不断返回下一个值的对象称为迭代器Iterator\n",
    "可以使用iter()函数把Iterable变成Iterator\n",
    "Iterator对象表示一个数据流，一个惰性计算的序列，只有在需要时才返回下一个值\n",
    "使用list(Iterator)获取惰性序列的所有值\n",
    "\"\"\""
   ]
  },
  {
   "cell_type": "code",
   "execution_count": 8,
   "metadata": {},
   "outputs": [
    {
     "name": "stdout",
     "output_type": "stream",
     "text": [
      "1.5\n",
      "3.0\n"
     ]
    }
   ],
   "source": [
    "\"\"\"定义可接受任意数量参数的函数\n",
    "\n",
    "*args形式表示一个可变参数的元祖\n",
    "*args参数只能定义在最后一个位置参数的后面\n",
    "\n",
    "**kwargs形式表示任意数量的关键字参数的字典\n",
    "**kwargs参数只能是最后一个参数\n",
    "\n",
    "任何函数都可以通过类似func(*args, **kwargs)的形式来调用它，无论它的参数是如何定义的\n",
    "表示函数能够同时接受任意数量的位置参数和关键字参数\n",
    "\"\"\"\n",
    "\n",
    "\n",
    "# 定义求若干个数字平均值的函数\n",
    "def avg(first, *rest):\n",
    "    return (first + sum(rest)) / (1 + len(rest))\n",
    "\n",
    "\n",
    "# 测试\n",
    "print(avg(1, 2))\n",
    "print(avg(1, 2, 3, 4, 5))"
   ]
  },
  {
   "cell_type": "code",
   "execution_count": 9,
   "metadata": {},
   "outputs": [
    {
     "name": "stdout",
     "output_type": "stream",
     "text": [
      "-7\n",
      "0\n"
     ]
    }
   ],
   "source": [
    "\"\"\"强制关键字参数\n",
    "\n",
    "定义在*args或单个*后面\n",
    "使用强制关键字参数比使用位置参数表意更明确，更有可读性\n",
    "\"\"\"\n",
    "\n",
    "\n",
    "# 定义一个寻找最小值的函数\n",
    "def mininum(*nums, clip=None):\n",
    "    m = min(nums)\n",
    "    if clip is not None:\n",
    "        m = clip if clip > m else m\n",
    "    return m\n",
    "\n",
    "\n",
    "# 测试\n",
    "print(mininum(1, -3, 5, -7, 9))\n",
    "print(mininum(1, -3, 5, -7, 9, clip=0))"
   ]
  },
  {
   "cell_type": "code",
   "execution_count": 12,
   "metadata": {},
   "outputs": [
    {
     "name": "stdout",
     "output_type": "stream",
     "text": [
      "2\n",
      "3\n"
     ]
    }
   ],
   "source": [
    "\"\"\"默认值参数\n",
    "\n",
    "无传递时，取默认值\n",
    "有传递时，覆盖默认值\n",
    "\"\"\"\n",
    "\n",
    "\n",
    "def addn(num, n=1):\n",
    "    return num + n\n",
    "\n",
    "\n",
    "# 测试\n",
    "print(addn(1))\n",
    "print(addn(1, 2))"
   ]
  },
  {
   "cell_type": "code",
   "execution_count": 10,
   "metadata": {},
   "outputs": [
    {
     "name": "stdout",
     "output_type": "stream",
     "text": [
      "3\n",
      "Help on function add in module __main__:\n",
      "\n",
      "add(x: int, y: int) -> int\n",
      "    # 定义带参数注解的函数\n",
      "\n"
     ]
    }
   ],
   "source": [
    "\"\"\"使用参数注解给函数增加元信息\n",
    "\n",
    "添加了参数注解的函数运行时和无注解时无差别\n",
    "\"\"\"\n",
    "\n",
    "\n",
    "# 定义带参数注解的函数\n",
    "def add(x:int, y:int) -> int:\n",
    "    return x + y\n",
    "\n",
    "\n",
    "# 测试\n",
    "print(add(1, 2))\n",
    "help(add)"
   ]
  },
  {
   "cell_type": "code",
   "execution_count": 13,
   "metadata": {},
   "outputs": [
    {
     "name": "stdout",
     "output_type": "stream",
     "text": [
      "3\n"
     ]
    }
   ],
   "source": [
    "\"\"\"lambda表达式\n",
    "\n",
    "定义匿名函数和内联函数\n",
    "只能定义单个表达式，该表达式运算的结果就是函数的返回值\n",
    "\"\"\"\n",
    "\n",
    "# 使用lambda表达式定义匿名函数，并赋值给一个变量\n",
    "add = lambda x, y: x + y\n",
    "\n",
    "# 测试\n",
    "print(add(1, 2))"
   ]
  },
  {
   "cell_type": "code",
   "execution_count": 18,
   "metadata": {},
   "outputs": [
    {
     "data": {
      "text/plain": [
       "['Kobe Brynent',\n",
       " 'Keven Durant',\n",
       " 'Lebron James',\n",
       " 'Michale Jordan',\n",
       " 'Jemmy Lin',\n",
       " 'Curry Steven']"
      ]
     },
     "execution_count": 18,
     "metadata": {},
     "output_type": "execute_result"
    }
   ],
   "source": [
    "\"\"\"lambda的应用场景\n",
    "\n",
    "数据排序sorted、reduce等\n",
    "\"\"\"\n",
    "\n",
    "# 对列表中的姓名按last name进行排序\n",
    "names = ['Kobe Brynent', 'Jemmy Lin', 'Curry Steven', 'Keven Durant', 'Lebron James', 'Michale Jordan']\n",
    "\n",
    "sorted(names, key = lambda name: name.split()[-1].lower())"
   ]
  },
  {
   "cell_type": "code",
   "execution_count": 24,
   "metadata": {},
   "outputs": [
    {
     "name": "stdout",
     "output_type": "stream",
     "text": [
      "30\n",
      "30\n",
      "200\n",
      "300\n"
     ]
    }
   ],
   "source": [
    "\"\"\"使用匿名函数捕获变量值\n",
    "\n",
    "普通函数默认参数的值是在定义时就绑定的\n",
    "匿名函数参数的值是自由变量，是在执行时才绑定的\n",
    "\n",
    "要让匿名函数的参数在定义时就捕获到值，可将该参数定义为默认参数\n",
    "\"\"\"\n",
    "\n",
    "# 测试\n",
    "x = 10\n",
    "add1 = lambda y: x + y\n",
    "\n",
    "x = 20\n",
    "add2 = lambda y: x + y\n",
    "\n",
    "print(add1(10))\n",
    "print(add2(10))\n",
    "\n",
    "# 测试\n",
    "a = 100\n",
    "add3 = lambda b, a=a: a + b\n",
    "\n",
    "a = 200\n",
    "add4 = lambda b, a=a: a + b\n",
    "\n",
    "print(add3(100))\n",
    "print(add4(100))"
   ]
  },
  {
   "cell_type": "code",
   "execution_count": 3,
   "metadata": {},
   "outputs": [
    {
     "name": "stdout",
     "output_type": "stream",
     "text": [
      "1 2 3 4\n",
      "1 2 3 4\n",
      "1 2 3 4\n"
     ]
    }
   ],
   "source": [
    "\"\"\"减少可调用对象callable的参数个数\n",
    "\n",
    "偏函数partial()固定某些参数，并返回一个新的callable对象    \n",
    "\"\"\"\n",
    "\n",
    "from functools import partial\n",
    "\n",
    "\n",
    "def test(a, b, c, d):\n",
    "    print(a, b, c, d)\n",
    "    \n",
    "    \n",
    "# 测试\n",
    "t1 = partial(test, 1)  # a = 1\n",
    "t1(2, 3, 4)\n",
    "\n",
    "t2 = partial(test, d=4)  # d = 4\n",
    "t2(1, 2, 3)\n",
    "\n",
    "t3 = partial(test, 1, d=4)  # a = 1, d = 4\n",
    "t3(2, 3)"
   ]
  },
  {
   "cell_type": "code",
   "execution_count": 5,
   "metadata": {},
   "outputs": [
    {
     "data": {
      "text/plain": [
       "[(1, 1), (1, 2), (2, 2), (3, 2), (2, 4), (3, 4)]"
      ]
     },
     "execution_count": 5,
     "metadata": {},
     "output_type": "execute_result"
    }
   ],
   "source": [
    "\"\"\"偏函数的使用举例\"\"\"\n",
    "\n",
    "from functools import partial\n",
    "import math\n",
    "\n",
    "\n",
    "# 用列表保存多个点的坐标，每一个点为一个元祖\n",
    "points = [(3, 2), (1, 2), (2, 4), (2, 2), (1, 1), (3, 4)]\n",
    "\n",
    "\n",
    "# 定义函数计算两点之间的距离\n",
    "def distance(p1, p2):\n",
    "    x1, y1 = p1\n",
    "    x2, y2 = p2\n",
    "    return math.hypot(x2 - x1, y2 - y1)\n",
    "\n",
    "\n",
    "# 以与基点(0, 0)之间的距离进行排序\n",
    "pt = (0, 0)\n",
    "points.sort(key = partial(distance, pt))\n",
    "points"
   ]
  },
  {
   "cell_type": "code",
   "execution_count": 6,
   "metadata": {},
   "outputs": [
    {
     "name": "stdout",
     "output_type": "stream",
     "text": [
      "Result:  3\n",
      "Result:  helloworld\n"
     ]
    }
   ],
   "source": [
    "\"\"\"回调函数\n",
    "\n",
    "回调函数常用在事件处理、等待后台任务完成后的回调等\n",
    "\"\"\"\n",
    "\n",
    "\n",
    "# 定义并调用回调函数\n",
    "def apply_async(func, args, *, callback):\n",
    "    result = func(*args)\n",
    "    callback(result)\n",
    "    \n",
    "    \n",
    "def add(x, y):\n",
    "    return x + y\n",
    "\n",
    "\n",
    "def print_r(result):\n",
    "    print('Result: ', result)\n",
    "    \n",
    "    \n",
    "# 测试\n",
    "apply_async(add, (1, 2), callback=print_r)\n",
    "apply_async(add, ('hello', 'world'), callback=print_r)"
   ]
  },
  {
   "cell_type": "code",
   "execution_count": 7,
   "metadata": {},
   "outputs": [
    {
     "name": "stdout",
     "output_type": "stream",
     "text": [
      "[1] Result: 3\n",
      "[2] Result: helloworld\n"
     ]
    }
   ],
   "source": [
    "\"\"\"让回调函数带额外的状态值\n",
    "\n",
    "使用绑定方法来代替简单的回调函数\n",
    "\"\"\"\n",
    "\n",
    "\n",
    "class ResultHandler:\n",
    "    def __init__(self):\n",
    "        self.seq = 0\n",
    "        \n",
    "    def handler(self, result):\n",
    "        self.seq += 1\n",
    "        print('[{}] Result: {}'.format(self.seq, result))\n",
    "        \n",
    "        \n",
    "# 测试\n",
    "rh = ResultHandler()\n",
    "apply_async(add, (1, 2), callback = rh.handler)\n",
    "apply_async(add, ('hello', 'world'), callback = rh.handler)"
   ]
  },
  {
   "cell_type": "code",
   "execution_count": 9,
   "metadata": {},
   "outputs": [
    {
     "name": "stdout",
     "output_type": "stream",
     "text": [
      "[1] Result: 3\n",
      "[2] Result: helloworld\n"
     ]
    }
   ],
   "source": [
    "\"\"\"使用闭包来捕获状态值\"\"\"\n",
    "\n",
    "\n",
    "def make_handler():\n",
    "    seq = 0\n",
    "    \n",
    "    def handler(result):\n",
    "        nonlocal seq  # 声明变量将在闭包函数中被修改\n",
    "        seq += 1\n",
    "        print('[{}] Result: {}'.format(seq, result))\n",
    "        \n",
    "    return handler\n",
    "\n",
    "\n",
    "# 测试\n",
    "handler = make_handler()\n",
    "apply_async(add, (1, 2), callback = handler)\n",
    "apply_async(add, ('hello', 'world'), callback = handler)"
   ]
  },
  {
   "cell_type": "code",
   "execution_count": 13,
   "metadata": {},
   "outputs": [
    {
     "name": "stdout",
     "output_type": "stream",
     "text": [
      "n =  0\n",
      "n =  1\n"
     ]
    },
    {
     "data": {
      "text/plain": [
       "2"
      ]
     },
     "execution_count": 13,
     "metadata": {},
     "output_type": "execute_result"
    }
   ],
   "source": [
    "\"\"\"访问闭包中的变量\n",
    "\n",
    "通常来讲，闭包中的变量对于外部是隐藏的\n",
    "通过编写访问函数，并将其作为属性绑定到闭包函数上来实现访问闭包内部变量的目的\n",
    "\"\"\"\n",
    "\n",
    "\n",
    "def func():\n",
    "    n = 0\n",
    "    \n",
    "    def print_n():\n",
    "        print('n = ', n)\n",
    "        \n",
    "    def get_n():\n",
    "        return n\n",
    "    \n",
    "    def set_n(val):\n",
    "        nonlocal n\n",
    "        n = val\n",
    "        \n",
    "    # 把访问函数绑定为闭包函数的属性\n",
    "    print_n.get_n = get_n\n",
    "    print_n.set_n = set_n\n",
    "    \n",
    "    return print_n\n",
    "\n",
    "\n",
    "# 测试\n",
    "f = func()\n",
    "f()\n",
    "\n",
    "f.set_n(1)\n",
    "f()\n",
    "\n",
    "f.set_n(2)\n",
    "f.get_n()"
   ]
  },
  {
   "cell_type": "code",
   "execution_count": 4,
   "metadata": {},
   "outputs": [
    {
     "name": "stdout",
     "output_type": "stream",
     "text": [
      "5! = 120\n"
     ]
    }
   ],
   "source": [
    "\"\"\"递归函数\n",
    "\n",
    "在函数内部调用自身的函数\n",
    "递归函数的优点是定义简单，逻辑清晰\n",
    "\n",
    "用递归函数需要注意防止栈溢出\n",
    "函数调用是通过栈（stack）这种数据结构实现的，每当进入一个函数调用，栈就会加一层栈帧，每当函数返回，栈就会减一层栈帧\n",
    "由于栈的大小不是无限的，所以，递归调用的次数过多，会导致栈溢出\n",
    "\n",
    "解决递归调用栈溢出的方法是通过尾递归优化\n",
    "尾递归事实上和循环是等价的\n",
    "\"\"\"\n",
    "\n",
    "# 求阶乘函数\n",
    "def fact(n):\n",
    "    if n == 1:\n",
    "        return 1\n",
    "    return fact(n-1) * n\n",
    "\n",
    "print('5! =', fact(5))"
   ]
  }
 ],
 "metadata": {
  "kernelspec": {
   "display_name": "Python 3",
   "language": "python",
   "name": "python3"
  },
  "language_info": {
   "codemirror_mode": {
    "name": "ipython",
    "version": 3
   },
   "file_extension": ".py",
   "mimetype": "text/x-python",
   "name": "python",
   "nbconvert_exporter": "python",
   "pygments_lexer": "ipython3",
   "version": "3.7.1"
  }
 },
 "nbformat": 4,
 "nbformat_minor": 2
}
