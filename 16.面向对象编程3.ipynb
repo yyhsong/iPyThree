{
 "cells": [
  {
   "cell_type": "code",
   "execution_count": 9,
   "metadata": {},
   "outputs": [
    {
     "name": "stdout",
     "output_type": "stream",
     "text": [
      "<class 'str'>\n",
      "True\n",
      "True\n",
      "<class 'type'>\n",
      "<class 'function'>\n",
      "<class 'type'>\n",
      "True\n",
      "True\n",
      "True\n",
      "True\n"
     ]
    }
   ],
   "source": [
    "\"\"\"使用type()函数判断对象类型\"\"\"\n",
    "\n",
    "# 判断基本数据类型\n",
    "print(type('abc'))\n",
    "print(type('abc') == type('xyz'))\n",
    "print(type('abc') == str)\n",
    "\n",
    "# 判断对象或函数\n",
    "class clazz:\n",
    "    pass\n",
    "\n",
    "def fn():\n",
    "    pass\n",
    "\n",
    "print(type(clazz))\n",
    "print(type(fn))\n",
    "print(type(type))\n",
    "\n",
    "# 判断一个对象是否为函数\n",
    "import types\n",
    "\n",
    "print(type(fn) == types.FunctionType)\n",
    "print(type(abs) == types.BuiltinFunctionType)\n",
    "print(type(lambda x: x) == types.LambdaType)\n",
    "print(type(x for x in range(10)) == types.GeneratorType)"
   ]
  },
  {
   "cell_type": "code",
   "execution_count": 10,
   "metadata": {},
   "outputs": [
    {
     "name": "stdout",
     "output_type": "stream",
     "text": [
      "True\n",
      "True\n",
      "False\n"
     ]
    }
   ],
   "source": [
    "\"\"\"使用isinstance()判断是否为某对象实例\"\"\"\n",
    "\n",
    "# 判断一个变量是否为某类型中的一种\n",
    "print(isinstance([1, 2, 3], (list, tuple)))\n",
    "print(isinstance((1, 2, 3), (list, tuple)))\n",
    "print(isinstance({\"num\": 1}, (list, tuple)))"
   ]
  },
  {
   "cell_type": "code",
   "execution_count": 13,
   "metadata": {},
   "outputs": [
    {
     "name": "stdout",
     "output_type": "stream",
     "text": [
      "['__add__', '__class__', '__contains__', '__delattr__', '__dir__', '__doc__', '__eq__', '__format__', '__ge__', '__getattribute__', '__getitem__', '__getnewargs__', '__gt__', '__hash__', '__init__', '__init_subclass__', '__iter__', '__le__', '__len__', '__lt__', '__mod__', '__mul__', '__ne__', '__new__', '__reduce__', '__reduce_ex__', '__repr__', '__rmod__', '__rmul__', '__setattr__', '__sizeof__', '__str__', '__subclasshook__', 'capitalize', 'casefold', 'center', 'count', 'encode', 'endswith', 'expandtabs', 'find', 'format', 'format_map', 'index', 'isalnum', 'isalpha', 'isascii', 'isdecimal', 'isdigit', 'isidentifier', 'islower', 'isnumeric', 'isprintable', 'isspace', 'istitle', 'isupper', 'join', 'ljust', 'lower', 'lstrip', 'maketrans', 'partition', 'replace', 'rfind', 'rindex', 'rjust', 'rpartition', 'rsplit', 'rstrip', 'split', 'splitlines', 'startswith', 'strip', 'swapcase', 'title', 'translate', 'upper', 'zfill']\n",
      "3\n",
      "3\n",
      "100\n"
     ]
    }
   ],
   "source": [
    "\"\"\"使用dir()获取一个对象的所有属性和方法\"\"\"\n",
    "\n",
    "print(dir('abc'))\n",
    "\n",
    "# __xxx__是有特殊用途的属性或方法\n",
    "print(len('abc'))\n",
    "# 等价于\n",
    "print('abc'.__len__())\n",
    "\n",
    "# 自定义__xxx__方法\n",
    "class Clazz:\n",
    "    def __len__(self):\n",
    "        return 100\n",
    "    \n",
    "c = Clazz()\n",
    "print(len(c)) # 自动调用class内部的__len__方法"
   ]
  },
  {
   "cell_type": "code",
   "execution_count": 17,
   "metadata": {},
   "outputs": [
    {
     "name": "stdout",
     "output_type": "stream",
     "text": [
      "True\n",
      "1\n",
      "2\n"
     ]
    }
   ],
   "source": [
    "# 使用getattr() setattr() hasattr()方法操作对象状态\n",
    "\n",
    "class MyObject:\n",
    "    def __init__(self):\n",
    "        self.x = 1\n",
    "    \n",
    "obj = MyObject()\n",
    "\n",
    "print(hasattr(obj, 'x'))\n",
    "print(getattr(obj, 'x'))\n",
    "# print(getattr(obj, 'y'))\n",
    "\n",
    "setattr(obj, 'y', 2)\n",
    "print(getattr(obj, 'y'))"
   ]
  },
  {
   "cell_type": "code",
   "execution_count": 20,
   "metadata": {},
   "outputs": [
    {
     "name": "stdout",
     "output_type": "stream",
     "text": [
      "Person\n",
      "Neo\n",
      "33\n",
      "Person\n"
     ]
    }
   ],
   "source": [
    "\"\"\"实例属性和类属性\n",
    "\n",
    "python是动态语言，类的实例可以绑定任意属性\n",
    "给实例绑定属性，可以通过实例变量，或者self变量\n",
    "\n",
    "可以直接在类中定义类属性，归类本身所有，所有该类的实例均可访问\n",
    "实例属性会覆盖同名类属性\n",
    "\"\"\"\n",
    "\n",
    "class Person:\n",
    "    name = 'Person'  # 类属性\n",
    "    \n",
    "    def __init__(self, name):\n",
    "        self.name = name  # 实例属性\n",
    "        \n",
    "p = Person('Neo')\n",
    "p.age = 33  # 给实例绑定新属性\n",
    "\n",
    "print(Person.name)\n",
    "print(p.name)\n",
    "print(p.age)\n",
    "\n",
    "del p.name  # 删除实例属性\n",
    "print(p.name)"
   ]
  },
  {
   "cell_type": "code",
   "execution_count": 22,
   "metadata": {},
   "outputs": [
    {
     "name": "stdout",
     "output_type": "stream",
     "text": [
      "Hello, Neo\n",
      "Hello, Neo2\n"
     ]
    }
   ],
   "source": [
    "\"\"\"给类和实例动态绑定方法\n",
    "\n",
    "动态绑定的意义在于可以在程序运行过程中，动态地给类增加新的方法\n",
    "\"\"\"\n",
    "\n",
    "class Person:\n",
    "    def __init__(self, name):\n",
    "        self.name = name\n",
    "        \n",
    "def say_hello(self):\n",
    "    print('Hello,', self.name)\n",
    "    \n",
    "    \n",
    "# 给实例绑定方法\n",
    "# 给实例绑定的方法只对当前实例有用\n",
    "from types import MethodType\n",
    "\n",
    "p = Person('Neo')\n",
    "p.say_hello = MethodType(say_hello, p)\n",
    "p.say_hello()\n",
    "\n",
    "# 给类绑定方法，对该类的所有实例都有用\n",
    "Person.say_hello = say_hello\n",
    "\n",
    "p2 = Person('Neo2')\n",
    "p2.say_hello()"
   ]
  },
  {
   "cell_type": "code",
   "execution_count": 23,
   "metadata": {},
   "outputs": [
    {
     "ename": "AttributeError",
     "evalue": "'Person' object has no attribute 'score'",
     "output_type": "error",
     "traceback": [
      "\u001b[1;31m---------------------------------------------------------------------------\u001b[0m",
      "\u001b[1;31mAttributeError\u001b[0m                            Traceback (most recent call last)",
      "\u001b[1;32m<ipython-input-23-98cc839bb984>\u001b[0m in \u001b[0;36m<module>\u001b[1;34m\u001b[0m\n\u001b[0;32m     12\u001b[0m \u001b[0mp\u001b[0m\u001b[1;33m.\u001b[0m\u001b[0mname\u001b[0m \u001b[1;33m=\u001b[0m \u001b[1;34m'Neo'\u001b[0m\u001b[1;33m\u001b[0m\u001b[1;33m\u001b[0m\u001b[0m\n\u001b[0;32m     13\u001b[0m \u001b[0mp\u001b[0m\u001b[1;33m.\u001b[0m\u001b[0mage\u001b[0m \u001b[1;33m=\u001b[0m \u001b[1;36m33\u001b[0m\u001b[1;33m\u001b[0m\u001b[1;33m\u001b[0m\u001b[0m\n\u001b[1;32m---> 14\u001b[1;33m \u001b[0mp\u001b[0m\u001b[1;33m.\u001b[0m\u001b[0mscore\u001b[0m \u001b[1;33m=\u001b[0m \u001b[1;36m100\u001b[0m\u001b[1;33m\u001b[0m\u001b[1;33m\u001b[0m\u001b[0m\n\u001b[0m",
      "\u001b[1;31mAttributeError\u001b[0m: 'Person' object has no attribute 'score'"
     ]
    }
   ],
   "source": [
    "\"\"\"使用__slots__限制可以绑定的属性和方法\n",
    "\n",
    "__slots__定义的属性仅对当前类起作用，对继承的子类不起作用\n",
    "除非在子类中也定义__slots__，这样子类允许定义的属性就是自身的__slots__加上父类的__slots\n",
    "\"\"\"\n",
    "\n",
    "class Person:\n",
    "    # 用tuple定义允许绑定的属性名称\n",
    "    __slots__ = ('name', 'age')\n",
    "    \n",
    "\n",
    "p = Person()\n",
    "p.name = 'Neo'\n",
    "p.age = 33\n",
    "p.score = 100 # 无法绑定"
   ]
  }
 ],
 "metadata": {
  "kernelspec": {
   "display_name": "Python 3 (ipykernel)",
   "language": "python",
   "name": "python3"
  },
  "language_info": {
   "codemirror_mode": {
    "name": "ipython",
    "version": 3
   },
   "file_extension": ".py",
   "mimetype": "text/x-python",
   "name": "python",
   "nbconvert_exporter": "python",
   "pygments_lexer": "ipython3",
   "version": "3.11.4"
  }
 },
 "nbformat": 4,
 "nbformat_minor": 2
}
