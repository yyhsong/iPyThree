{
 "cells": [
  {
   "cell_type": "code",
   "execution_count": 7,
   "metadata": {},
   "outputs": [
    {
     "name": "stdout",
     "output_type": "stream",
     "text": [
      "Setting name to Jordan\n",
      "Getting name\n",
      "Jordan\n",
      "Setting name to James\n",
      "Getting name\n",
      "James\n"
     ]
    }
   ],
   "source": [
    "# 父类\n",
    "# 在类中，一个property其实是getter、setter和deleter方法的集合，而不是单个方法\n",
    "class SuperPerson:\n",
    "    \n",
    "    def __init__(self, name):\n",
    "        self.name = name\n",
    "        \n",
    "    # Getter\n",
    "    @property\n",
    "    def name(self):\n",
    "        return self._name\n",
    "    \n",
    "    # Setter\n",
    "    @name.setter\n",
    "    def name(self, value):\n",
    "        if not isinstance(value, str):\n",
    "            raise TypeError('Expected a string')\n",
    "        self._name = value\n",
    "        \n",
    "    # Deleter\n",
    "    @name.deleter\n",
    "    def name(self):\n",
    "        raise AttributeError('Can\\'t delete attribute')\n",
    "        \n",
    "            \n",
    "# 子类\n",
    "# 在子类中扩展property\n",
    "# 当扩展一个property的时候，需要先确定是否要重新定义所有的方法还是只修改其中某一个\n",
    "class SubPerson(SuperPerson):\n",
    "    \n",
    "    # Getter\n",
    "    @property\n",
    "    def name(self):\n",
    "        print('Getting name')\n",
    "        return super().name\n",
    "    \n",
    "    # Setter\n",
    "    @name.setter\n",
    "    def name(self, value):\n",
    "        print('Setting name to', value)\n",
    "        super(SubPerson, SubPerson).name.__set__(self, value)\n",
    "    \n",
    "    # Deleter\n",
    "    @name.deleter\n",
    "    def name(self):\n",
    "        print('Deleting name')\n",
    "        super(SubPerson, SubPerson).name.__delete__(self)\n",
    "        \n",
    "\n",
    "# 测试\n",
    "person = SubPerson('Jordan')\n",
    "print(person.name)\n",
    "person.name = 'James'\n",
    "print(person.name)"
   ]
  },
  {
   "cell_type": "code",
   "execution_count": 18,
   "metadata": {},
   "outputs": [
    {
     "name": "stdout",
     "output_type": "stream",
     "text": [
      "This is Circle R3\n",
      "Circle(3)\n"
     ]
    },
    {
     "data": {
      "text/plain": [
       "Circle(3)"
      ]
     },
     "execution_count": 18,
     "metadata": {},
     "output_type": "execute_result"
    }
   ],
   "source": [
    "# 改变对象实例的打印或显示输出，使其更有可读性\n",
    "# 重新定义类的__repr__和__str__方法\n",
    "# __repr__方法返回实例的代码表示，通常用来重新构造这个实例，可以在使用交互式解析器（如Jupyter Notebook）时显示\n",
    "# __str__方法将实例转换为一个字符串，使用str()和print()函数会输出这个字符串\n",
    "\n",
    "\n",
    "class Circle:\n",
    "    \n",
    "    def __init__(self, r):\n",
    "        self.r = r\n",
    "    \n",
    "    def __repr__(self):\n",
    "        return 'Circle({0.r})'.format(self)\n",
    "    \n",
    "    def __str__(self):\n",
    "        return 'This is Circle R{0.r}'.format(self)\n",
    "\n",
    "\n",
    "# 测试    \n",
    "p = Circle(3)\n",
    "print(p)\n",
    "\n",
    "# !r格式化指明使用__repr__来代替默认的__str__\n",
    "print('{0!r}'.format(p))\n",
    "\n",
    "# 交互式解释器输出\n",
    "p"
   ]
  },
  {
   "cell_type": "code",
   "execution_count": 25,
   "metadata": {},
   "outputs": [
    {
     "name": "stdout",
     "output_type": "stream",
     "text": [
      "2020-4-24\n",
      "4/24/2020\n",
      "Today is 24/4/2020\n"
     ]
    }
   ],
   "source": [
    "# 通过format()函数和字符串方法使对象支持自定义的格式化\n",
    "\n",
    "# 集合\n",
    "_formats = {\n",
    "    'ymd': '{d.year}-{d.month}-{d.day}',\n",
    "    'mdy': '{d.month}/{d.day}/{d.year}',\n",
    "    'dmy': '{d.day}/{d.month}/{d.year}'\n",
    "}\n",
    "\n",
    "\n",
    "class Fdate:\n",
    "    \n",
    "    def __init__(self, year, month, day):\n",
    "        self.year = year\n",
    "        self.month = month\n",
    "        self.day = day\n",
    "        \n",
    "    def __format__(self, code):\n",
    "        if code == '':\n",
    "            code = 'ymd'\n",
    "        fmt = _formats[code]\n",
    "        return fmt.format(d = self)\n",
    "    \n",
    "    \n",
    "# 测试\n",
    "fd = Fdate(2020, 4, 24)\n",
    "print(format(fd))\n",
    "print(format(fd, 'mdy'))\n",
    "print('Today is {:dmy}'.format(fd))"
   ]
  },
  {
   "cell_type": "code",
   "execution_count": null,
   "metadata": {},
   "outputs": [],
   "source": []
  },
  {
   "cell_type": "code",
   "execution_count": null,
   "metadata": {},
   "outputs": [],
   "source": []
  },
  {
   "cell_type": "code",
   "execution_count": null,
   "metadata": {},
   "outputs": [],
   "source": []
  },
  {
   "cell_type": "code",
   "execution_count": null,
   "metadata": {},
   "outputs": [],
   "source": []
  },
  {
   "cell_type": "code",
   "execution_count": null,
   "metadata": {},
   "outputs": [],
   "source": []
  },
  {
   "cell_type": "code",
   "execution_count": null,
   "metadata": {},
   "outputs": [],
   "source": []
  },
  {
   "cell_type": "code",
   "execution_count": null,
   "metadata": {},
   "outputs": [],
   "source": []
  },
  {
   "cell_type": "code",
   "execution_count": null,
   "metadata": {},
   "outputs": [],
   "source": []
  },
  {
   "cell_type": "code",
   "execution_count": null,
   "metadata": {},
   "outputs": [],
   "source": []
  },
  {
   "cell_type": "code",
   "execution_count": null,
   "metadata": {},
   "outputs": [],
   "source": []
  },
  {
   "cell_type": "code",
   "execution_count": null,
   "metadata": {},
   "outputs": [],
   "source": []
  },
  {
   "cell_type": "code",
   "execution_count": null,
   "metadata": {},
   "outputs": [],
   "source": []
  },
  {
   "cell_type": "code",
   "execution_count": null,
   "metadata": {},
   "outputs": [],
   "source": []
  }
 ],
 "metadata": {
  "kernelspec": {
   "display_name": "Python 3",
   "language": "python",
   "name": "python3"
  },
  "language_info": {
   "codemirror_mode": {
    "name": "ipython",
    "version": 3
   },
   "file_extension": ".py",
   "mimetype": "text/x-python",
   "name": "python",
   "nbconvert_exporter": "python",
   "pygments_lexer": "ipython3",
   "version": "3.7.1"
  }
 },
 "nbformat": 4,
 "nbformat_minor": 2
}
