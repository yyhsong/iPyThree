{
 "cells": [
  {
   "cell_type": "code",
   "execution_count": 3,
   "metadata": {},
   "outputs": [
    {
     "data": {
      "text/plain": [
       "[Player(3), Player(7), Player(11), Player(23), Player(24)]"
      ]
     },
     "execution_count": 3,
     "metadata": {},
     "output_type": "execute_result"
    }
   ],
   "source": [
    "\"\"\"对不支持原生比较的对象进行排序\"\"\"\n",
    "\n",
    "from operator import attrgetter\n",
    "\n",
    "\n",
    "class Player:\n",
    "    def __init__(self, num):\n",
    "        self.num = num\n",
    "        \n",
    "    def __repr__(self):\n",
    "        return 'Player({})'.format(self.num)\n",
    "    \n",
    "    \n",
    "players = [Player(7), Player(3), Player(23), Player(11), Player(24)]\n",
    "\n",
    "# 使用lambda方式排序\n",
    "sorted(players, key=lambda p: p.num)\n",
    "\n",
    "# 使用attrgetter方式排序\n",
    "sorted(players, key=attrgetter('num'))"
   ]
  },
  {
   "cell_type": "code",
   "execution_count": 6,
   "metadata": {},
   "outputs": [
    {
     "name": "stdout",
     "output_type": "stream",
     "text": [
      "Apple\n",
      "{'name': 'Apple', 'model': 'iPhone 11 Pro'}\n",
      "{'name': 'Apple', 'model': 'iPhone SE'}\n",
      "{'name': 'Apple', 'model': 'iPhone 10 Plus'}\n",
      "HuaWei\n",
      "{'name': 'HuaWei', 'model': 'Mate 30'}\n",
      "{'name': 'HuaWei', 'model': 'Mate 20'}\n",
      "Mi\n",
      "{'name': 'Mi', 'model': 'MI 10'}\n",
      "{'name': 'Mi', 'model': 'MI 9'}\n"
     ]
    }
   ],
   "source": [
    "\"\"\"通过特定字段对元素进行分组\"\"\"\n",
    "\n",
    "from operator import itemgetter\n",
    "from itertools import groupby\n",
    "\n",
    "phones = [\n",
    "    {'name': 'Apple', 'model': 'iPhone 11 Pro'},\n",
    "    {'name': 'Mi', 'model': 'MI 10'},\n",
    "    {'name': 'HuaWei', 'model': 'Mate 30'},\n",
    "    {'name': 'Apple', 'model': 'iPhone SE'},\n",
    "    {'name': 'HuaWei', 'model': 'Mate 20'},\n",
    "    {'name': 'Mi', 'model': 'MI 9'},\n",
    "    {'name': 'Apple', 'model': 'iPhone 10 Plus'}\n",
    "]\n",
    "\n",
    "# 首先用预分组字段进行排序\n",
    "phones.sort(key=itemgetter('name'))\n",
    "# print(phones)\n",
    "\n",
    "# 分组遍历\n",
    "# groupby()扫描整个序列并查找相同连续值，因此首先应该进行排序\n",
    "for name,items in groupby(phones, key=itemgetter('name')):\n",
    "    print(name)\n",
    "    for item in items:\n",
    "        print(item)"
   ]
  },
  {
   "cell_type": "code",
   "execution_count": 12,
   "metadata": {},
   "outputs": [
    {
     "name": "stdout",
     "output_type": "stream",
     "text": [
      "[1, 3, 5, 7, 9]\n",
      "[1.0, 1.7320508075688772, 2.23606797749979, 2.6457513110645907, 3.0]\n",
      "-2\n",
      "-4\n",
      "-6\n",
      "-8\n",
      "[1, -2, 3, -4, 5, -6, 7, -8, 9]\n"
     ]
    }
   ],
   "source": [
    "\"\"\"过滤序列元素\"\"\"\n",
    "\n",
    "# 列表推导\n",
    "nums = [1, -2, 3, -4, 5, -6, 7, -8, 9]\n",
    "print([n for n in nums if n > 0])\n",
    "\n",
    "import math\n",
    "print([math.sqrt(n) for n in nums if n > 0])\n",
    "\n",
    "# 使用生成器表达式迭代产生过滤的元素\n",
    "ns = (n for n in nums if n < 0)\n",
    "for n in ns:\n",
    "    print(n)\n",
    "    \n",
    "# 使用filter()函数，处理复杂的过滤规则\n",
    "nums2 = [1, -2, 'a', 3, -4, 5, '-', -6, 7, 'N/A', -8, 9]\n",
    "\n",
    "def is_int(val):\n",
    "    try:\n",
    "        n = int(val)\n",
    "        return True\n",
    "    except ValueError:\n",
    "        return False\n",
    "    \n",
    "print(list(filter(is_int, nums2)))"
   ]
  },
  {
   "cell_type": "code",
   "execution_count": 14,
   "metadata": {},
   "outputs": [
    {
     "name": "stdout",
     "output_type": "stream",
     "text": [
      "[True, True, True, False, False, False]\n"
     ]
    },
    {
     "data": {
      "text/plain": [
       "['red', 'green', 'blue']"
      ]
     },
     "execution_count": 14,
     "metadata": {},
     "output_type": "execute_result"
    }
   ],
   "source": [
    "\"\"\"用另外一个相关联的序列来过滤某个序列\"\"\"\n",
    "\n",
    "from itertools import compress\n",
    "\n",
    "colors = ['red', 'green', 'blue', 'black', 'white', 'navy']\n",
    "color_index = [1, 2, 3, 4, 5, 6]\n",
    "top3 = [i <= 3 for i in color_index]\n",
    "print(top3)\n",
    "list(compress(colors, top3))"
   ]
  },
  {
   "cell_type": "code",
   "execution_count": 10,
   "metadata": {},
   "outputs": [
    {
     "name": "stdout",
     "output_type": "stream",
     "text": [
      "{'black': 4, 'white': 5, 'gray': 6}\n",
      "{'red': 1, 'green': 2, 'blue': 3}\n",
      "{'black': 4, 'white': 5, 'gray': 6}\n",
      "{'blue': 3, 'red': 1, 'green': 2}\n"
     ]
    }
   ],
   "source": [
    "\"\"\"使用字典推导从字典中提取子集\"\"\"\n",
    "\n",
    "colors = {\n",
    "    'red': 1,\n",
    "    'green': 2,\n",
    "    'blue': 3,\n",
    "    'black': 4,\n",
    "    'white': 5,\n",
    "    'gray': 6\n",
    "}\n",
    "\n",
    "print({key: val for key, val in colors.items() if val > 3})\n",
    "\n",
    "rgb = {'red', 'green', 'blue'}\n",
    "print({key: val for key, val in colors.items() if key in rgb})\n",
    "\n",
    "# 以下方式执行速度较慢\n",
    "print(dict((key, val) for key, val in colors.items() if val > 3))\n",
    "print({key: colors[key] for key in colors.keys() & rgb})"
   ]
  },
  {
   "cell_type": "code",
   "execution_count": 14,
   "metadata": {},
   "outputs": [
    {
     "name": "stdout",
     "output_type": "stream",
     "text": [
      "Color(name='red', code='ff0000')\n",
      "red\n",
      "ff0000\n",
      "2\n",
      "red\n",
      "ff0000\n"
     ]
    }
   ],
   "source": [
    "\"\"\"命名元祖 - 映射名称到序列元素\n",
    "\n",
    "命名元祖可以避免过多的下标操作\n",
    "相对字典，命名元祖更加高效，但不可更改\n",
    "\"\"\"\n",
    "\n",
    "from collections import namedtuple\n",
    "\n",
    "# namedtuple()函数返回标准元祖类型子类的一个工厂方法\n",
    "# 传递一个类型名称和需要的字段给它，它就会返回一个类\n",
    "Color = namedtuple('Color', ['name', 'code'])\n",
    "c = Color('red', 'ff0000')\n",
    "\n",
    "print(c)\n",
    "print(c.name)\n",
    "print(c.code)\n",
    "\n",
    "# 使用namedtuple()构建的实例看起来像一个普通的类实例\n",
    "# 但它跟元祖类型是可交换的，支持所有的普通元祖操作，比如索引和解压\n",
    "print(len(c))\n",
    "name, code = c\n",
    "print(name)\n",
    "print(code)"
   ]
  },
  {
   "cell_type": "code",
   "execution_count": 8,
   "metadata": {},
   "outputs": [
    {
     "name": "stdout",
     "output_type": "stream",
     "text": [
      "55\n",
      "55\n",
      "55\n",
      "{'txt': 'three', 'val': 3}\n"
     ]
    }
   ],
   "source": [
    "\"\"\"聚集函数\n",
    "\n",
    "如sum()、max()、min()等\n",
    "在执行聚集函数时，可以使用生成器表达式作为参数\n",
    "\"\"\"\n",
    "\n",
    "nums = [1, 2, 3, 4, 5]\n",
    "\n",
    "# 该方式会创建一个临时列表\n",
    "print(sum([n*n for n in nums]))\n",
    "\n",
    "# 更加高效\n",
    "print(sum((n*n for n in nums)))\n",
    "\n",
    "# 可以省略括号\n",
    "print(sum(n*n for n in nums))\n",
    "\n",
    "# 对于字典，可以使用key关键字\n",
    "nums2 = [\n",
    "    {'txt': 'one', 'val': 1},\n",
    "    {'txt': 'two', 'val': 2},\n",
    "    {'txt': 'three', 'val': 3}\n",
    "]\n",
    "print(max(nums2, key=lambda n: n['val']))"
   ]
  },
  {
   "cell_type": "code",
   "execution_count": 17,
   "metadata": {},
   "outputs": [
    {
     "name": "stdout",
     "output_type": "stream",
     "text": [
      "ChainMap({'red': 'ff0000', 'green': '00ff00', 'blue': '0000ff'}, {'black': '000000', 'white': 'ffffff', 'red': '红色'})\n",
      "5\n",
      "KeysView(ChainMap({'red': 'ff0000', 'green': '00ff00', 'blue': '0000ff'}, {'black': '000000', 'white': 'ffffff', 'red': '红色'}))\n",
      "ValuesView(ChainMap({'red': 'ff0000', 'green': '00ff00', 'blue': '0000ff'}, {'black': '000000', 'white': 'ffffff', 'red': '红色'}))\n",
      "ItemsView(ChainMap({'red': 'ff0000', 'green': '00ff00', 'blue': '0000ff'}, {'black': '000000', 'white': 'ffffff', 'red': '红色'}))\n",
      "ff0000\n",
      "000000\n"
     ]
    }
   ],
   "source": [
    "\"\"\"合并多个字典或映射\n",
    "\n",
    "ChainMap接受多个字典参数，并将它们在逻辑上变成一个字典\n",
    "\n",
    "ChainMap只是在内部创建了一个容纳多个字典的列表，并非创建了一个新的字典结构\n",
    "ChainMap重新定义了一些常见的字典操作来遍历这个列表，大部分字典操作都可以正常使用\n",
    "如果出现重复键，那么将返回第一次映射到的值\n",
    "\"\"\"\n",
    "\n",
    "from collections import ChainMap\n",
    "\n",
    "colors1 = {'red': 'ff0000', 'green': '00ff00', 'blue': '0000ff'}\n",
    "colors2 = {'black': '000000', 'white': 'ffffff', 'red': '红色'}\n",
    "\n",
    "colors = ChainMap(colors1, colors2)\n",
    "\n",
    "print(colors)\n",
    "\n",
    "print(len(colors))\n",
    "print(colors.keys())\n",
    "print(colors.values())\n",
    "print(colors.items())\n",
    "\n",
    "print(colors['red'])\n",
    "print(colors['black'])"
   ]
  }
 ],
 "metadata": {
  "kernelspec": {
   "display_name": "Python 3 (ipykernel)",
   "language": "python",
   "name": "python3"
  },
  "language_info": {
   "codemirror_mode": {
    "name": "ipython",
    "version": 3
   },
   "file_extension": ".py",
   "mimetype": "text/x-python",
   "name": "python",
   "nbconvert_exporter": "python",
   "pygments_lexer": "ipython3",
   "version": "3.11.4"
  }
 },
 "nbformat": 4,
 "nbformat_minor": 2
}
